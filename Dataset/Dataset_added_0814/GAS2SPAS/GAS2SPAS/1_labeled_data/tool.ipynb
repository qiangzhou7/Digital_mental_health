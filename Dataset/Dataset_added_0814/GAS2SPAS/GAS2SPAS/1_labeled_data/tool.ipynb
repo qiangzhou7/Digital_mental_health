{
 "cells": [
  {
   "cell_type": "code",
   "execution_count": 3,
   "metadata": {},
   "outputs": [],
   "source": [
    "import os\n",
    "import json\n",
    "\n",
    "def merge_json_files(folder_path, output_file):\n",
    "    merged_data = []\n",
    "\n",
    "    # 遍历文件夹中的所有文件\n",
    "    for filename in os.listdir(folder_path):\n",
    "        if filename.endswith('.json'):\n",
    "            file_path = os.path.join(folder_path, filename)\n",
    "            # 打开并读取JSON文件\n",
    "            with open(file_path, 'r', encoding='utf-8') as f:\n",
    "                data = json.load(f)\n",
    "                # 检查并提取字典中的内容\n",
    "                merged_data.extend(data)\n",
    "\n",
    "    # 将合并后的数据写入输出文件\n",
    "    with open(output_file, 'w', encoding='utf-8') as f:\n",
    "        json.dump(merged_data, f, ensure_ascii=False, indent=4)\n",
    "\n",
    "# 使用示例\n",
    "folder_path = '/home/qiang/projects/Digital_mental_health/Dataset/Event_Extraction'  # 请替换为你的文件夹路径\n",
    "output_file = 'GAS_SPAS_EVENT.json'  # 输出的合并文件名\n",
    "merge_json_files(folder_path, output_file)"
   ]
  },
  {
   "cell_type": "code",
   "execution_count": 4,
   "metadata": {},
   "outputs": [],
   "source": [
    "import json\n",
    "\n",
    "json_file=\"/home/qiang/projects/Digital_mental_health/Dataset/Dataset_added_0814/GAS2SPAS/GAS2SPAS/1_labeled_data/test_merged.json\"\n",
    "\n",
    "# Assume 'data.json' is your original file\n",
    "with open(json_file, 'r') as file:\n",
    "    data = json.load(file)\n",
    "\n",
    "# Create a new list to hold the transformed data\n",
    "new_data = []\n",
    "\n",
    "# Loop through the original data and reformat it\n",
    "for item in data:\n",
    "    new_data.append({\n",
    "        \"Post\": item[\"Post\"],\n",
    "        \"label\": \"GAS\"  # Assuming IAS represents the original post label\n",
    "    })\n",
    "    new_data.append({\n",
    "        \"Post\": item[\"Transferred_Post\"],\n",
    "        \"label\": \"SPAS\"  # Assuming EAS represents the transferred post label\n",
    "    })\n",
    "\n",
    "# Write the new data to a file\n",
    "with open(json_file, 'w') as file:\n",
    "    json.dump(new_data, file, indent=2)"
   ]
  }
 ],
 "metadata": {
  "kernelspec": {
   "display_name": "base",
   "language": "python",
   "name": "python3"
  },
  "language_info": {
   "codemirror_mode": {
    "name": "ipython",
    "version": 3
   },
   "file_extension": ".py",
   "mimetype": "text/x-python",
   "name": "python",
   "nbconvert_exporter": "python",
   "pygments_lexer": "ipython3",
   "version": "3.11.5"
  }
 },
 "nbformat": 4,
 "nbformat_minor": 2
}
