{
 "cells": [
  {
   "cell_type": "code",
   "execution_count": 3,
   "metadata": {},
   "outputs": [],
   "source": [
    "import json\n",
    "import random\n",
    "\n",
    "# 读取JSON文件\n",
    "with open('/home/qiang/projects/Digital_mental_health/Dataset/refined_dataset/TURUI_SAS2UAS_sentiment_sorted.json', 'r') as f:\n",
    "    data = json.load(f)\n",
    "\n",
    "# 从中选择100个元素\n",
    "selected_elements = random.sample(data, 100)\n",
    "\n",
    "# 创建一个新的JSON对象\n",
    "new_data = {\n",
    "    \"selected_elements\": selected_elements\n",
    "}\n",
    "\n",
    "# 将新的JSON对象保存到新文件中\n",
    "with open('/home/qiang/projects/Digital_mental_health/Dataset/refined_dataset/100/SAS2UAS.json', 'w') as f:\n",
    "    json.dump(new_data, f, indent=4)\n"
   ]
  },
  {
   "cell_type": "code",
   "execution_count": 10,
   "metadata": {},
   "outputs": [],
   "source": [
    "import json\n",
    "\n",
    "json_name=\"/home/qiang/projects/Digital_mental_health/Dataset/refined_dataset/100/SAS2UAS.json\"\n",
    "\n",
    "# 读取JSON文件\n",
    "with open(json_name, 'r') as f:\n",
    "    data = json.load(f)\n",
    "\n",
    "# 只保留所需的字段\n",
    "new_data = []\n",
    "for element in data:\n",
    "    \n",
    "    new_element = {\n",
    "        \"Post\": element[\"Post\"],\n",
    "        \"Transferred_Post\": element[\"Transferred_Post\"]\n",
    "    }\n",
    "    new_data.append(new_element)\n",
    "\n",
    "# 将修改后的数据保存回原来的JSON文件中\n",
    "with open(json_name, 'w') as f:\n",
    "    json.dump(new_data, f, indent=4)\n"
   ]
  },
  {
   "cell_type": "markdown",
   "metadata": {},
   "source": []
  },
  {
   "cell_type": "code",
   "execution_count": 24,
   "metadata": {},
   "outputs": [],
   "source": [
    "import json\n",
    "\n",
    "# 加载JSON文件的函数\n",
    "def load_json(filename):\n",
    "    with open(filename, 'r', encoding='utf-8') as file:\n",
    "        return json.load(file)\n",
    "\n",
    "# 保存JSON文件的函数\n",
    "def save_json(filename, data):\n",
    "    with open(filename, 'w', encoding='utf-8') as file:\n",
    "        json.dump(data, file, indent=4, ensure_ascii=False)\n",
    "\n",
    "# 主要的逻辑函数\n",
    "def update_posts(file1_path, file2_path):\n",
    "    # 加载文件\n",
    "    file1_data = load_json(file1_path)\n",
    "    file2_data = load_json(file2_path)\n",
    "\n",
    "    # 创建一个以Post为键，llama2:70B为值的字典，方便查找和更新\n",
    "    transferred_posts = {item['Post']: item['Transferred_Post'] for item in file2_data}\n",
    "\n",
    "    # 更新第一个文件\n",
    "    for item in file1_data:\n",
    "        post = item.get('Post')\n",
    "        if post in transferred_posts:\n",
    "            item['llama2:70B'] = transferred_posts[post]\n",
    "\n",
    "    # 返回更新后的第一个文件内容\n",
    "    return file1_data\n",
    "\n",
    "# 更新文件\n",
    "file_1=\"/home/qiang/projects/Digital_mental_health/Dataset/refined_dataset/SAS2UAS_merge.json\"\n",
    "file_2=\"/home/qiang/projects/Digital_mental_health/Dataset/refined_dataset/100_llama2:70/SAS2UAS/SAS2UAS_SAS2UAS.json\"\n",
    "updated_file1_data = update_posts(file_1, file_2)\n",
    "\n",
    "# 打印或保存更新后的内容\n",
    "# print(json.dumps(updated_file1_data, indent=4, ensure_ascii=False))\n",
    "# 或者保存到文件\n",
    "save_json('SAS2UAS_merge.json', updated_file1_data)\n"
   ]
  },
  {
   "cell_type": "code",
   "execution_count": 3,
   "metadata": {},
   "outputs": [
    {
     "name": "stdout",
     "output_type": "stream",
     "text": [
      "处理完成，结果已保存到 output.json\n"
     ]
    }
   ],
   "source": [
    "import json\n",
    "\n",
    "def filter_json_elements(data):\n",
    "    # 只保留 'Post' 和 'Transferred_Post' 字段\n",
    "    filtered_data = []\n",
    "    for element in data:\n",
    "        new_element = {\n",
    "            \"Post\": element.get(\"Post\"),\n",
    "            \"Transferred_Post\": element.get(\"Transferred_Post\")\n",
    "        }\n",
    "        filtered_data.append(new_element)\n",
    "    return filtered_data\n",
    "\n",
    "# 读取JSON文件\n",
    "with open('/home/qiang/projects/Digital_mental_health/Dataset/Refined_dataset/BLEU/SAS2UAS/BLEU4_SAS2UAS_merge_llama3.json', 'r') as file:\n",
    "    data = json.load(file)\n",
    "\n",
    "# 过滤数据\n",
    "filtered_data = filter_json_elements(data)\n",
    "\n",
    "# 将过滤后的数据保存到新的JSON文件中\n",
    "with open('SAS2UAS_300.json', 'w') as file:\n",
    "    json.dump(filtered_data, file, indent=4)\n",
    "\n",
    "print(\"处理完成，结果已保存到 output.json\")\n"
   ]
  }
 ],
 "metadata": {
  "kernelspec": {
   "display_name": "base",
   "language": "python",
   "name": "python3"
  },
  "language_info": {
   "codemirror_mode": {
    "name": "ipython",
    "version": 3
   },
   "file_extension": ".py",
   "mimetype": "text/x-python",
   "name": "python",
   "nbconvert_exporter": "python",
   "pygments_lexer": "ipython3",
   "version": "3.11.5"
  }
 },
 "nbformat": 4,
 "nbformat_minor": 2
}
