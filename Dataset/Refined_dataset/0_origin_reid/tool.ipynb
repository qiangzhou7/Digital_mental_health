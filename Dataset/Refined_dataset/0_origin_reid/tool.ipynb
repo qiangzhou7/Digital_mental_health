{
 "cells": [
  {
   "cell_type": "code",
   "execution_count": 2,
   "metadata": {},
   "outputs": [],
   "source": [
    "import json\n",
    "\n",
    "def extract_posts(input_file, output_file):\n",
    "    with open(input_file, 'r') as f:\n",
    "        data = json.load(f)\n",
    "    \n",
    "    filtered_data = []\n",
    "    for entry in data:\n",
    "        filtered_entry = {\n",
    "            \"Post\": entry[\"Post\"],\n",
    "            \"Transferred_Post\": entry[\"Transferred_Post\"]\n",
    "        }\n",
    "        filtered_data.append(filtered_entry)\n",
    "    \n",
    "    with open(output_file, 'w') as f:\n",
    "        json.dump(filtered_data, f, indent=4)\n",
    "\n",
    "# 使用示例\n",
    "input_file = \"/home/qiang/projects/Digital_mental_health/Dataset/Refined_dataset/0_origin_reid_filtered/IAS2EAS_filtered_0506.json\"\n",
    "output_file = input_file\n",
    "extract_posts(input_file, output_file)\n"
   ]
  },
  {
   "cell_type": "code",
   "execution_count": 1,
   "metadata": {},
   "outputs": [],
   "source": [
    "import json\n",
    "\n",
    "def add_ids(input_file, output_file):\n",
    "    with open(input_file, 'r') as f:\n",
    "        data = json.load(f)\n",
    "    \n",
    "    # 为每个元素添加唯一标识符\n",
    "    for i, entry in enumerate(data):\n",
    "        entry[\"ID\"] = i + 1\n",
    "    \n",
    "    with open(output_file, 'w') as f:\n",
    "        json.dump(data, f, indent=4)\n",
    "\n",
    "# 使用示例\n",
    "input_file = \"/home/qiang/projects/Digital_mental_health/Dataset/Refined_dataset/0_origin/IAS2EAS_0507.json\"\n",
    "output_file = input_file\n",
    "add_ids(input_file, output_file)"
   ]
  }
 ],
 "metadata": {
  "kernelspec": {
   "display_name": "base",
   "language": "python",
   "name": "python3"
  },
  "language_info": {
   "codemirror_mode": {
    "name": "ipython",
    "version": 3
   },
   "file_extension": ".py",
   "mimetype": "text/x-python",
   "name": "python",
   "nbconvert_exporter": "python",
   "pygments_lexer": "ipython3",
   "version": "3.11.5"
  }
 },
 "nbformat": 4,
 "nbformat_minor": 2
}
