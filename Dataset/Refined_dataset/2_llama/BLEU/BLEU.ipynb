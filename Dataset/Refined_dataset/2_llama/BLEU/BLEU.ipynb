{
 "cells": [
  {
   "cell_type": "code",
   "execution_count": 9,
   "metadata": {},
   "outputs": [
    {
     "name": "stdout",
     "output_type": "stream",
     "text": [
      "/home/qiang/projects/Digital_mental_health/Dataset/Refined_dataset/2_llama/merge/SAS2UAS_merge.json\n"
     ]
    },
    {
     "name": "stderr",
     "output_type": "stream",
     "text": [
      "[nltk_data] Downloading package punkt to /home/qiang/nltk_data...\n",
      "[nltk_data]   Package punkt is already up-to-date!\n"
     ]
    }
   ],
   "source": [
    "import json\n",
    "import glob\n",
    "import os\n",
    "from sacrebleu.metrics import BLEU, CHRF, TER\n",
    "from nltk.tokenize import sent_tokenize\n",
    "import nltk\n",
    "import re\n",
    "nltk.download('punkt')\n",
    "\n",
    "\n",
    "\n",
    "file=\"/home/qiang/projects/Digital_mental_health/Dataset/Refined_dataset/2_llama/merge/SAS2UAS_merge.json\"\n",
    "with open(file, 'r', encoding='utf-8') as f:\n",
    "    json_data = json.load(f)\n",
    "    for item in json_data:\n",
    "         \n",
    "        post_sentences = [[item[\"Transferred_Post\"]]]\n",
    "        llama7b=[item[\"llama2:7B\"]]\n",
    "        llama13b=[item[\"llama2:13B\"]]\n",
    "        llama70b=[item[\"llama2:70B\"]]\n",
    "        gemma7b=[item[\"gemma:7B\"]]\n",
    "        mistral=[item[\"mistral\"]]\n",
    "        mixtral=[item[\"mixtral:8x7b\"]]\n",
    "        bleu = BLEU()\n",
    "        item[\"BLEU_llama7b\"]=float((re.search(r'(\\d+\\.\\d+)', str(bleu.corpus_score(llama7b, post_sentences)).split(\"=\", 1)[1].strip())).group(1))\n",
    "        item[\"BLEU_llama13b\"]=float((re.search(r'(\\d+\\.\\d+)', str(bleu.corpus_score(llama13b, post_sentences)).split(\"=\", 1)[1].strip())).group(1))\n",
    "        item[\"BLEU_llama70b\"]=float((re.search(r'(\\d+\\.\\d+)', str(bleu.corpus_score(llama70b, post_sentences)).split(\"=\", 1)[1].strip())).group(1))\n",
    "        item[\"BLEU_gemma:7b\"]=float((re.search(r'(\\d+\\.\\d+)', str(bleu.corpus_score(gemma7b, post_sentences)).split(\"=\", 1)[1].strip())).group(1))\n",
    "        item[\"BLEU_mistral\"]=float((re.search(r'(\\d+\\.\\d+)', str(bleu.corpus_score(mistral, post_sentences)).split(\"=\", 1)[1].strip())).group(1))\n",
    "        item[\"BLEU_mixtral\"]=float((re.search(r'(\\d+\\.\\d+)', str(bleu.corpus_score(mixtral, post_sentences)).split(\"=\", 1)[1].strip())).group(1))\n",
    "        \n",
    "        # print(item[\"BLEU_llama7b\"])\n",
    "#     # # 写回修改后的数据到新文件夹中\n",
    "#     # # 获取原始文件名\n",
    "    base_name = os.path.basename(file)\n",
    "    new_file_name = f\"BLEU4_{base_name}\"\n",
    "    with open(new_file_name, 'w', encoding='utf-8') as f:\n",
    "        json.dump(json_data, f, ensure_ascii=False, indent=4)\n",
    "    print(file)\n",
    "\n",
    "# print(\"所有文件处理完毕。\")"
   ]
  },
  {
   "cell_type": "code",
   "execution_count": 31,
   "metadata": {},
   "outputs": [
    {
     "data": {
      "image/png": "[encoded data removed]",
      "text/plain": [
       "<Figure size 640x480 with 1 Axes>"
      ]
     },
     "metadata": {},
     "output_type": "display_data"
    },
    {
     "name": "stdout",
     "output_type": "stream",
     "text": [
      "Average BLEU_mixtral_GAS2SPAS BLEU Score: 9.85872586872587\n"
     ]
    }
   ],
   "source": [
    "import json\n",
    "import matplotlib.pyplot as plt\n",
    "\n",
    "name='BLEU_mixtral'\n",
    "at='GAS2SPAS'\n",
    "# at='IAS2EAS'\n",
    "# at='SAS2UAS'\n",
    "\n",
    "def extract_bleu_scores(json_data):\n",
    "    bleu_scores = [item[name] for item in json_data]\n",
    "    return bleu_scores\n",
    "\n",
    "def plot_histogram(bleu_scores):\n",
    "    plt.hist(bleu_scores, bins=10, color='skyblue', edgecolor='black')\n",
    "    plt.xlabel('BLEU Score')\n",
    "    plt.ylabel('Frequency')\n",
    "    plt.title('Distribution of '+name+' '+at)\n",
    "    plt.grid(True)\n",
    "    plt.show()\n",
    "\n",
    "def calculate_average(bleu_scores):\n",
    "    return sum(bleu_scores) / len(bleu_scores)\n",
    "\n",
    "def main():\n",
    "    input_json=\"/home/qiang/projects/Digital_mental_health/Dataset/Refined_dataset/2_llama/BLEU/BLEU4_GAS2SPAS_merge.json\"\n",
    "    with open(input_json, 'r', encoding='utf-8') as file:\n",
    "        json_data = json.load(file)\n",
    "\n",
    "    bleu_scores = extract_bleu_scores(json_data)\n",
    "    plot_histogram(bleu_scores)\n",
    "\n",
    "    average_bleu_score = calculate_average(bleu_scores)\n",
    "    print(\"Average \" +name+\"_\" +at +\" BLEU Score:\", average_bleu_score)\n",
    "\n",
    "if __name__ == '__main__':\n",
    "    main()"
   ]
  }
 ],
 "metadata": {
  "kernelspec": {
   "display_name": "base",
   "language": "python",
   "name": "python3"
  },
  "language_info": {
   "codemirror_mode": {
    "name": "ipython",
    "version": 3
   },
   "file_extension": ".py",
   "mimetype": "text/x-python",
   "name": "python",
   "nbconvert_exporter": "python",
   "pygments_lexer": "ipython3",
   "version": "3.11.5"
  }
 },
 "nbformat": 4,
 "nbformat_minor": 2
}
