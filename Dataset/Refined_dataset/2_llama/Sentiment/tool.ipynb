{
 "cells": [
  {
   "cell_type": "code",
   "execution_count": null,
   "metadata": {},
   "outputs": [],
   "source": [
    "import json\n",
    "\n",
    "def calculate_average_negative_scores(input_file):\n",
    "    with open(input_file, 'r') as f:\n",
    "        data = json.load(f)\n",
    "    \n",
    "    post_negative_scores = []\n",
    "    transferred_post_negative_scores = []\n",
    "    \n",
    "    for entry in data:\n",
    "        post_negative_scores.append(entry[\"Post_Negative\"])\n",
    "        transferred_post_negative_scores.append(entry[\"Transferred_Post_Negative\"])\n",
    "    \n",
    "    # 计算平均分数\n",
    "    post_negative_average = sum(post_negative_scores) / len(post_negative_scores)\n",
    "    transferred_post_negative_average = sum(transferred_post_negative_scores) / len(transferred_post_negative_scores)\n",
    "    \n",
    "    return post_negative_average, transferred_post_negative_average\n",
    "\n",
    "# 使用示例\n",
    "input_file = \"/home/qiang/projects/Digital_mental_health/Dataset/Refined_dataset/2_llama/Sentiment/origin/SAS2UAS_merge.json\"\n",
    "post_negative_avg, transferred_post_negative_avg = calculate_average_negative_scores(input_file)\n",
    "print(\"Average Post Negative Score:\", post_negative_avg)\n",
    "print(\"Average Transferred Post Negative Score:\", transferred_post_negative_avg)"
   ]
  },
  {
   "cell_type": "code",
   "execution_count": 4,
   "metadata": {},
   "outputs": [
    {
     "name": "stdout",
     "output_type": "stream",
     "text": [
      "Average scores:\n",
      "llama7B_scores: 0.5880436893203882\n",
      "llama13B_scores: 0.6791252427184465\n",
      "llama70B_scores: 0.689878640776699\n",
      "gemma7B_scores: 0.5469621359223303\n",
      "mistral_scores: 0.6384873786407768\n",
      "mixtral_scores: 0.7214271844660193\n"
     ]
    }
   ],
   "source": [
    "import json\n",
    "\n",
    "def calculate_average_scores(input_file):\n",
    "    with open(input_file, 'r') as f:\n",
    "        data = json.load(f)\n",
    "\n",
    "    # 初始化各项分数列表\n",
    "    scores = {\n",
    "        \"llama7B_scores\": [],\n",
    "        \"llama13B_scores\": [],\n",
    "        \"llama70B_scores\": [],\n",
    "        \"gemma7B_scores\": [],\n",
    "        \"mistral_scores\": [],\n",
    "        \"mixtral_scores\": []\n",
    "    }\n",
    "\n",
    "    # 遍历每个元素，将各项分数加入相应的列表中\n",
    "    for entry in data:\n",
    "        for key in scores.keys():\n",
    "            if key in entry:\n",
    "                scores[key].append(entry[key])\n",
    "\n",
    "    # 计算各项分数的平均值\n",
    "    average_scores = {key: sum(value) / len(value) if len(value) > 0 else 0 for key, value in scores.items()}\n",
    "\n",
    "    return average_scores\n",
    "\n",
    "# 使用示例\n",
    "input_file = \"/home/qiang/projects/Digital_mental_health/Dataset/Refined_dataset/2_llama/Sentiment/origin/IAS2EAS_merge_all.json\"\n",
    "average_scores = calculate_average_scores(input_file)\n",
    "print(\"Average scores:\")\n",
    "for key, value in average_scores.items():\n",
    "    print(key + \":\", value)"
   ]
  }
 ],
 "metadata": {
  "kernelspec": {
   "display_name": "base",
   "language": "python",
   "name": "python3"
  },
  "language_info": {
   "codemirror_mode": {
    "name": "ipython",
    "version": 3
   },
   "file_extension": ".py",
   "mimetype": "text/x-python",
   "name": "python",
   "nbconvert_exporter": "python",
   "pygments_lexer": "ipython3",
   "version": "3.11.5"
  }
 },
 "nbformat": 4,
 "nbformat_minor": 2
}
