{
 "cells": [
  {
   "cell_type": "markdown",
   "metadata": {},
   "source": [
    "gas2spas\n"
   ]
  },
  {
   "cell_type": "code",
   "execution_count": 1,
   "metadata": {},
   "outputs": [],
   "source": [
    "import json\n",
    "\n",
    "# 加载JSON文件的函数\n",
    "def load_json(filename):\n",
    "    with open(filename, 'r', encoding='utf-8') as file:\n",
    "        return json.load(file)\n",
    "\n",
    "# 保存JSON文件的函数\n",
    "def save_json(filename, data):\n",
    "    with open(filename, 'w', encoding='utf-8') as file:\n",
    "        json.dump(data, file, indent=4, ensure_ascii=False)\n",
    "\n",
    "# 主要的逻辑函数\n",
    "def update_posts(file1_path, file2_path):\n",
    "    # 加载文件\n",
    "    file1_data = load_json(file1_path)\n",
    "    file2_data = load_json(file2_path)\n",
    "\n",
    "    # 创建一个以Post为键，llama2:70B为值的字典，方便查找和更新\n",
    "    transferred_posts = {item['Post']: item['Transferred_Post'] for item in file2_data}\n",
    "\n",
    "    # 更新第一个文件\n",
    "    for item in file1_data:\n",
    "        post = item.get('Post')\n",
    "        if post in transferred_posts:\n",
    "            item['llama3:70B'] = transferred_posts[post]\n",
    "\n",
    "    # 返回更新后的第一个文件内容\n",
    "    return file1_data\n",
    "\n",
    "# 更新文件\n",
    "file_1=\"/home/qiang/projects/Digital_mental_health/Dataset/Refined_dataset/2_llama/merge/GAS2SPAS_merge.json\"\n",
    "file_2=\"/home/qiang/projects/Digital_mental_health/Dataset/Refined_dataset/2_llama/llama3:70B/GAS2SPAS/GAS2SPAS_llama370b.json\"\n",
    "updated_file1_data = update_posts(file_1, file_2)\n",
    "\n",
    "# 打印或保存更新后的内容\n",
    "# print(json.dumps(updated_file1_data, indent=4, ensure_ascii=False))\n",
    "# 或者保存到文件\n",
    "save_json('GAS2SPAS_merge_llama3.json', updated_file1_data)\n"
   ]
  },
  {
   "cell_type": "markdown",
   "metadata": {},
   "source": [
    "ias2eas\n"
   ]
  },
  {
   "cell_type": "code",
   "execution_count": 2,
   "metadata": {},
   "outputs": [],
   "source": [
    "import json\n",
    "\n",
    "# 加载JSON文件的函数\n",
    "def load_json(filename):\n",
    "    with open(filename, 'r', encoding='utf-8') as file:\n",
    "        return json.load(file)\n",
    "\n",
    "# 保存JSON文件的函数\n",
    "def save_json(filename, data):\n",
    "    with open(filename, 'w', encoding='utf-8') as file:\n",
    "        json.dump(data, file, indent=4, ensure_ascii=False)\n",
    "\n",
    "# 主要的逻辑函数\n",
    "def update_posts(file1_path, file2_path):\n",
    "    # 加载文件\n",
    "    file1_data = load_json(file1_path)\n",
    "    file2_data = load_json(file2_path)\n",
    "\n",
    "    # 创建一个以Post为键，llama2:70B为值的字典，方便查找和更新\n",
    "    transferred_posts = {item['Post']: item['Transferred_Post'] for item in file2_data}\n",
    "\n",
    "    # 更新第一个文件\n",
    "    for item in file1_data:\n",
    "        post = item.get('Post')\n",
    "        if post in transferred_posts:\n",
    "            item['llama3:70B'] = transferred_posts[post]                                                                              ########\n",
    "\n",
    "    # 返回更新后的第一个文件内容\n",
    "    return file1_data\n",
    "\n",
    "# 更新文件\n",
    "file_1=\"/home/qiang/projects/Digital_mental_health/Dataset/Refined_dataset/2_llama/merge/IAS2EAS_merge.json\"                                 ########\n",
    "file_2=\"/home/qiang/projects/Digital_mental_health/Dataset/Refined_dataset/2_llama/llama3:70B/IAS2EAS/IAS2EAS_llama370b.json\"              ########\n",
    "updated_file1_data = update_posts(file_1, file_2)\n",
    "\n",
    "# 打印或保存更新后的内容\n",
    "# print(json.dumps(updated_file1_data, indent=4, ensure_ascii=False))\n",
    "# 或者保存到文件\n",
    "save_json('IAS2EAS_merge_.json', updated_file1_data)"
   ]
  },
  {
   "cell_type": "markdown",
   "metadata": {},
   "source": [
    "SAS2UAS\n"
   ]
  },
  {
   "cell_type": "code",
   "execution_count": 4,
   "metadata": {},
   "outputs": [],
   "source": [
    "import json\n",
    "\n",
    "# 加载JSON文件的函数\n",
    "def load_json(filename):\n",
    "    with open(filename, 'r', encoding='utf-8') as file:\n",
    "        return json.load(file)\n",
    "\n",
    "# 保存JSON文件的函数\n",
    "def save_json(filename, data):\n",
    "    with open(filename, 'w', encoding='utf-8') as file:\n",
    "        json.dump(data, file, indent=4, ensure_ascii=False)\n",
    "\n",
    "# 主要的逻辑函数\n",
    "def update_posts(file1_path, file2_path):\n",
    "    # 加载文件\n",
    "    file1_data = load_json(file1_path)\n",
    "    file2_data = load_json(file2_path)\n",
    "\n",
    "    # 创建一个以Post为键，llama2:70B为值的字典，方便查找和更新\n",
    "    transferred_posts = {item['Post']: item['Transferred_Post'] for item in file2_data}\n",
    "\n",
    "    # 更新第一个文件\n",
    "    for item in file1_data:\n",
    "        post = item.get('Post')\n",
    "        if post in transferred_posts:\n",
    "            item['llama3:70B'] = transferred_posts[post]\n",
    "\n",
    "    # 返回更新后的第一个文件内容\n",
    "    return file1_data\n",
    "\n",
    "# 更新文件\n",
    "file_1=\"/home/qiang/projects/Digital_mental_health/Dataset/Refined_dataset/2_llama/merge/SAS2UAS_merge.json\"\n",
    "file_2=\"/home/qiang/projects/Digital_mental_health/Dataset/Refined_dataset/2_llama/llama3:70B/SAS2UAS/SAS2UAS_llama370b.json\"\n",
    "updated_file1_data = update_posts(file_1, file_2)\n",
    "\n",
    "# 打印或保存更新后的内容\n",
    "# print(json.dumps(updated_file1_data, indent=4, ensure_ascii=False))\n",
    "# 或者保存到文件\n",
    "save_json('SAS2UAS_merge_llama3.json', updated_file1_data)"
   ]
  }
 ],
 "metadata": {
  "kernelspec": {
   "display_name": "base",
   "language": "python",
   "name": "python3"
  },
  "language_info": {
   "codemirror_mode": {
    "name": "ipython",
    "version": 3
   },
   "file_extension": ".py",
   "mimetype": "text/x-python",
   "name": "python",
   "nbconvert_exporter": "python",
   "pygments_lexer": "ipython3",
   "version": "3.11.5"
  }
 },
 "nbformat": 4,
 "nbformat_minor": 2
}
