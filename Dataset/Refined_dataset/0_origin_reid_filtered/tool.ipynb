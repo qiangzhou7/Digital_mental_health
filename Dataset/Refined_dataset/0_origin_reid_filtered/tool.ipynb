{
 "cells": [
  {
   "cell_type": "code",
   "execution_count": 2,
   "metadata": {},
   "outputs": [],
   "source": [
    "import json\n",
    "\n",
    "def select_first_100_elements(input_file, output_file):\n",
    "    with open(input_file, 'r') as f:\n",
    "        data = json.load(f)\n",
    "    \n",
    "    selected_data = data[50:100]\n",
    "\n",
    "    with open(output_file, 'w') as f:\n",
    "        json.dump(selected_data, f)\n",
    "\n",
    "# 指定输入和输出文件的路径\n",
    "input_file_path = '/home/qiang/projects/Digital_mental_health/Experiments/Rating/work_/GAS2SPAS_merge_llama3.json'\n",
    "output_file_path = '/home/qiang/projects/Digital_mental_health/Experiments/Rating/work_/0518/GAS2SPAS_51_100.json'\n",
    "\n",
    "# 调用函数，选择前100个元素并保存为新的JSON文件\n",
    "select_first_100_elements(input_file_path, output_file_path)\n"
   ]
  }
 ],
 "metadata": {
  "kernelspec": {
   "display_name": "base",
   "language": "python",
   "name": "python3"
  },
  "language_info": {
   "codemirror_mode": {
    "name": "ipython",
    "version": 3
   },
   "file_extension": ".py",
   "mimetype": "text/x-python",
   "name": "python",
   "nbconvert_exporter": "python",
   "pygments_lexer": "ipython3",
   "version": "3.11.5"
  }
 },
 "nbformat": 4,
 "nbformat_minor": 2
}
