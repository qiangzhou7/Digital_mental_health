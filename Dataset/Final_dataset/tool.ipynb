{
 "cells": [
  {
   "cell_type": "markdown",
   "metadata": {},
   "source": [
    "统计包含多少element"
   ]
  },
  {
   "cell_type": "code",
   "execution_count": 1,
   "metadata": {},
   "outputs": [
    {
     "name": "stdout",
     "output_type": "stream",
     "text": [
      "JSON 文件中包含 50 个元素。\n"
     ]
    }
   ],
   "source": [
    "import json\n",
    "\n",
    "# 读取 JSON 文件并解析为 Python 对象\n",
    "def count_elements_in_json(json_file):\n",
    "    with open(json_file, 'r', encoding='utf-8') as file:\n",
    "        data = json.load(file)\n",
    "    return len(data)\n",
    "\n",
    "# 指定 JSON 文件路径\n",
    "json_file = \"/home/qiang/projects/Digital_mental_health/final_dataset/GAS2SPAS/GAS2SPAS.json\"\n",
    "\n",
    "# 统计元素数量\n",
    "element_count = count_elements_in_json(json_file)\n",
    "print(f\"JSON 文件中包含 {element_count} 个元素。\")"
   ]
  },
  {
   "cell_type": "markdown",
   "metadata": {},
   "source": [
    "将文件夹中所有的json，merge到一起"
   ]
  },
  {
   "cell_type": "code",
   "execution_count": 3,
   "metadata": {},
   "outputs": [
    {
     "name": "stdout",
     "output_type": "stream",
     "text": [
      "已将文件夹中所有JSON文件中的元素合并到 'zhuoju_merged_output_GAS2SPAS.json' 文件中。\n"
     ]
    }
   ],
   "source": [
    "import os\n",
    "import json\n",
    "\n",
    "def merge_json_files(input_folder, output_filename):\n",
    "    # 创建一个空列表来存储所有的元素\n",
    "    all_elements = []\n",
    "\n",
    "    # 遍历文件夹中的所有JSON文件\n",
    "    for filename in os.listdir(input_folder):\n",
    "        if filename.endswith(\".json\"):\n",
    "            filepath = os.path.join(input_folder, filename)\n",
    "            with open(filepath, 'r', encoding='utf-8') as file:\n",
    "                data = json.load(file)\n",
    "                all_elements.extend(data)\n",
    "\n",
    "    # 将所有元素写入到新的JSON文件中\n",
    "    with open(output_filename, 'w', encoding='utf-8') as outfile:\n",
    "        json.dump(all_elements, outfile, indent=4)\n",
    "\n",
    "    print(f\"已将文件夹中所有JSON文件中的元素合并到 '{output_filename}' 文件中。\")\n",
    "\n",
    "# 指定输入文件夹和输出文件名\n",
    "input_folder = \"/Users/qiangzhou/Library/Containers/com.tencent.xinWeChat/Data/Library/Application Support/com.tencent.xinWeChat/2.0b4.0.9/93c79210fac3454534da2b9ae0aab685/Message/MessageTemp/4fef58179a71273a0a5a8889e5523556/File/GAS_zhuoju/\"\n",
    "output_filename = \"zhuoju_merged_output_GAS2SPAS.json\"\n",
    "\n",
    "# 调用函数来合并JSON文件\n",
    "merge_json_files(input_folder, output_filename)\n"
   ]
  },
  {
   "cell_type": "code",
   "execution_count": 2,
   "metadata": {},
   "outputs": [
    {
     "name": "stdout",
     "output_type": "stream",
     "text": [
      "Data has been successfully divided and saved into multiple JSON files.\n"
     ]
    }
   ],
   "source": [
    "import json\n",
    "\n",
    "# 原始JSON文件名\n",
    "input_json_filename = '/Users/qiangzhou/Library/CloudStorage/OneDrive-UniversityofPittsburgh/projects/Digital_mental_health/sentiment_dataset/negative_event_train.json'\n",
    "\n",
    "# 读取原始JSON文件\n",
    "with open(input_json_filename, 'r', encoding='utf-8') as json_file:\n",
    "    data = json.load(json_file)\n",
    "\n",
    "# 每个文件包含的元素数量\n",
    "chunk_size = 50\n",
    "\n",
    "# 分割数据并保存为多个JSON文件\n",
    "for i in range(0, len(data), chunk_size):\n",
    "    chunk_data = data[i:i+chunk_size]\n",
    "    output_filename = f'output_chunk_{i//chunk_size + 1}.json'\n",
    "    with open(output_filename, 'w', encoding='utf-8') as outfile:\n",
    "        json.dump(chunk_data, outfile, indent=4)\n",
    "\n",
    "print(\"Data has been successfully divided and saved into multiple JSON files.\")\n"
   ]
  }
 ],
 "metadata": {
  "kernelspec": {
   "display_name": "base",
   "language": "python",
   "name": "python3"
  },
  "language_info": {
   "codemirror_mode": {
    "name": "ipython",
    "version": 3
   },
   "file_extension": ".py",
   "mimetype": "text/x-python",
   "name": "python",
   "nbconvert_exporter": "python",
   "pygments_lexer": "ipython3",
   "version": "3.11.5"
  }
 },
 "nbformat": 4,
 "nbformat_minor": 2
}
