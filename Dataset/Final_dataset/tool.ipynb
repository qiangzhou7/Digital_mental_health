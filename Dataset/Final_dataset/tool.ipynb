{
 "cells": [
  {
   "cell_type": "markdown",
   "metadata": {},
   "source": [
    "统计包含多少element"
   ]
  },
  {
   "cell_type": "code",
   "execution_count": 4,
   "metadata": {},
   "outputs": [
    {
     "name": "stdout",
     "output_type": "stream",
     "text": [
      "JSON 文件中包含 302 个元素。\n"
     ]
    }
   ],
   "source": [
    "import json\n",
    "\n",
    "# 读取 JSON 文件并解析为 Python 对象\n",
    "def count_elements_in_json(json_file):\n",
    "    with open(json_file, 'r', encoding='utf-8') as file:\n",
    "        data = json.load(file)\n",
    "    return len(data)\n",
    "\n",
    "# 指定 JSON 文件路径\n",
    "json_file = \"/home/qiang/projects/Digital_mental_health/Dataset/Final_dataset/IAS2EAS/IAS2EAS.json\"\n",
    "\n",
    "# 统计元素数量\n",
    "element_count = count_elements_in_json(json_file)\n",
    "print(f\"JSON 文件中包含 {element_count} 个元素。\")"
   ]
  },
  {
   "cell_type": "markdown",
   "metadata": {},
   "source": [
    "将文件夹中所有的json，merge到一起"
   ]
  },
  {
   "cell_type": "code",
   "execution_count": 3,
   "metadata": {},
   "outputs": [
    {
     "name": "stdout",
     "output_type": "stream",
     "text": [
      "已将文件夹中所有JSON文件中的元素合并到 'zhuoju_merged_output_GAS2SPAS.json' 文件中。\n"
     ]
    }
   ],
   "source": [
    "import os\n",
    "import json\n",
    "\n",
    "def merge_json_files(input_folder, output_filename):\n",
    "    # 创建一个空列表来存储所有的元素\n",
    "    all_elements = []\n",
    "\n",
    "    # 遍历文件夹中的所有JSON文件\n",
    "    for filename in os.listdir(input_folder):\n",
    "        if filename.endswith(\".json\"):\n",
    "            filepath = os.path.join(input_folder, filename)\n",
    "            with open(filepath, 'r', encoding='utf-8') as file:\n",
    "                data = json.load(file)\n",
    "                all_elements.extend(data)\n",
    "\n",
    "    # 将所有元素写入到新的JSON文件中\n",
    "    with open(output_filename, 'w', encoding='utf-8') as outfile:\n",
    "        json.dump(all_elements, outfile, indent=4)\n",
    "\n",
    "    print(f\"已将文件夹中所有JSON文件中的元素合并到 '{output_filename}' 文件中。\")\n",
    "\n",
    "# 指定输入文件夹和输出文件名\n",
    "input_folder = \"/Users/qiangzhou/Library/Containers/com.tencent.xinWeChat/Data/Library/Application Support/com.tencent.xinWeChat/2.0b4.0.9/93c79210fac3454534da2b9ae0aab685/Message/MessageTemp/4fef58179a71273a0a5a8889e5523556/File/GAS_zhuoju/\"\n",
    "output_filename = \"zhuoju_merged_output_GAS2SPAS.json\"\n",
    "\n",
    "# 调用函数来合并JSON文件\n",
    "merge_json_files(input_folder, output_filename)\n"
   ]
  },
  {
   "cell_type": "code",
   "execution_count": 2,
   "metadata": {},
   "outputs": [
    {
     "name": "stdout",
     "output_type": "stream",
     "text": [
      "Data has been successfully divided and saved into multiple JSON files.\n"
     ]
    }
   ],
   "source": [
    "import json\n",
    "\n",
    "# 原始JSON文件名\n",
    "input_json_filename = '/Users/qiangzhou/Library/CloudStorage/OneDrive-UniversityofPittsburgh/projects/Digital_mental_health/sentiment_dataset/negative_event_train.json'\n",
    "\n",
    "# 读取原始JSON文件\n",
    "with open(input_json_filename, 'r', encoding='utf-8') as json_file:\n",
    "    data = json.load(json_file)\n",
    "\n",
    "# 每个文件包含的元素数量\n",
    "chunk_size = 50\n",
    "\n",
    "# 分割数据并保存为多个JSON文件\n",
    "for i in range(0, len(data), chunk_size):\n",
    "    chunk_data = data[i:i+chunk_size]\n",
    "    output_filename = f'output_chunk_{i//chunk_size + 1}.json'\n",
    "    with open(output_filename, 'w', encoding='utf-8') as outfile:\n",
    "        json.dump(chunk_data, outfile, indent=4)\n",
    "\n",
    "print(\"Data has been successfully divided and saved into multiple JSON files.\")\n"
   ]
  },
  {
   "cell_type": "markdown",
   "metadata": {},
   "source": [
    "## 计算sentiment的分数\n"
   ]
  },
  {
   "cell_type": "code",
   "execution_count": 1,
   "metadata": {},
   "outputs": [
    {
     "ename": "NameError",
     "evalue": "name 'json' is not defined",
     "output_type": "error",
     "traceback": [
      "\u001b[0;31m---------------------------------------------------------------------------\u001b[0m",
      "\u001b[0;31mNameError\u001b[0m                                 Traceback (most recent call last)",
      "Cell \u001b[0;32mIn[1], line 56\u001b[0m\n\u001b[1;32m     54\u001b[0m input_file \u001b[38;5;241m=\u001b[39m \u001b[38;5;124m\"\u001b[39m\u001b[38;5;124m/home/qiang/projects/Digital_mental_health/Experiments/Sentiment_Scores/GAS2SPAS.json\u001b[39m\u001b[38;5;124m\"\u001b[39m\n\u001b[1;32m     55\u001b[0m output_file \u001b[38;5;241m=\u001b[39m \u001b[38;5;124m\"\u001b[39m\u001b[38;5;124m/home/qiang/projects/Digital_mental_health/Experiments/Sentiment_Scores/GAS2SPAS_sentiment.json\u001b[39m\u001b[38;5;124m\"\u001b[39m\n\u001b[0;32m---> 56\u001b[0m process_json_file(input_file, output_file)\n",
      "Cell \u001b[0;32mIn[1], line 37\u001b[0m, in \u001b[0;36mprocess_json_file\u001b[0;34m(input_file, output_file)\u001b[0m\n\u001b[1;32m     35\u001b[0m \u001b[38;5;28;01mdef\u001b[39;00m \u001b[38;5;21mprocess_json_file\u001b[39m(input_file, output_file):\n\u001b[1;32m     36\u001b[0m     \u001b[38;5;28;01mwith\u001b[39;00m \u001b[38;5;28mopen\u001b[39m(input_file, \u001b[38;5;124m'\u001b[39m\u001b[38;5;124mr\u001b[39m\u001b[38;5;124m'\u001b[39m) \u001b[38;5;28;01mas\u001b[39;00m f:\n\u001b[0;32m---> 37\u001b[0m         data \u001b[38;5;241m=\u001b[39m json\u001b[38;5;241m.\u001b[39mload(f)\n\u001b[1;32m     39\u001b[0m     \u001b[38;5;28;01mfor\u001b[39;00m item \u001b[38;5;129;01min\u001b[39;00m tqdm(data):\n\u001b[1;32m     40\u001b[0m         post \u001b[38;5;241m=\u001b[39m item[\u001b[38;5;124m'\u001b[39m\u001b[38;5;124mPost\u001b[39m\u001b[38;5;124m'\u001b[39m]\n",
      "\u001b[0;31mNameError\u001b[0m: name 'json' is not defined"
     ]
    }
   ],
   "source": [
    "from transformers import AutoModelForSequenceClassification, AutoTokenizer, AutoConfig\n",
    "import numpy as np\n",
    "from scipy.special import softmax\n",
    "from tqdm import tqdm\n",
    "def get_sentiment_scores(text):\n",
    "    MODEL = \"cardiffnlp/twitter-roberta-base-sentiment-latest\"\n",
    "    tokenizer = AutoTokenizer.from_pretrained(MODEL)\n",
    "    config = AutoConfig.from_pretrained(MODEL)\n",
    "    model = AutoModelForSequenceClassification.from_pretrained(MODEL)\n",
    "\n",
    "    def preprocess(text):\n",
    "        new_text = []\n",
    "        for t in text.split(\" \"):\n",
    "            t = '@user' if t.startswith('@') and len(t) > 1 else t\n",
    "            t = 'http' if t.startswith('http') else t\n",
    "            new_text.append(t)\n",
    "        return \" \".join(new_text)\n",
    "\n",
    "    text = preprocess(text)\n",
    "    encoded_input = tokenizer(text, return_tensors='pt')\n",
    "    output = model(**encoded_input)\n",
    "    scores = output[0][0].detach().numpy()\n",
    "    scores = softmax(scores)\n",
    "\n",
    "    ranking = np.argsort(scores)\n",
    "    ranking = ranking[::-1]\n",
    "    results = []\n",
    "    for i in range(scores.shape[0]):\n",
    "        label = config.id2label[ranking[i]]\n",
    "        score = scores[ranking[i]]\n",
    "        results.append((label, np.round(float(score), 4)))\n",
    "    sentiment_dict = {label: score for label, score in results}\n",
    "    return sentiment_dict\n",
    "\n",
    "def process_json_file(input_file, output_file):\n",
    "    with open(input_file, 'r') as f:\n",
    "        data = json.load(f)\n",
    "    \n",
    "    for item in tqdm(data):\n",
    "        post = item['Post']\n",
    "        transferred_post = item['Transferred_Post']\n",
    "        post_sentiment_scores = get_sentiment_scores(post)\n",
    "        transferred_post_sentiment_scores = get_sentiment_scores(transferred_post)\n",
    "        item['Post_Postive'] = post_sentiment_scores['positive']\n",
    "        item['Post_Negative'] = post_sentiment_scores['negative']\n",
    "        item['Post_Neutral'] = post_sentiment_scores['neutral']\n",
    "        item['Transferred_Post_Postive'] = transferred_post_sentiment_scores['positive']\n",
    "        item['Transferred_Post_Negative'] = transferred_post_sentiment_scores['negative']\n",
    "        item['Transferred_Post_Neutral'] = transferred_post_sentiment_scores['neutral']\n",
    "\n",
    "    with open(output_file, 'w') as f:\n",
    "        json.dump(data, f, indent=4)\n",
    "\n",
    "input_file = \"/home/qiang/projects/Digital_mental_health/Experiments/Sentiment_Scores/GAS2SPAS.json\"\n",
    "output_file = \"/home/qiang/projects/Digital_mental_health/Experiments/Sentiment_Scores/GAS2SPAS_sentiment.json\"\n",
    "process_json_file(input_file, output_file)\n"
   ]
  },
  {
   "cell_type": "code",
   "execution_count": null,
   "metadata": {},
   "outputs": [],
   "source": [
    "import json\n",
    "import random\n",
    "\n",
    "def select_random_elements(input_file, output_file, num_elements=10):\n",
    "    # 读取输入 JSON 文件\n",
    "    with open(input_file, 'r') as f:\n",
    "        data = json.load(f)\n",
    "    \n",
    "    # 随机选择指定数量的元素\n",
    "    selected_elements = random.sample(data, min(num_elements, len(data)))\n",
    "    \n",
    "    # 写入输出 JSON 文件\n",
    "    with open(output_file, 'w') as f:\n",
    "        json.dump(selected_elements, f, indent=4)\n",
    "\n",
    "# 输入和输出文件名\n",
    "input_file = '/home/qiang/projects/Digital_mental_health/Dataset/Refined_dataset/0_origin_reid_filtered/GAS2SPAS.json'\n",
    "output_file = 'output.json'\n",
    "\n",
    "# 调用函数选择并保存随机元素\n",
    "select_random_elements(input_file, output_file)\n"
   ]
  }
 ],
 "metadata": {
  "kernelspec": {
   "display_name": "base",
   "language": "python",
   "name": "python3"
  },
  "language_info": {
   "codemirror_mode": {
    "name": "ipython",
    "version": 3
   },
   "file_extension": ".py",
   "mimetype": "text/x-python",
   "name": "python",
   "nbconvert_exporter": "python",
   "pygments_lexer": "ipython3",
   "version": "3.11.5"
  }
 },
 "nbformat": 4,
 "nbformat_minor": 2
}
