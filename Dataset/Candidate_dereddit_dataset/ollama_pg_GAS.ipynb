{
 "cells": [
  {
   "cell_type": "code",
   "execution_count": 1,
   "metadata": {},
   "outputs": [
    {
     "name": "stderr",
     "output_type": "stream",
     "text": [
      "Processing:   0%|          | 0/156 [00:00<?, ?it/s]"
     ]
    },
    {
     "name": "stdout",
     "output_type": "stream",
     "text": [
      "/home/qiang/projects/Digital_mental_health/Dataset/Condidate_sentiment_dataset/1_event_filtered_all/output_chunk_137_event_filter.json\n",
      "['Left the inn.', 'Having trouble finishing an assignment.', 'Being sick', 'I was mistreated by people in the world.', 'I miss Thomas.', \"Can't sleep.\", \"We're not going to meet up today.\", 'I got a headache', 'I am ugly.', \"My comments on MPs' expenses were criticized as being out of touch with the average person's salary.\", 'I hate someone.', 'Something hurt me emotionally.', \"Can't afford Sky\", 'My phone dies', 'Will miss Jay Leno', 'Today was not an inspirational photography day', 'Our lives were effed up', 'I hate TwitterBerry', 'My mom annoyed me.', 'Having 1.25 hours of leftover work time after finishing all tasks.', 'Got sunburn.', \"Told my students it's my last year at school.\", \"We haven't talked in 3 days.\", 'I felt terrible today.', \"Hugh Laurie isn't on ****.\", 'I had no money for pedicures.', \"A Bank of America representative accused me of doing something I didn't do.\", 'I had to do difficult coursework.', 'My friend is in a bad state and nothing I say helps.', 'My mobile phone refuses to charge.', 'My memory sucks.', 'I had a bad experience two nights prior', \"I'm crying right now... :/\", \"I'm stuck at home and can't attend a friend's party tonight.\", 'My head is hurting.', 'My party was wiped out.', 'My allergies kicked in.']\n"
     ]
    },
    {
     "name": "stderr",
     "output_type": "stream",
     "text": [
      "100%|██████████| 37/37 [05:58<00:00,  9.69s/it]\n",
      "Processing:   1%|          | 1/156 [05:58<15:25:49, 358.38s/it]"
     ]
    },
    {
     "name": "stdout",
     "output_type": "stream",
     "text": [
      "/home/qiang/projects/Digital_mental_health/Dataset/Condidate_sentiment_dataset/1_event_filtered_all/output_chunk_123_event_filter.json\n",
      "['I lost my book.', \"I'm sick.\", \"I'm depressed\", 'My dog crushed door knobs with her jaws.', 'Dealing with cancer in my direct family.', 'A delay until midnight by Bloody Thomson!!!!', 'Feeling lonely at home.', 'working on a nice day', 'Something bad happened', \"Going to work on nights when I'm in micro.\", 'I felt ignored', 'Grandpa was hospitalized.', 'I think I did bad on my world geography final.', 'Having a headache', 'I was sick all night.', 'I hate this weather', 'Leaving my dog', 'Twitter is acting weird', 'I ran over a bunny.', 'I got peanut butter in my beard; Axe body wash burnt my eyes.', 'My ID was bent out of shape.', \"I couldn't unlock my 3G iPhone last week.\", 'I hate revision', 'Bad weather today', 'I had a nosebleed.', 'I felt like crap', 'Something unfortunate happened.', 'I had hiccups.', 'Work sucks.', \"I didn't receive my message due to a text saver.\", 'My MacBook Pro fell off the iCurve.', 'My dad wants to sell me on Craigslist.', 'I lost my phone.', \"I'm jealous of someone having a baby.\", 'Having a song stuck in my head for days and finding it distracting.', 'The door handle murdered my finger.', 'The Twitter/BGT session will have to commence without Sam.', \"I don't feel well.\", 'I lost my Twitter profile picture.', 'Missing a loved one.', 'Going crazy.', \"It's too hot.\", 'I have acid reflux.', \"I couldn't upload a picture.\"]\n"
     ]
    },
    {
     "name": "stderr",
     "output_type": "stream",
     "text": [
      "100%|██████████| 44/44 [06:12<00:00,  8.46s/it]\n",
      "Processing:   1%|▏         | 2/156 [12:10<15:40:31, 366.44s/it]"
     ]
    },
    {
     "name": "stdout",
     "output_type": "stream",
     "text": [
      "/home/qiang/projects/Digital_mental_health/Dataset/Condidate_sentiment_dataset/1_event_filtered_all/output_chunk_16_event_filter.json\n",
      "['Wearing tight trousers.', 'Had a bad contact with parents', \"I'm jealous.\", 'Missing my friends.', \"Can't sleep\", 'Our house is infested with spiders.', 'Feeling unwell.', 'I missed the Birmingham concert.', 'I get less ideas every day', 'Working sucks', 'Felt overwhelmed and upset with myself tonight.', 'Getting into a mess this weekend', 'Your mom told be about that.', 'I fell on the sidewalk and hurt my hand.', 'I have to be at the office again tomorrow morning', \"Greg Pritchard didn't make it through to the final of Britain's Got Talent.\", 'I banged my head on the way into the bus.', 'I lost all my cats.', 'My boy is leaving for the summer.', 'I am sick', 'Been spoiled rotten', 'Could not sleep/Stayed awake at night.', 'The Lakers were losing', \"didn't do well in an interaction (e.g. a meeting or conversation)\", 'My Sidekick is hella wack.', 'Something bad happened', 'Giving a speech at a wedding', 'had a problem with the landlord.', 'Mama passed away', 'Not being able to go (somewhere)', 'I was in pain after surgery', \"Jagex doesn't let you say RSMV unless it's the first word.\", 'We have bugs in our house.', 'I hate closing Friday.', 'My stomach hurts.', \"Old me's death\", \"I'm crying\", 'The muffler bearings are going bad.', 'Feeling unwell today']\n"
     ]
    },
    {
     "name": "stderr",
     "output_type": "stream",
     "text": [
      "100%|██████████| 39/39 [06:05<00:00,  9.36s/it]\n",
      "Processing:   2%|▏         | 3/156 [18:15<15:32:56, 365.86s/it]"
     ]
    },
    {
     "name": "stdout",
     "output_type": "stream",
     "text": [
      "/home/qiang/projects/Digital_mental_health/Dataset/Condidate_sentiment_dataset/1_event_filtered_all/output_chunk_102_event_filter.json\n",
      "['I got the flu', 'The internet is failing me.', 'Failed to cycle in.', 'I made a costly mistake.', 'The sun disappeared when I blinked.', 'Fighting a horrid headache', 'The weather sucks', 'A person died (Robin from the Washington Park library)', 'My back hurts', 'I re-ripped something.', 'Nobody can speculate or disagree with anything on nin.com due to censorship.', 'My work uniform got wet/dirty because it was on the washing line.', 'Had a horrid dream.', \"I couldn't register a coupon.\", 'A poltergeist appeared in my house.', 'I got bad news.', 'My Facebook friends were complaining about me on Twitter.', 'I overslept and missed hanging out with friends.', 'My phone lost its cover.', 'Someone called me a derogatory term.', 'I am sick.', 'I missed my sister Yani.', 'Throwing stuff onto the ice', 'My computer and laptop are broken, and my order was messed up.', 'Teenagers showed up and disrupted my peaceful time.', 'I have no ride.', 'I had a headache.', 'The weather did not rain when it was expected to.', \"didn't feel well at all.\", \"I'm so tired.\", 'The cheesy disco music has started.', \"Took someone's property by mistake.\", 'I feel like the song \"Dead and Gone\" by Travis Garland.', 'I have this weird lupus feeling going through my body.', 'Blogtalkradio gave me a domain not found error.', \"It's a sad day\", \"I'm broke.\", 'I was on the verge of dying.', 'Found grey hairs in my hair.', \"I couldn't cope with someone.\", 'Had a headache', 'I am leaving because of racists.', \"I'm stuck and bored at home.\"]\n"
     ]
    },
    {
     "name": "stderr",
     "output_type": "stream",
     "text": [
      "100%|██████████| 43/43 [05:45<00:00,  8.04s/it]\n",
      "Processing:   3%|▎         | 4/156 [24:01<15:06:50, 357.96s/it]"
     ]
    },
    {
     "name": "stdout",
     "output_type": "stream",
     "text": [
      "/home/qiang/projects/Digital_mental_health/Dataset/Condidate_sentiment_dataset/1_event_filtered_all/output_chunk_89_event_filter.json\n",
      "['Felt unhappy', \"You're scaring me.\", 'Waking up alone after dreaming about cuddling with someone.', \"I'm unable to call someone I want to talk to.\", 'Got into conflict in Facebook group', 'I drank too much.', \"I'm too tired to stay awake.\", \"That's no good.\", 'Feeling guilty.', 'I had a huge headache at work.', 'Feeling overwhelmed by tasks.', 'I went MIA', 'My blackberry ran out of juice.', 'Missed the play', 'I fail', \"She's not paying attention to me.\", 'I messed up a derivative identity on the calculus exam.', \"I'm living in a rural area with limited access to amenities.\", 'Had to copy 13Gigs of data via slow USB 1.1 on an old server.', 'Living in a boring place.', 'Time is going slowly.', 'Everyone left the tasks for me.', 'Stayed up all night for no reason.', \"My boss scheduled a meeting during my babysitter's graduation.\", 'I felt nauseous.', \"My Mac's hard drive crashed and I lost all files.\", \"He doesn't love me.\", \"Got sick from eating McDonald's combo and Wendy's sundae.\", 'I ruined brand new pliers.', 'I have crappy typing skills', 'My finger hurts.', 'We have no buggy.', 'Feeling like crying with an empty stomach and hurting throat.', 'Broke my favorite necklace', 'Studying for exams.', 'I have a headache', 'They had the worst zoning/concept of the year.', 'I visited dodgy websites.', 'I got into a bike accident.', \"You're not following me on social media.\"]\n"
     ]
    },
    {
     "name": "stderr",
     "output_type": "stream",
     "text": [
      "100%|██████████| 40/40 [06:25<00:00,  9.63s/it]\n",
      "Processing:   3%|▎         | 5/156 [30:26<15:25:42, 367.83s/it]"
     ]
    },
    {
     "name": "stdout",
     "output_type": "stream",
     "text": [
      "/home/qiang/projects/Digital_mental_health/Dataset/Condidate_sentiment_dataset/1_event_filtered_all/output_chunk_57_event_filter.json\n",
      "['Had problems with dog owners.', \"It's taking forever to upload.\", 'I had a giant headache.', \"I'm hungry and have to get up early on a Friday night.\", 'My phone is about to die.', 'First impression of Silverlight was problematic.', \"I'm bored to death\", 'I got a headache', \"I'm stressed out\", 'I removed too many cucumber flowers from my cucumber plant and regretted it.', \"I've lost too many friends.\", 'I felt sad listening to \"Home Sweet Home\" by Carrie Underwood', \"I'm bored, hungry, and cold.\", 'Took today off work and did nothing but sleep all day.', 'I feel really really bad', 'My partner has multiple romantic relationships with other women.', \"Got an error on the CNN site and couldn't read the article.\", \"Wanting ice cream but it's too expensive.\", \"I'm totally bored!\", \"I don't have any .024 wire.\", 'Lost my job at NCP', \"I missed someone who's been away for a long time.\", 'Missed the coffee club', 'Feeling sick with a summer flu.', \"I don't have something I need.\", \"I didn't receive a greeting from someone.\", 'We cut two this week.', 'Life sucks in New York.', 'I lost my Nintendogs.', \"Didn't feel like studying for Chinese A's.\", 'We got our orphan lambs from a local farmer.', 'I watched a sad finale of my favorite TV show.', 'Tonight has been boring', \"Doesn't work\", 'having the worst dream ever.', 'The PMS forum did not come back up.', 'I got a leg sprain.', 'The Xbox 360 had a Red Ring of Death.', \"Preseason doesn't start until August\", 'I freaked out a custodian.', 'Not getting better', 'does not have someone to cuddle.']\n"
     ]
    },
    {
     "name": "stderr",
     "output_type": "stream",
     "text": [
      "100%|██████████| 42/42 [07:55<00:00, 11.32s/it]\n",
      "Processing:   4%|▍         | 6/156 [38:22<16:51:04, 404.43s/it]"
     ]
    },
    {
     "name": "stdout",
     "output_type": "stream",
     "text": [
      "/home/qiang/projects/Digital_mental_health/Dataset/Condidate_sentiment_dataset/1_event_filtered_all/output_chunk_23_event_filter.json\n",
      "['I have a headache.', 'Facebook blocked me for adding too many friends.', 'Missing someone while listening to sad music.', \"Sorry, I can't come to your birthday.\", 'I took my pet to the vet.', \"Wireless doesn't work downstairs\", 'I hate this weather!', 'met a scary cape guy', 'Pet is in pain and cannot communicate it.', 'The server is down in Phoenix.', \"It's cold.\", 'I have to work a long shift.', 'My camera phone is broken.', 'Not enough help at work.', 'My body refuses to move.', 'The chocolate fountain got clogged.', 'Had a headache', \"I didn't get to see Holly, Gabbie, and Hannah.\", \"I can't get through.\", 'I have to attend to an important meeting', 'Someone died.', 'Someone criticized my writing.', 'Spent Friday night home alone.', 'I thought Milk was boring.', 'My hair turned grey prematurely.', 'Chaos began', \"I couldn't go to that place.\", 'Missed the good old days', \"I'll be in the office till late.\", 'My favorite coworker left for a new job.', 'Someone was mean to me.', 'Someone was inconsiderate to me.', \"Can't take it\", \"Can't believe something bad happened\", \"My dad's not feeling well.\", 'The dates of the hockey games were confused', 'My holidays are ending soon.', \"I can't do the BG right.\", 'Colleague created a poorly designed website for my unit.', 'Has no one to cuddle or play with.', \"I'm grounded.\"]\n"
     ]
    },
    {
     "name": "stderr",
     "output_type": "stream",
     "text": [
      "100%|██████████| 41/41 [06:51<00:00, 10.03s/it]\n",
      "Processing:   4%|▍         | 7/156 [45:13<16:49:52, 406.66s/it]"
     ]
    },
    {
     "name": "stdout",
     "output_type": "stream",
     "text": [
      "/home/qiang/projects/Digital_mental_health/Dataset/Condidate_sentiment_dataset/1_event_filtered_all/output_chunk_151_event_filter.json\n",
      "[\"I didn't get to talk to someone while they were here.\", 'Going to the doctor.', 'A friend died.', 'My kids were ungrateful today', 'It always wants my password.', \"It's going to be a long day at the office.\", 'I tasted a tiny piece of onion.', 'I feel old.', 'Holidays are over', 'Woke up feeling worse with a migraine.', \"I don't want to go to work tomorrow.\", 'She stopped braiding', \"Luna's tearful state after being picked up from the vet.\", 'Amazon refused to ship to my address.', 'I regret not seeing his collection tonight', 'Lost my dog', 'State parks in PA are considered for closing.', 'Feeling ignored or rejected by someone I know.', 'I have limited time for lunch.', \"Didn't hear back after sending a text\", \"I don't want to go to work.\", 'My kid is sick at home.', 'I tricked out my ankle during cardio.', 'Broke my windshield.', \"I didn't get to take you to prom.\", \"I ate someone else's food without their permission.\", 'Got to get off work late', 'I got sunburnt.', 'Starting to feel sad.', 'Having to work on Saturday mornings', 'I had a horrible dream.', \"It's too sunny for work!!!\", 'Woke up feeling dead', 'My local bookstore never has what I need.', 'I got pinkeye.', 'Got sick.', 'Feeling down.', \"I'm sick\", 'Did not feel like getting up', 'People thought I looked 14 years old.', 'stuck in Jeuno', 'My friend is going to dye my hair black.']\n"
     ]
    },
    {
     "name": "stderr",
     "output_type": "stream",
     "text": [
      "100%|██████████| 42/42 [07:24<00:00, 10.58s/it]\n",
      "Processing:   5%|▌         | 8/156 [52:37<17:12:32, 418.60s/it]"
     ]
    },
    {
     "name": "stdout",
     "output_type": "stream",
     "text": [
      "/home/qiang/projects/Digital_mental_health/Dataset/Condidate_sentiment_dataset/1_event_filtered_all/output_chunk_60_event_filter.json\n",
      "['I hated the redesign of Cricinfo.', \"I missed my friend's birthday.\", 'My new Guitar Hero Metallica guitar is already broken.', 'I feel so empty', \"I've done nothing today\", \"I couldn't sleep.\", 'I lost my candy.', \"We don't have a VCR anymore.\", 'Many people in the quilt pictures were laid off.', 'Tomato squirted all over me.', 'I buggered up my mobile.', \"I was supposed to be at a teenage nightclub but I'm stuck at home.\", 'Mum laughed at me.', 'Being lied to by a cheating partner.', 'I am so hungry', \"It's too hot.\", 'I fought with my printer.', 'Lost dog', 'Witnessed her dog getting hit on the street.', 'Something bad happened.', 'I almost lost you again', 'I had a headache on a Friday.', 'Sitting through a boring conference call', 'I felt ignored', 'I was assigned to work on the street during a marathon.', 'I left my phone at home again', 'Did not receive yarn shipment on time.', 'I felt stressed', 'Stupid competition stuff gets in the way.', 'Cadbury chocolate blocks got smaller.', 'Tyra stole my makeup artist away from me.', 'A pervert ruined my day.', 'The world is full of spineless people, which makes me sad.', 'Being young', 'Everyone I know is asking for computer help.', \"Can't sleep\", 'My attempt to sync Facebook and Twitter failed.', 'Head is throbbing from lack of sleep', 'My favorite sisters cannot attend the banquet tonight.', 'I feel extremely depressed.', 'Received bad news', 'I was late for work.']\n"
     ]
    },
    {
     "name": "stderr",
     "output_type": "stream",
     "text": [
      "100%|██████████| 42/42 [05:48<00:00,  8.30s/it]\n",
      "Processing:   6%|▌         | 9/156 [58:26<16:11:49, 396.66s/it]"
     ]
    },
    {
     "name": "stdout",
     "output_type": "stream",
     "text": [
      "/home/qiang/projects/Digital_mental_health/Dataset/Condidate_sentiment_dataset/1_event_filtered_all/output_chunk_131_event_filter.json\n",
      "['Broke up with someone', 'My head and stomach hurt.', 'I said something hurtful to a loved one.', 'I realized I miss someone I loved who is no longer present.', \"I'm bored and hungry.\", \"It's extremely hot in choir assembly.\", \"I'm lonely.\", 'My back muscles are cramping up and hurt badly.', 'I burned my tongue.', \"I was left out of someone's #FF list and felt hurt.\", 'I totally forgot about something important.', 'People are pathetic.', 'Dad gave me an old BlackBerry without a scroll ball.', 'My luck ran out.', 'Cowell went against the producer.', 'I do not feel good', \"My beloved boy didn't come online.\", 'Being told to \"suck it up\"', 'The weather was bad.', 'My phone does not work', \"didn't get to go to the movies with Ian\", 'Feeling inadequate', 'I feel a little lonely.', \"I'm sick!\", 'Failing at BCIT', 'The Carlton game was not broadcasted live by Channel 7.', 'Janessa hurt my feelings', 'The bad weather', 'No party this weekend', 'I ran out of candy coated books.', 'I felt extreme frustration.', 'Cannot upload photos to Facebook.', 'My friend left without saying goodbye or throwing a farewell party.', \"That's bad luck\", 'Listening to a depressing song.', 'Something bad happened to someone.', 'I hate everything', 'I failed to accomplish something important.', 'I lost my laptop and had no break with two big bosses showing up.', 'Feeling disappointed', 'Technical difficulties during encoding.', \"Can't see my face in my Twitter photo.\", 'Our Quinn puppy got sick.', 'People were pissed.', 'felt guilty', 'I am stuck in learning guitar tuning.', 'We still have not eaten', 'I got my hair cut.']\n"
     ]
    },
    {
     "name": "stderr",
     "output_type": "stream",
     "text": [
      "100%|██████████| 48/48 [08:15<00:00, 10.32s/it]\n",
      "Processing:   6%|▋         | 10/156 [1:06:41<17:19:25, 427.16s/it]"
     ]
    },
    {
     "name": "stdout",
     "output_type": "stream",
     "text": [
      "/home/qiang/projects/Digital_mental_health/Dataset/Condidate_sentiment_dataset/1_event_filtered_all/output_chunk_154_event_filter.json\n",
      "['My Mac is struggling with Hulu Desktop.', 'Missing my boyfriend for two months.', 'I wanna cry.', \"My doctor did something annoying during my kids' appointment.\", \"I'm starting to hate PA.\", 'Will miss you, my love.', 'I missed getting a room.', 'Going back to school', 'Missing someone I love.', 'Someone stopped following me on social media.', \"He's making trouble.\", \"I don't have friends to spend the night with.\", \"I don't like girls romantically.\", 'Missing someone.', 'I miss you', \"California's budget deficit leads to cuts in state parks.\", 'My cousin leaves me.', \"Didn't get to see the sun today\", \"Can't keep up with someone's excessive tweeting.\", \"I'm slowly losing followers.\", \"I'm sick.\", 'Daisy cries', \"I couldn't go to Hacienda tonight.\", 'She posts shallow and embarrassing tweets.', 'My computer was wiped clean.', 'Had a bad trip', 'Had hurt feelings.', \"Had to pay for a vet's bill\", 'Hubby-to-be not feeling well', \"I'm sick\", 'I got RROD (Red Ring of Death).', 'The holidays are boring.', \"Can't sleep due to exhaustion.\", \"It's raining.\", \"I've got chlamydia.\", 'She has to leave MI.', 'I have to go back to work on Monday', 'I had too much work.', 'I missed you', 'saying goodbye to Papa.', 'Movie night spoilt by a fracked up disk.', 'It rains for two days in a row.', 'Airlines are super lame.', \"Missed getting my 'Twilight' jacket at ModCloth.\"]\n"
     ]
    },
    {
     "name": "stderr",
     "output_type": "stream",
     "text": [
      "100%|██████████| 44/44 [07:08<00:00,  9.74s/it]\n",
      "Processing:   7%|▋         | 11/156 [1:13:50<17:13:21, 427.60s/it]"
     ]
    },
    {
     "name": "stdout",
     "output_type": "stream",
     "text": [
      "/home/qiang/projects/Digital_mental_health/Dataset/Condidate_sentiment_dataset/1_event_filtered_all/output_chunk_77_event_filter.json\n",
      "['No food since waking up.', 'Missing loved ones', 'I had to wait.', 'Season finales ended.', \"I didn't get to chat!\", 'I lost my entire documents folder on my home computer.', 'Nobody loves me.', 'break from packing', 'Breaking my heart', 'Poor Johnny got sick', 'Someone called me a derogatory name.', 'I got lost in a foreign town.', 'faced a bear while driving home.', 'My throat hurts today.', \"Having doubts about whether it's worth continuing something.\", \"I'm completely exhausted\", 'I had to move usernames frequently.', 'My trousers have a problem.', 'He was rejected by G Unit.', 'Got freckles joining up on my face', 'I have a lot of homework to do tonight.', 'FGS Tweekdeckkk hates me', 'Someone stole my new laptop at the airport.', 'I had to miss the show tonight', 'Having a bad bus experience.', \"I didn't lose much weight.\", 'Living close to RAF Boulmer might not be a good thing', 'The movie \"Up\" is not available in Swedish theaters until October.', 'The Animal Collective show is sold out.', 'My Dark Knight DVD is missing.', 'Not getting help when needed', 'Woke up with a sore throat', 'I had to work in the morning while my friends partied.', 'Getting sick.', 'I had a bad experience with public transport in the North of London.', \"Maybe I'm sick all week.\", 'Tummy is hurting', 'I got stung by a bee.', 'I feel unhappy.', \"It's going to rain tomorrow.\", 'Got denied at work.', 'Does not feel good at all today', \"Missing someone's voice\", 'Will be lonely for 4 days.', \"I'm alone all the time and no one has called me in 2 weeks.\"]\n"
     ]
    },
    {
     "name": "stderr",
     "output_type": "stream",
     "text": [
      "100%|██████████| 45/45 [07:36<00:00, 10.15s/it]\n",
      "Processing:   8%|▊         | 12/156 [1:21:27<17:27:36, 436.50s/it]"
     ]
    },
    {
     "name": "stdout",
     "output_type": "stream",
     "text": [
      "/home/qiang/projects/Digital_mental_health/Dataset/Condidate_sentiment_dataset/1_event_filtered_all/output_chunk_129_event_filter.json\n",
      "['I was hated by the POs in Oakland.', 'The boys are in a sad situation.', 'My boss called me anorexic', \"I'm under house arrest.\", 'I lost my phone.', 'Sorry to hear that', \"Waiting for a visitor's pass takes forever.\", 'Carol Vorderman cancelled her interview with me.', \"Recovering from last weekend's bout of irresponsible gluten consumption.\", 'My back hurts.', 'He storms out of the meeting after being corrected on his outdated script.', \"No one's going with me to Demi Lovato's concert.\", 'My baby dried up.', 'I got a severe sunburn.', 'Roommate is snoring', \"Got sick on wife's birthday\", 'Working late at night on a low-quality Dell notebook with poor warranty service.', 'I ran over Uncle Terry.', 'Hulu desktop screwed up my ability to access a dev server.', 'I feel like an outsider on Twitter.', \"Wearing bermudas at the cinema wasn't a good idea.\", \"I didn't RSVP in time for the Dream Team party.\", \"It's not sunny.\", \"My new picture won't upload.\", 'The lion kicked the dog.', 'I burned my mouth.', 'The water will probably be cold.', 'My friend Don left me.', 'Working until midnight tonight', \"My PlayStation controller doesn't work, so I can't play Kingdom Hearts.\", \"People didn't appreciate nature.\", 'feeling ugly', 'I panicked.', \"Didn't finish tasks on time.\", 'Uncle had a heart attack.', 'Thunderstorms arrive in the afternoon.', 'The situation gets worse every year.', \"I'm scared of giving blood.\", 'I missed someone.', 'The rats became aggressive against the guinea pigs.']\n"
     ]
    },
    {
     "name": "stderr",
     "output_type": "stream",
     "text": [
      "100%|██████████| 40/40 [06:30<00:00,  9.77s/it]\n",
      "Processing:   8%|▊         | 13/156 [1:27:57<16:47:26, 422.71s/it]"
     ]
    },
    {
     "name": "stdout",
     "output_type": "stream",
     "text": [
      "/home/qiang/projects/Digital_mental_health/Dataset/Condidate_sentiment_dataset/1_event_filtered_all/output_chunk_92_event_filter.json\n",
      "[\"I couldn't log in to MSN.\", \"Someone's words pissed me off.\", 'My big sister moved out.', 'Funeral on Monday.', \"I couldn't change my picture.\", \"It's ridiculously hot outside.\", 'I have to clean my messy room.', 'I am so tired every day.', 'Being the only sober one tonight', \"I'm really missing Fabian\", 'Got confused using Dailybooth', 'I have symptoms of illness (piggy flu).', \"I'm really missing my grandparents' place.\", 'I might have to go to sleep without talking to her.', 'Life sucks!!', \"I'll just go and cry in the corner.\", 'I lost a bet.', 'Cici not being here this weekend', 'Someone broke into my car.', \"I don't have any photos of me and my Grandma together.\", \"It's storming.\", 'Plan may change', 'I got a sunburn on the back of my leg and it hurts badly.', 'Got kicked out of Hollyoaks', \"I'm having a hard time.\", 'It gets hit.', 'I eat something and it hurts my stomach.', 'I fell off my chair.', 'People thought I disliked someone.', 'The mosquito chased me inside.', 'I was disappointed by someone.', 'I missed a lot of classes', \"I'm so tired\", \"I'm exhausted.\", 'I cried', 'I effed up my nose!', 'People stuck their nose in my business.', 'Doing dishes alone', 'I missed giving away a TTC code', 'My partner will be away for a whole week.', 'I have to take an exam.', \"I don't want to work!\", 'My trip was canceled', 'Had a boring Friday']\n"
     ]
    },
    {
     "name": "stderr",
     "output_type": "stream",
     "text": [
      "100%|██████████| 44/44 [07:29<00:00, 10.22s/it]\n",
      "Processing:   9%|▉         | 14/156 [1:35:27<16:59:41, 430.86s/it]"
     ]
    },
    {
     "name": "stdout",
     "output_type": "stream",
     "text": [
      "/home/qiang/projects/Digital_mental_health/Dataset/Condidate_sentiment_dataset/1_event_filtered_all/output_chunk_80_event_filter.json\n",
      "['Found gum in my hair after getting a haircut.', 'People screaming instead of talking.', 'Feeling sad today', \"I'll have to get a CF adapter for my DSLR.\", 'Having to work at 5pm when feeling tired.', 'I had to remove 75% of my music.', 'I got emotional listening to a song that reminded me of past memories.', 'I hate history coursework.', 'I miss my cousin so badly.', 'Something bad happened', 'I was ignored by someone I care about.', 'The gloomy weather is making me sad.', \"Missing Birmingham (assuming it's a place of importance to the individual)\", 'I stopped doing burlesque due to constant fighting.', 'We pulled a malicious action the other night.', 'It was not a good day', \"It's hard to share what I have.\", 'My head hurts', \"The day wasn't the same without you.\", \"The little boy knows what's coming and looks scared.\", 'No one can come over when I needed them.', 'I cried during a movie.', 'No one was interested in my special.', 'My best friend excluded me from their life.', 'My Twitter account was hacked.', \"I'm feeling kinda sick.\", \"She didn't attend an important event.\", 'I felt left out.', 'Having money problems', 'Received briefs with groups from traditional agencies.', \"I'm shattered and knackered\", \"She didn't win the glasses.\", 'I have stomach pain again & again.', 'My tummy hurts', 'I miss my girl.', 'It was expensive.', 'It started to rain two minutes after I woke up.', 'Hated the weather.', 'Feeling worried', 'Feeling fed up', 'Lived in a place that felt like an Orwellian dystopia.', 'Had to work on an overtime project at lunchtime.', 'Got into an argument with someone (implied by \"Screw you guys\").', 'Had nothing to do on Friday evening', \"I'm always tired no matter how much I sleep.\"]\n"
     ]
    },
    {
     "name": "stderr",
     "output_type": "stream",
     "text": [
      "100%|██████████| 45/45 [07:17<00:00,  9.72s/it]\n",
      "Processing:  10%|▉         | 15/156 [1:42:44<16:57:04, 432.80s/it]"
     ]
    },
    {
     "name": "stdout",
     "output_type": "stream",
     "text": [
      "/home/qiang/projects/Digital_mental_health/Dataset/Condidate_sentiment_dataset/1_event_filtered_all/output_chunk_69_event_filter.json\n",
      "[\"Our team's pitching has been lackluster and our shortstops can't field.\", \"Being visually impaired means I don't deserve to read.\", 'Got pulled over by a cop', 'I am doing boring revision', 'Having the worst Saturday in ages', 'Being disappointed as a Suns fan', 'My arms feel sore.', 'Life is not good.', 'I had to leave early.', \"It's hailing outside.\", 'Having a bad experience.', 'I saw the saddest movie.', \"My boyfriend didn't like my friends.\", 'I miss that band', 'Having a bad day', 'I miss Basket Case.', \"I couldn't log in to Flickr.\", 'My baby has a high fever.', 'License got cancelled.', 'The phone issues cut the interview short.', \"We didn't get an MRI today and have to come back to Oklahoma City soon.\", 'I had a bad day.', \"The world blames all people for one person's wrongdoing.\", 'No one will go with me to see a movie.', 'I had tonsils problems.', \"I couldn't reach Mitchell Musso when I called.\", 'Watching the series finale of Green Wing.', 'Something sucks.', 'Bugs attacked my laptop', 'I had a bad day yesterday', \"I won't be there!!!!!!!!!\", 'I have to go home.', \"I'm mad\", \"I'm getting sick.\"]\n"
     ]
    },
    {
     "name": "stderr",
     "output_type": "stream",
     "text": [
      "100%|██████████| 34/34 [04:31<00:00,  8.00s/it]\n",
      "Processing:  10%|█         | 16/156 [1:47:16<14:56:52, 384.37s/it]"
     ]
    },
    {
     "name": "stdout",
     "output_type": "stream",
     "text": [
      "/home/qiang/projects/Digital_mental_health/Dataset/Condidate_sentiment_dataset/1_event_filtered_all/output_chunk_150_event_filter.json\n",
      "['The year 2010 ended.', \"Living in Reno (assuming it's an unfavorable experience for the individual)\", 'Got over on his mom.', 'Plans were cancelled by friends.', 'I got sick with inflamed vocal cords', 'Tripping due to tiredness', 'Sitting in school sucks for me.', 'Milk spilled everywhere', 'The park was not saved.', 'I cut my hand open', 'The video I wanted to watch was private.', 'My boyfriend was mean to me.', 'Stuck in a bad contract for 18 months.', \"I'm having issues with my bank account at Chase.\", 'I was excluded from a party.', 'Watching videos on Facebook makes me feel like a creep.', 'I was given a police ticket.', 'I got scared and had anxiety', \"I'm failing Algebra 2 class.\", 'I have hives all over my legs and arms that itch SO bad!', 'I had to take a retail job this summer.', 'My friend moved away.', 'I stopped playing spades and drinking.', 'Had to confiscate phone from someone who was drunk.', 'I had to leave Edinburgh.', 'I am sick.', \"Lady Gaga's songs are stuck in my head.\", \"I couldn't go to my friend's house\", \"I'm late for class again.\", 'something awful happened', 'This is all so sad.', \"The sun won't shine.\", 'My camera sensor is dirty.', 'I feel ashamed', 'Favourite item of clothing gets ruined.', 'I made a fruit smoothie and it was very bad.', 'I had to spend my money on bills', 'My feet get cold', \"I'm sick.\", 'Nobody replies to me.', 'Having trouble syncing my iPhone to my work exchange email']\n"
     ]
    },
    {
     "name": "stderr",
     "output_type": "stream",
     "text": [
      "100%|██████████| 41/41 [06:28<00:00,  9.48s/it]\n",
      "Processing:  11%|█         | 17/156 [1:53:45<14:53:33, 385.71s/it]"
     ]
    },
    {
     "name": "stdout",
     "output_type": "stream",
     "text": [
      "/home/qiang/projects/Digital_mental_health/Dataset/Condidate_sentiment_dataset/1_event_filtered_all/output_chunk_116_event_filter.json\n",
      "[\"Didn't have fun\", 'We had to make our 6th move.', \"my iMac's died\", \"I didn't like something on Twitpic.\", \"He's mad at us\", 'Watching Hollie was sad to watch.', 'My friends (Natalie and Holly) were treated meanly.', 'I had to attend a high school graduation outdoors in the heat.', 'Having to go to school on Monday.', 'Having a bad day', \"I'm freakin' bored!\", 'They are going to do a remake of Girls Just Wanna Have Fun.', 'I had to put my mom in a home.', 'Not having Hulu in Germany', 'Having kidney stones for the fifth time.', 'I will leave my city.', 'Had trouble with Stocktwits account.', 'The Miley Cyrus song got stuck in my head.', \"I'm not getting another one\", 'I was sick', \"I couldn't go to Spain.\", 'The wee girl started crying and her mum scolded her.', 'I got a huge pimple on my face.', 'My phone (LG KC910) is a piece of crap.', 'I lost a follower', \"I'll be unknown\", 'I miss my girlfriend.', 'My feelings are hurt', \"I've got a headache\", 'I have arthritis in my left hand that prevents me from using my thumb.', 'Today did not start out well', \"That doesn't sound like fun (rewritten as) Event: Having no fun\", 'I had to get up too early', 'Photo was set to private.', 'Dogs were limping.', 'Kate left me.', 'My mom needs more surgery.', 'No one will go with me.', 'Moving tonight.']\n"
     ]
    },
    {
     "name": "stderr",
     "output_type": "stream",
     "text": [
      "100%|██████████| 39/39 [05:42<00:00,  8.78s/it]\n",
      "Processing:  12%|█▏        | 18/156 [1:59:28<14:17:09, 372.68s/it]"
     ]
    },
    {
     "name": "stdout",
     "output_type": "stream",
     "text": [
      "/home/qiang/projects/Digital_mental_health/Dataset/Condidate_sentiment_dataset/1_event_filtered_all/output_chunk_3_event_filter.json\n",
      "['I have bumps on my tongue and throat.', 'I have to stay awake all night.', \"Being disappointed by someone's action or decision\", 'I have fever.', \"The book I'm using was recalled by someone.\", 'I had no fun this weekend.', 'The product did not come with one.', 'I miss driving down Elmwood Avenue', 'Turning 25, feeling like time is flying by and next big birthday is far away.', \"I'm swamped with deadlines.\", 'My sunburn is peeling', 'I have no one to cuddle with.', 'I had to visit the dentist.', \"My cell phone's battery is dying.\", 'I have a stupid job', \"Didn't want to go to work tomorrow\", 'My phone got damaged after falling off the table.', \"I don't entertain him\", 'These heels are killing me and I can hardly walk in them.', 'Both electronic keys stopped working.', 'Lost waterfront access', 'Caught the flu', 'All the passengers are dead.', 'I had no one to hang out with on prom night.', 'Feeling jealous', \"I'm sad\", 'This week was not easy for me.', 'I felt nauseous playing Bouncing Rush', 'Playing SingStar without my favorite duet partner.', \"I didn't sleep yet for the night.\", \"Can't beat Seth on easy.\", 'My son got stung by a bug.', 'Got into a car accident while drunk.', 'James is creepy.', \"I'm missing my going-away party.\", 'People are mean to me.', 'My dad needs a new heart.', 'Being stuck in an office without windows.']\n"
     ]
    },
    {
     "name": "stderr",
     "output_type": "stream",
     "text": [
      "100%|██████████| 38/38 [06:14<00:00,  9.85s/it]\n",
      "Processing:  12%|█▏        | 19/156 [2:05:42<14:12:05, 373.18s/it]"
     ]
    },
    {
     "name": "stdout",
     "output_type": "stream",
     "text": [
      "/home/qiang/projects/Digital_mental_health/Dataset/Condidate_sentiment_dataset/1_event_filtered_all/output_chunk_33_event_filter.json\n",
      "['Had problems with Verizon service.', \"I didn't attend university after finishing Form 5.\", 'Found a dead gerbil.', 'I feel really sick', 'I had trouble changing my Twitter profile picture.', \"I missed someone I've been talking to on the phone.\", 'I sat in my bedroom and cried.', 'Manual process is taking too long on my Outlook database.', 'I hate going to coffee.', \"I'm not going to be at prom tonight.\", \"Can't sleep due to being overwhelmed.\", 'Was questioned by a stranger about my destination.', 'I lost my car', \"My computer is broken and won't let me vote.\", 'I associated with fake people.', 'I got sick with a bug.', 'I broke my leg', 'I messed up my own lyrics', 'I over reacted and did the worst', \"My parents won't let me go to your chat\", 'The tip of my finger hurts', 'I bite my nails.', 'Something bad happened', 'Had to clean in hot weather.', 'I felt neglected', \"People keep texting me while I'm trying to sleep.\", 'There was no happy hour in CCP.', 'I missed George Carlin', 'Sent an SMS to the wrong number (78277).', \"A bird broke its neck by flying into a window at my parents' house.\", \"I'm stuck in a 9-5 life that's not for me.\", 'feel crappy today', 'My girlfriend flirted with my colleagues.', 'Going through a difficult time.', \"I'm bored.\", 'binstruct suffered from an update of the mib package.', 'I miss my brothers.', \"The link doesn't work\", \"I'm going to cry all the way home.\", 'Hair dye patch test smeared all over my white duvet cover.', 'My mom is making me go to school on a snow day.', 'My back hurts and I have to go to the doctor.']\n"
     ]
    },
    {
     "name": "stderr",
     "output_type": "stream",
     "text": [
      "100%|██████████| 42/42 [06:13<00:00,  8.89s/it]\n",
      "Processing:  13%|█▎        | 20/156 [2:11:55<14:06:07, 373.29s/it]"
     ]
    },
    {
     "name": "stdout",
     "output_type": "stream",
     "text": [
      "/home/qiang/projects/Digital_mental_health/Dataset/Condidate_sentiment_dataset/1_event_filtered_all/output_chunk_10_event_filter.json\n",
      "['Headed to the hospital due to unbearable pain.', 'Feeling bored', 'Having difficulty saving money.', 'I have to go to the dance tonight.', 'Twisted my ankle.', \"I couldn't sleep\", \"I'm very upset.\", 'Hollyoaks was sad tonight', \"The people I know don't have a Wii.\", 'I have anxiety about making a phone call.', \"I'm going to miss an hour of the Lakers game.\", 'I burned my finger with oil.', 'Friday is not treating me well', 'I am so tired from school and work.', 'I missed the story on ACORN tonight.', 'Someone else used my credit card for online gambling.', 'I ruined a friendship', 'something bad happened', 'Something bad happened', \"It's not fair that I'm stuck in the house on a hot day.\", 'Making compromises kills us.', 'I showed up at an event wearing a scary white mask and scared everyone.', 'Got sunburnt.', 'I feel lazy watching other people work on my roof', 'Got spanked by Barca', \"I couldn't go to Virginia Beach.\", \"I didn't have time on this tour\", \"Forgot about my daughter's soccer game today.\", 'Missing a deadline or opportunity', 'I forgot my birthday.', 'TOO MANY ASSIGNMENTS!', 'I lost a follower', 'Had to work during the storm', \"Things aren't going well.\", 'My car was not in one piece', 'I am still without a license.', 'My shoulder muscle hurts.', \"I couldn't afford to attend benefits.\", 'I had a hangover', 'My attempts at writing failed.', 'Very bad things happened.', 'Phone will die soon.']\n"
     ]
    },
    {
     "name": "stderr",
     "output_type": "stream",
     "text": [
      "100%|██████████| 42/42 [06:35<00:00,  9.42s/it]\n",
      "Processing:  13%|█▎        | 21/156 [2:18:31<14:14:59, 380.00s/it]"
     ]
    },
    {
     "name": "stdout",
     "output_type": "stream",
     "text": [
      "/home/qiang/projects/Digital_mental_health/Dataset/Condidate_sentiment_dataset/1_event_filtered_all/output_chunk_38_event_filter.json\n",
      "['I miss you.', 'Elena left me.', \"Didn't get home till late and had to work at BJs early.\", 'Woke up at 4am feeling anxious or unhappy.', 'Feeling frustrated at work while waiting for time to pass.', \"Didn't find job openings in my area after applying to US Postal.\", 'Families are broken up by humans.', \"I don't have enough funds.\", 'I had too many cocktails last night.', \"Can't watch anymore\", 'Richard Marx\\'s \"Right Here Waiting\" is making me feel sad.', 'Woke up with tummy pains.', 'It takes time to open a webpage.', 'I failed to get a high score (implied by getting only 20%).', \"Grandma didn't put any treats on my food.\", \"Didn't get to ride what I wanted to at Six Flags.\", 'I am not getting along with someone anymore.', 'I have a headache; I have nobody to keep me company.', 'Sugar will put me down.', 'My finger got infected.', \"I'm bored.\", 'Feeling confused about handling a real relationship.', 'I was unable to express myself on Twitter for four days.', \"I'm the only person on earth not going out.\", 'Feeling disconnected from someone', \"Can't go to the movies today\", \"My corporate giant employer won't let me access a website.\", \"The vet stitched my dog's ear and charged me for it, but she still bleeds excessively.\", 'Bella has a double ear infection and was screaming in pain.', \"I'm stuck at an ATM.\", 'another build failed!', 'The website \"majorspoilers.com\" is not working.', 'I have a headache', 'I got an infected cut that hurts like hell.', 'experiencing Adam withdrawal syndrome.', 'Mother Nature is making my life miserable', 'I caused someone pain.', 'Got stuck in traffic.', 'I got grounded', 'I have problems with battery and earpiece.']\n"
     ]
    },
    {
     "name": "stderr",
     "output_type": "stream",
     "text": [
      "100%|██████████| 40/40 [07:08<00:00, 10.71s/it]\n",
      "Processing:  14%|█▍        | 22/156 [2:25:40<14:41:12, 394.57s/it]"
     ]
    },
    {
     "name": "stdout",
     "output_type": "stream",
     "text": [
      "/home/qiang/projects/Digital_mental_health/Dataset/Condidate_sentiment_dataset/1_event_filtered_all/output_chunk_114_event_filter.json\n",
      "['Heard bad news about Ashleycat', \"Dealing with people's tears and HR stuff.\", \"I'm not allowed to scratch my hair.\", 'Things are not going well.', 'I dropped my soda.', 'received bad news', 'Panera was mean to my iPhone.', 'My internet is not working properly.', 'Driving after school today was bad.', 'God School is going to suck next year.', \"It's still raining.\", \"I couldn't load it up.\", 'Had homework to do.', \"I don't want to go to work\", 'Bad start to the day', 'I was insulted.', \"Going to Nottingham (against one's will)\", \"I'm missing Tennessee a lot.\", 'I had trouble with Starship troopers.', 'I had too much alcohol.', \"I'm so bored.\", 'Burned my tongue', 'No more exams, no more classes, no more bunking.', 'watching a boring police program', \"I don't have money.\", 'The girl had a bad experience.', \"People won't give Ernie Reyes Jr a break.\", 'I was told I have to recover fully before I can go paintballing again.', 'All my work got erased.', 'I hated something.', 'The butterfly died.', 'I had a headache on my day off.', 'I burnt my fingers.', 'Having severe allergies', 'Feeling worthless and unable to do anything right.', \"You don't look well.\", 'I had a math test today.', \"It's probably going to rain.\", 'Feeling bored', 'Little kids annoyingly attacked me.', 'Twitter account was gone.', 'Missed the chatroom.', 'The hairdresser messed up my haircut.', 'Feeling sad']\n"
     ]
    },
    {
     "name": "stderr",
     "output_type": "stream",
     "text": [
      "100%|██████████| 44/44 [06:01<00:00,  8.21s/it]\n",
      "Processing:  15%|█▍        | 23/156 [2:31:41<14:12:32, 384.61s/it]"
     ]
    },
    {
     "name": "stdout",
     "output_type": "stream",
     "text": [
      "/home/qiang/projects/Digital_mental_health/Dataset/Condidate_sentiment_dataset/1_event_filtered_all/output_chunk_44_event_filter.json\n",
      "['Woke up feeling sick.', 'Left my money at home.', \"I couldn't access Restaurant City due to an internet/javascript problem.\", 'had to go to work on a day off, had to go to the dentist for a filling, had to get an MRI scan.', 'I agreed to a metric century cycling event.', 'I missed my brother.', 'I am sad', 'My mouth hurts from wearing a retainer.', 'had bad driving experiences.', \"couldn't find the specific thing I wanted to do with this drive's autorun.\", 'Man Utd lost', \"She didn't follow me back on social media.\", \"You're insulting me.\", \"My mobile doesn't work.\", 'I am pissed at someone.', 'I have another clot in my leg.', 'I burned myself making soup.', 'My tongue hurts so bad.', 'Getting ready for a yard sale tomorrow.', 'Having trouble understanding something.', 'I got Twitter error messages on my mobile.', \"I'm so tired\", 'The weather became gloomy.', 'I had no heart hand partner and no one to dance with tonight.', \"That's a mess\", 'A man died in a car wreck.', 'Still sad about Samantha', 'I am in pain', 'My daughters are developing an unhealthy liking for Primark.', \"Can't fall asleep after a teleconference.\", 'My cousin is in trouble.', 'Today felt horrible.', 'A person died.', 'The house circuit breaker tripped and $200 worth of parts were damaged.', 'Found out I have to go to the US again in August.', 'The link did not work.', \"The signing times in my children's article were all wrong.\", 'The Statue of Liberty will not be open during my NYC trip.', 'I had the worst allergy flare-up in my life.', 'My MacBook Pro fell off the iCurve.']\n"
     ]
    },
    {
     "name": "stderr",
     "output_type": "stream",
     "text": [
      "100%|██████████| 40/40 [06:00<00:00,  9.02s/it]\n",
      "Processing:  15%|█▌        | 24/156 [2:37:42<13:50:32, 377.52s/it]"
     ]
    },
    {
     "name": "stdout",
     "output_type": "stream",
     "text": [
      "/home/qiang/projects/Digital_mental_health/Dataset/Condidate_sentiment_dataset/1_event_filtered_all/output_chunk_68_event_filter.json\n",
      "['My hair got fried after rebonding.', 'My plans were ruined.', 'The movie starring Kunal Khemu etc. turns out to be bad.', 'House 1 smelled like a bowling alley and was gross; House 2 needed a new roof and basement.', 'Got stuck in a traffic jam', \"I haven't met my best friend's husband.\", 'I lost my voice.', \"I couldn't send love on Bebo because I'm on school computers.\", 'My screen turned black, which means no texting.', 'School is boring', \"You're mean to me.\", 'The porridge tastes bad.', 'I found out I have asthma', 'Having to make a tough decision between starting something new or leaving something alone.', 'Having a complicated dream', 'My voice hurts.', 'I tripped over a plastic telescope and hit my head.', 'Radio X 96.1 is going all sports next month (implying a loss of non-sports programming, which may be unfavorable for some participants).', 'I have an itchy eye.', \"I'm stuck in a bad situation.\", 'Rafa is 3-2 down in the third.', \"I'm tired\", 'The dissection of a frog in class.', 'I wanted to smack someone.', 'The Red Devils were disappointing.', 'Feeling fed up with pain.', 'Feeling bored at school', 'saw something shocking', 'I am not in California with Mari and Lupita.', 'I got burnt.', 'Having a sad day', 'My friend bailed out on our plans due to work.', 'Got stuck in exit traffic.', 'does not like UPS much today', \"didn't get to play over the weekend.\", 'My dad took me to a strange place without giving me time after breakfast.', 'I encountered someone who uses drugs.', 'I missed my dance friends.', 'I lost a diamond earring.', 'I forgot about separate bins.', \"Didn't get to see someone.\", 'Law abiding citizens got swine flu.']\n"
     ]
    },
    {
     "name": "stderr",
     "output_type": "stream",
     "text": [
      "100%|██████████| 42/42 [05:30<00:00,  7.86s/it]\n",
      "Processing:  16%|█▌        | 25/156 [2:43:12<13:13:19, 363.35s/it]"
     ]
    },
    {
     "name": "stdout",
     "output_type": "stream",
     "text": [
      "/home/qiang/projects/Digital_mental_health/Dataset/Condidate_sentiment_dataset/1_event_filtered_all/output_chunk_125_event_filter.json\n",
      "['Feeling bored.', \"I couldn't fit into size 14 jeans.\", 'I had to give up my Red Sox tickets.', 'Mom has left me.', 'Tomorrow is going to be bad.', 'My parents were apart for 6 months this year and I will be 10K miles apart from them.', \"I'm missing someone\", \"It's awful.\", 'Overwhelmed by a large number of messages to respond to.', 'Something bad happened.', 'someone made me feel very bad', 'No more free parking', \"My friend didn't come to meet me.\", \"I don't get updates from someone's tweets.\", 'Mass exodus from work at half three makes me sad.', 'Someone did something desperate for attention.', 'I have a headache.', 'My old notebook became slow.', \"The Mendeed's disbanding\", 'My 11:00 meeting on Monday got rescheduled to 9 am.', 'Treated like a stepchild by jmichelle.', 'She misses Quil.', 'I was shocked', 'I got knocked down by Sam Hanks at a bowling alley.', 'I was ignored by someone I care about.', 'I thought I was going to wet my pants.', \"My picture isn't showing up\", \"I'm going to miss my iMac.\", 'Missing out on sunshine', 'Venus lost a game/match', 'I was afraid.', 'My eyes hurt.', 'Dreamed of repairing guns in my sleep due to excessive gaming.', 'I was bored at home.', 'People in my house leave doors open.', 'My throat hurts', 'Being left with only Tommy who is no prize.', 'My son had surgery', 'I gave away my tickets.']\n"
     ]
    },
    {
     "name": "stderr",
     "output_type": "stream",
     "text": [
      "100%|██████████| 39/39 [05:11<00:00,  7.97s/it]\n",
      "Processing:  17%|█▋        | 26/156 [2:48:23<12:33:14, 347.65s/it]"
     ]
    },
    {
     "name": "stdout",
     "output_type": "stream",
     "text": [
      "/home/qiang/projects/Digital_mental_health/Dataset/Condidate_sentiment_dataset/1_event_filtered_all/output_chunk_109_event_filter.json\n",
      "['It was too hot on a crowded train with no open windows.', 'He killed everyone.', \"Can't afford to move away\", 'Choked on her retainers', 'I have no money', 'Woke up an hour earlier than expected.', 'I am going to miss the tweet up this weekend', \"My dog thinks I'm abandoning her.\", 'Feeling bored.', 'The new Texas driver license design is ugly.', 'I failed a \"How well you know Katie Outzen\" quiz about my best friend of 13 years.', 'Smell like Clorox after cleaning the bathroom.', 'Being unable to communicate with someone due to distance.', \"Can't take this anymore or my mind will blow off.\", \"I'm too tired\", 'My internal clock is messed up.', 'Lost Internet during an online raid.', 'Missing good old days', 'Having trouble paying for school next semester.', 'died again in KP', 'Someone smells like pee.', 'Music does not help my feelings.', 'Some Christians made it hard for her.', 'My iPod froze when I needed it most.', 'I had to leave work early.', 'I got a wet willy.', 'I get bitten by ticks all the time', 'The weather gets really humid.', 'Feeling sad', 'I failed.', 'Having a sad day', 'Malaria parasites are becoming resistant to drugs', 'Feeling bored', 'Still stuck in my office waiting for others to get their work done.', 'Knowing that something unpleasant exists.', 'I got a severe hangover.', 'I have painful blisters and raw skin on multiple parts of my body.', 'We must stop spending and only work!!!', 'I have no more friends', \"It's raining.\", \"I felt like I'm a waste of space.\", 'I got a sunburn', 'My twitpic is not working', 'I peed in the potty', 'I missed a party.', 'Doing homework is boring']\n"
     ]
    },
    {
     "name": "stderr",
     "output_type": "stream",
     "text": [
      "100%|██████████| 46/46 [01:41<00:00,  2.21s/it]\n",
      "Processing:  17%|█▋        | 27/156 [2:50:05<9:48:51, 273.89s/it] "
     ]
    },
    {
     "name": "stdout",
     "output_type": "stream",
     "text": [
      "/home/qiang/projects/Digital_mental_health/Dataset/Condidate_sentiment_dataset/1_event_filtered_all/output_chunk_111_event_filter.json\n",
      "['I had to take an exam on a Saturday.', 'Having a headache', \"I don't have enough money to travel.\", 'She starts typing on her computer in the middle of the night.', 'Getting p***ed by irate callers while trying to record.', \"I'm stuck doing projects.\", \"Life isn't fair\", \"I don't feel good at all.\", 'My generation is too apathetic to have fun.', 'I got a bruise on my knee.', 'I miss my boo', 'Having a bad day', 'I had trouble understanding math formulas.', \"I didn't get the mail.\", 'Today sucks.', 'Atom 330 cannot play Youtube HD or Hulu HD fullscreen.', 'Saw a dog with two broken back legs.', 'I miss my uncle Sam', 'Encountered mean people.', \"Couldn't get back to sleep.\", 'Had to boot directly to Vista for online banking.', 'Something bad has happened.', \"The last two recommendations aren't available in the UK.\", 'Internet on trains was unavailable or bad.', 'I was forgotten by someone.', \"I'm experiencing a hurricane.\", 'The train got lost or went off route on a bank holiday.', 'Steak and Shake has been doing something unexciting for months.', 'Feeling sick with the plague.', 'I have a hangover.', \"It's near impossible to find books and things on Cockney over here.\", 'My iPod died', 'Had a sleepless night dedicated to homework.', 'I had to work on the weekend and felt overwhelmed.', 'Luc Bourdon was killed', 'I missed someone I wanted to meet.', 'Cancelling my JavaOne', 'My toddler has a rash.', 'My head is spinning again', 'The visit to La Ventana de los Cielos foundation was postponed for 2 weeks.', 'My modem failed', \"I felt hated heading to my mom's house.\", 'I missed someone.', \"I didn't like someone (Jerms).\", 'My puppies killed my cat.', 'always tired, always cold and always have a headache.']\n"
     ]
    },
    {
     "name": "stderr",
     "output_type": "stream",
     "text": [
      "100%|██████████| 46/46 [01:48<00:00,  2.35s/it]\n",
      "Processing:  18%|█▊        | 28/156 [2:51:53<7:58:14, 224.18s/it]"
     ]
    },
    {
     "name": "stdout",
     "output_type": "stream",
     "text": [
      "/home/qiang/projects/Digital_mental_health/Dataset/Condidate_sentiment_dataset/1_event_filtered_all/output_chunk_30_event_filter.json\n",
      "[\"My left hand is so swollen, I can't wear my wedding ring.\", 'Being forced to go to unwanted places.', 'Struggling to wrap my stronger hand with the other.', 'I never want to come home.', \"I've applied to 30 places but had no luck.\", 'Had a gender war', 'Did not go to the gym', \"There's no one to play with.\", 'I almost burnt my house down', 'Sent a public message instead of a direct message.', 'Nobody has followed me today', 'I felt bored.', 'Change of plans', 'I traumatized her.', 'I had a cystic lacrimal infection that caused my eye and face to swell and hurt.', 'I lost respect for Owen.', 'My dad always made me late, and I got in trouble.', 'I got hurt during airsoft.', 'My uncle passed away.', \"We're going to sit in nosebleed seats.\", 'Too much email in my inbox.', 'I miss my orange nano', \"People don't seem excited to play in DC.\", 'It rained during my trip/vacation.', 'Feeling lonely and missing someone.', 'The handbag I wanted has been sold.', 'Beta 5 of 3.0 expired today', 'People were drooling over someone else instead of paying attention to me.', \"I'm tired.\", 'Receiving lower payment due to currency exchange rate change.', 'My room is a mess.', 'Ambien got sick.', 'I overspent', 'Sue is retiring', 'I got a kidney stone.', 'I missed a union meeting.', \"It's going to get worse now that the girls are home for summer.\", 'Having problems with the server.', 'I miss my T-Dub.', 'I feel dislike', 'Feeling sick.', 'I failed miserably at booking a holiday', 'My knee hurts!', \"Twitter won't let me change my profile picture.\"]\n"
     ]
    },
    {
     "name": "stderr",
     "output_type": "stream",
     "text": [
      "100%|██████████| 44/44 [01:42<00:00,  2.34s/it]\n",
      "Processing:  19%|█▊        | 29/156 [2:53:36<6:37:29, 187.79s/it]"
     ]
    },
    {
     "name": "stdout",
     "output_type": "stream",
     "text": [
      "/home/qiang/projects/Digital_mental_health/Dataset/Condidate_sentiment_dataset/1_event_filtered_all/output_chunk_29_event_filter.json\n",
      "[\"I'm screwed\", 'Became a slave to my mother.', \"I'm going to miss my little brother's birthday party.\", 'trying to fix some weird query', 'There is nothing to do.', 'Had a bad craving for something unavailable.', 'Having a cruel condition', 'Lost FM97', \"My sister doesn't want to go to Milwaukee with me.\", 'I am hungry', 'I felt worthless.', 'I had to email the tech support people.', \"It won't work in the UK.\", 'My USB died.', 'Hearing bad news', 'I got a bruise on my foot.', 'Got into an argument with shop staff and got a blister on my foot.', \"Didn't get paid till Monday.\", 'Got charged for data despite having a data pack', 'I had a bad experience with a lender.', 'NIN App Gets Rejected by Apple', 'Trying to get my house ready to sell.', \"I'm sick\", 'Have a headache', 'I lost my walking partner.', \"I don't understand something.\", \"I'm tired and I have to go to the airport to pick my mom up.\", \"It won't work for me\", 'Not being allowed to make a phone call due to high costs.', \"You can't wear the uniform.\", 'Having a bad time.', \"I couldn't attend my friend Cheri's prom night due to distance.\", 'The economy is depressing', 'I spent a ton of money on tools.', 'Will be away from my baby for 2 days', 'I got a new library fine.', 'The chair is not comfortable.', \"They didn't have the bubble tea I wanted.\", 'We missed him', 'Having a long night ahead.']\n"
     ]
    },
    {
     "name": "stderr",
     "output_type": "stream",
     "text": [
      "100%|██████████| 40/40 [01:35<00:00,  2.39s/it]\n",
      "Processing:  19%|█▉        | 30/156 [2:55:12<5:36:18, 160.15s/it]"
     ]
    },
    {
     "name": "stdout",
     "output_type": "stream",
     "text": [
      "/home/qiang/projects/Digital_mental_health/Dataset/Condidate_sentiment_dataset/1_event_filtered_all/output_chunk_71_event_filter.json\n",
      "['Someone insulted me (Brody).', 'I felt selfish and jealous.', 'I got a stomach bug with fever.', \"I couldn't attend the London show.\", 'I am limited to syncing with only one MS Exchange account on iPhone.', \"Her children's mother passed away\", 'My feet are really hurting.', 'Running out of money', 'Boyz made me sick at work.', 'I came off as an idiot.', 'Struggled with red hair upkeep.', 'learned that July 4 fireworks were cancelled due to the economy.', 'I had a panic attack.', 'Our country is in a bad state.', 'I lack mobile reception.', 'I saw a poor lost duck outside.', 'I lost a follower.', 'The neti pot is not working for me.', 'I broke my foot', 'Feeling lonely', \"I couldn't sleep\", \"That's too bad\", 'My body is aching.', 'Missed an important IM from someone again.', 'Being given up on.', 'Missed a weekend due to work deadline.', 'Boys Like Girls is gonna be at Kentucky Kingdom on a date I already have a show.', 'still sick', 'I burned myself.', \"I'm on the wrong wireless plan\", \"SFO's $7 wifi is garbage.\", \"I don't get my fix.\", 'I messed up that test', 'Missing someone.', \"Can't sleep tonight.\", 'I missed someone.', 'Well that sucked', 'We accidentally killed Bambi on the way home.', 'People are weird', \"I didn't get my tax returns and had to miss my best friend's wedding.\", 'Feeling unwell/bad mood', 'Feeling overwhelmed and trapped in a difficult situation.', 'Next Wednesday will be bad.', 'I burnt my finger']\n"
     ]
    },
    {
     "name": "stderr",
     "output_type": "stream",
     "text": [
      "100%|██████████| 44/44 [01:33<00:00,  2.12s/it]\n",
      "Processing:  20%|█▉        | 31/156 [2:56:45<4:51:55, 140.12s/it]"
     ]
    },
    {
     "name": "stdout",
     "output_type": "stream",
     "text": [
      "/home/qiang/projects/Digital_mental_health/Dataset/Condidate_sentiment_dataset/1_event_filtered_all/output_chunk_63_event_filter.json\n",
      "['I woke up to face the start of my last summer in Bath, feeling gutted.', 'My drawer was 5 dollars short.', 'My friend dies.', 'Had to sit in front of a computer all day.', 'No one can accompany me to Korean BBQ.', 'My baby daddy is an impostor', \"I'll never be the same again\", \"Can't sleep.\", 'Home lost the baseball game.', 'I unfollowed someone by mistake.', \"It's raining and chilly, and I have a headache.\", \"Can't sleep on the bus.\", 'Someone is squatting on my desired username.', 'I miss him', 'Having a bad idea', 'My appointment was cancelled due to a full schedule.', \"A friend's friend insulted me.\", 'Pogs are back', 'Razer is ignoring my emails', 'forgot my lunch', \"Didn't want to go to work\", 'I cut my finger!', 'The kid is sick', \"Jay Leno's show is ending.\", 'My phone is not working.', 'Got attacked by a swarm of mini flies.', 'I lost my ticket to New York.', \"My mom said I'm the worst driver EVER.\", 'Feeling bored', 'I have to leave home.', 'There are no jobs', 'They selected the wrong part for the highlight for the soprano guy.', 'I forgot where I placed my to-do list.', 'I was crying', 'My tail lights were damaged by a hit and run.', \"I'm out of money.\"]\n"
     ]
    },
    {
     "name": "stderr",
     "output_type": "stream",
     "text": [
      "100%|██████████| 36/36 [01:18<00:00,  2.18s/it]\n",
      "Processing:  21%|██        | 32/156 [2:58:04<4:11:28, 121.68s/it]"
     ]
    },
    {
     "name": "stdout",
     "output_type": "stream",
     "text": [
      "/home/qiang/projects/Digital_mental_health/Dataset/Condidate_sentiment_dataset/1_event_filtered_all/output_chunk_43_event_filter.json\n",
      "[\"Someone doesn't like me.\", 'Shin Ae got married to someone else.', 'I got a sore throat after touching something with germs on it.', 'My brother takes and wears my clothes without asking.', 'Having arthritis', 'I miss my girlies.', \"Broke a vase I didn't get a chance to use.\", \"I couldn't find the Unity girl on Bebo.\", \"I didn't get a picture with you.\", 'Someone or something experienced sadness.', 'Got attacked by the club', 'I coughed up a lung', 'Had to do two 50-page assignments over the weekend.', 'Too much work to do.', 'My parents unexpectedly showed up at my house with the whole family while I was away at work.', 'No class loaders or custom assembly loaders available', \"I'm starving at work.\", 'Kids having cancer', 'I broke up with my partner.', 'I missed Steam Punk fashion show at Anime North.', \"Can't talk to mom and sister, and boyfriend can't visit this weekend.\", \"Tony Hawk's motion on the Nintendo DS sucks.\", \"Can't stop coughing\", 'Was at work till 8.30 and felt booo (bad day)', 'Missing work feels bad.', 'Getting burned', 'I have a headache', 'Too much happened today.', 'I miss my puppy', \"I've lost a lot of weight because I couldn't eat.\", 'I got burned.', \"I'm home alone and scared.\", 'I feel horrible!', 'You cheated on me.', 'Missing Brandon.', 'Got ill.', 'Worked for 58 hours straight.', 'Not looking forward to working tomorrow', 'She never emailed me back after I suggested more ideas.', 'I miss my baby.']\n"
     ]
    },
    {
     "name": "stderr",
     "output_type": "stream",
     "text": [
      "100%|██████████| 40/40 [01:26<00:00,  2.15s/it]\n",
      "Processing:  21%|██        | 33/156 [2:59:30<3:47:35, 111.02s/it]"
     ]
    },
    {
     "name": "stdout",
     "output_type": "stream",
     "text": [
      "/home/qiang/projects/Digital_mental_health/Dataset/Condidate_sentiment_dataset/1_event_filtered_all/output_chunk_31_event_filter.json\n",
      "[\"Twitter's reply system changed.\", 'I lost a follower', 'It rained.', 'I cut myself.', 'Being overwhelmed.', 'Being sick with no one to care for me.', 'I had a big headache', 'I did bad things.', 'I hate that', 'Hayfever struck.', 'Having trouble changing something.', 'I fell off (implying a decline in performance or reputation)', 'Feeling sick to my stomach', 'I missed my chance.', 'Missing the Indiana show', 'Earphones do not last more than 2 months.', 'YM, Meebo, and Ebuddy banned/hated us', 'Had a 7 am meeting', 'My old computer is too slow for Kubuntu and Blender.', 'Getting distracted while doing work', 'I was not allowed to take an exam because of my sleeveless top.', 'She cannot eat.', 'Putting makeup on under fluorescents failed.', 'Cannot listen to something sadly.', 'Running out of money', 'My grandma passed away.', \"I didn't get to design at my GRAPHIC DESIGN job.\", 'I was mean to her.', 'I missed the game', 'Something terrible happened', 'I had to wake up early on my last day off.', 'My knee hurts badly', 'I hate moving and hate packing.', 'Local Borders has lots of bare shelves.', 'I had to go through a difficult situation.', 'I felt extremely flushed and shaky and broke out in a sweat.', 'Something looks bad.', 'The trackpad and the battery life of the Lenovo laptop are bad.', \"I'm going to bleed to death\"]\n"
     ]
    },
    {
     "name": "stderr",
     "output_type": "stream",
     "text": [
      "100%|██████████| 39/39 [01:34<00:00,  2.42s/it]\n",
      "Processing:  22%|██▏       | 34/156 [3:01:04<3:35:34, 106.02s/it]"
     ]
    },
    {
     "name": "stdout",
     "output_type": "stream",
     "text": [
      "/home/qiang/projects/Digital_mental_health/Dataset/Condidate_sentiment_dataset/1_event_filtered_all/output_chunk_143_event_filter.json\n",
      "[\"I will be disgraced with myself for life if I don't make it in next year.\", \"My softball photo turned out bad at Patrick's Studio.\", 'Feeling sad', \"I'm tired.\", \"There's no food at my house.\", 'They made a stupid move.', 'I have the largest headache', 'Breaking the daily build broke my daily plan', 'Defeated by a Polo', 'My beard looks rubbish.', \"I killed Bradie's girlfriend.\", 'Had to study hard for tutoring a new student.', 'My washing machine broke down.', 'The venue cancelled the event.', 'Missing someone', 'I got sick with a throat infection.', 'I got rid of something valuable.', 'I hate looking at myself', 'There was no one in the house.', 'I am immensely sad', 'My phone gets disconnected on my birthday.', 'Dealing with stupid people.', 'Having cats instead of dogs.', 'Getting sick on a special day.', 'Forced to eat unwanted food due to hunger.', 'The smell of town fair tires makes me sick.', \"I couldn't find a karaoke track in a high enough key.\", 'I overate.', 'Did not get into the trailhead.', \"I tried to leave early but couldn't.\", 'I had a tiring day.', 'Thought he had misbehaved to upset my mom and me.', 'My ex gets a new girlfriend.', 'Felt super bored on a Friday night.', 'I feel very sick', 'I lost my guitar.', 'Having one bad thing after another', 'had a horrible sleep', 'Never learned how to write in French', 'I deleted my Sims file that I spent hours building.', 'Voting was closed before I could vote.', 'My neck really hurts']\n"
     ]
    },
    {
     "name": "stderr",
     "output_type": "stream",
     "text": [
      "100%|██████████| 42/42 [01:42<00:00,  2.45s/it]\n",
      "Processing:  22%|██▏       | 35/156 [3:02:47<3:31:49, 105.04s/it]"
     ]
    },
    {
     "name": "stdout",
     "output_type": "stream",
     "text": [
      "/home/qiang/projects/Digital_mental_health/Dataset/Condidate_sentiment_dataset/1_event_filtered_all/output_chunk_104_event_filter.json\n",
      "[\"I'm going to miss friends (rephrased as a bad event)\", \"Justin's misfortune\", 'My chest hurts.', 'Trying to resist hating someone.', 'My people are going to hurt me.', \"I didn't receive a greeting from someone.\", 'Someone stole Mike for me.', 'I lost the game.', 'There is no food at home.', \"I'm going to miss my class.\", 'I am tired.', \"Can't give blood due to recent tattoo.\", 'I miss my niece and nephew.', \"I'm so pissed off today.\", 'Having mono.', \"I'm not working at all next week.\", 'I am extremely hungry', 'People make fun of someone and laugh at them.', 'We lost the bra strap.', \"saw the saddest thing I've seen in a while\", 'I had a conflict with my parents.', 'I made Baby Jesus cry', 'Things always end up going badly', 'I have a tummy ache', \"The car's noise level is almost over the legal limit at the garage.\", 'The teacher hid sections from me on the back of a sheet.', 'Got sick', \"It wouldn't load!\", 'I got a headache', 'Having no system-wide spellchecker.', 'My body hurts.', 'Feeling lonely', 'I stuck my foot in my mouth and scared someone off.', 'Four hour baseball game.', 'The internet is dead.', 'I miss someone', 'Getting hurt in a relationship.', \"It's raining.\", \"Stephane doesn't feel sorry for me.\", 'I got a dentist appointment later.', \"I can't enjoy classical music.\", \"It's cold.\"]\n"
     ]
    },
    {
     "name": "stderr",
     "output_type": "stream",
     "text": [
      "100%|██████████| 42/42 [01:42<00:00,  2.44s/it]\n",
      "Processing:  23%|██▎       | 36/156 [3:04:30<3:28:37, 104.32s/it]"
     ]
    },
    {
     "name": "stdout",
     "output_type": "stream",
     "text": [
      "/home/qiang/projects/Digital_mental_health/Dataset/Condidate_sentiment_dataset/1_event_filtered_all/output_chunk_97_event_filter.json\n",
      "['I ate something bad for my health.', 'The weather is cloudy.', 'My plot twist is going to ruin everything.', 'I had a headache', 'Having no ID.', \"I was lame and didn't fit in with my favorite people.\", 'Missing qualifying', \"I don't have a date to a wedding.\", 'The Batman Arkham Asylum game is PS3 exclusive.', 'My cheeks hurt badly.', 'I fell asleep', 'My body is aching', \"Can't sleep due to a restless mind.\", 'Was woken up by screaming little nephew', 'god assignments are stressful', \"I'm broke\", 'I had to hunt for a new job.', 'I missed a large part of the story', 'Daddy is in the hospital.', 'I feel sick.', 'Found out disturbing information about Marcos.', 'We just missed each other again.', 'cannot go to Falkland due to exams.', 'Eli had his finger pricked for a blood sugar test.', 'Had to settle for a less desirable option.', 'Failing a paper.', \"My right ear's been blocked up today\", 'feeling desperate', 'My teeth really hurt from my rubber bands', 'Got mistreated by someone I care about.', \"I couldn't do it this morning\", 'I lost followers', 'The cornbread falls apart when I try to spread it.', \"It's extremely cold.\", 'Gossip Girl is done', \"Tried something but it didn't work out.\", 'Felt extremely bored.', 'Feeling sad', 'Feeling bored with Twitter.', 'Going to the dentist for an appointment.']\n"
     ]
    },
    {
     "name": "stderr",
     "output_type": "stream",
     "text": [
      "100%|██████████| 40/40 [01:27<00:00,  2.18s/it]\n",
      "Processing:  24%|██▎       | 37/156 [3:05:57<3:16:46, 99.21s/it] "
     ]
    },
    {
     "name": "stdout",
     "output_type": "stream",
     "text": [
      "/home/qiang/projects/Digital_mental_health/Dataset/Condidate_sentiment_dataset/1_event_filtered_all/output_chunk_95_event_filter.json\n",
      "['Missed her work friends', \"I have to go to work when I'm too tired.\", \"I can't watch Stadium Music.\", 'I lost followers.', \"I feel like I'm going crazy.\", \"I can't ride my bicycle.\", 'Not working at this job.', \"I fell down while holding Kales' hand and hurt my foot.\", 'My car got stolen.', \"I haven't blogged in weeks.\", 'You did something hurtful with the cake and concert.', 'Ze Franz has not friended me.', 'Hated myself for sleeping all day and starting my painting too late.', \"I'm stuck at home.\", 'I need money!', 'stood up for myself instead of complying', 'Watching a sad movie ending', 'The school I went to junior high is being torn down.', \"I'm stuck twiddling my thumbs now\", 'I had an English exam.', 'Wishing I was somewhere else due to sadness.', 'I got sunburned.', 'I got dumped and blamed.', \"Can't sleep before midnight\", 'I hurt my index finger', 'Sayid could be dead.', 'The account I was heading to has been suspended due to strange activity.', 'My pants became too short.', \"I couldn't sleep because my cellphone was switched off.\", 'Missing my sidekick on Friday night.', 'Being sick', 'Going to the dentist', 'Black girls pissed me off.', 'The Matrix Online shuts down', 'He never replies to me.', 'Something terrible will happen', 'I lacked funding for the Oxford Internet Institute Summer Doctoral Programme.', 'Math was not fun at all.', 'Pooch Hall did not accept my friend request on Facebook.', \"I'm not healthy enough to go to both events.\", 'The nice weather brings out the chavs.']\n"
     ]
    },
    {
     "name": "stderr",
     "output_type": "stream",
     "text": [
      "100%|██████████| 41/41 [01:41<00:00,  2.49s/it]\n",
      "Processing:  24%|██▍       | 38/156 [3:07:39<3:16:45, 100.05s/it]"
     ]
    },
    {
     "name": "stdout",
     "output_type": "stream",
     "text": [
      "/home/qiang/projects/Digital_mental_health/Dataset/Condidate_sentiment_dataset/1_event_filtered_all/output_chunk_20_event_filter.json\n",
      "['I have a pain in the back of my neck', 'My friends quit going to the gym with me.', 'The layout change of hyperlinks prevented me from accessing links.', 'I think I would die if they played Pushit.', 'I broke my super-awesome giant paper clip.', 'I had a sad realization today', \"Can't find anything due to having too much open.\", 'Had a bad experience at work.', \"My computer's GPU reached 75c due to poor thermal management.\", 'I got a bad haircut.', 'Being tempted by high-calorie snacks.', 'I slammed my finger in a car door', 'Had to go home due to feeling fed up.', 'I felt ill after eating at Broadway Pizza.', \"Gonna miss my girl while she's away.\", 'My legs got sunburned.', 'Friday night was too boring.', 'The new modem is slower than the old one.', 'I got ripped off by a parking meter.', \"He's in bed sick with a heavy fever.\", 'Taking back the horrible shoes my mum made me get.', 'I feel lonely', 'I got back to reality that not all guys are good.', 'No internet access.', 'I forgot to eat.', 'Had to work till 2am and missed going to see Drag me to Hell with friends.', \"It's pouring right now\", 'Need to get out of this house!', \"Lily's kitten pooped on me.\", 'I messed up my nose!', \"My stomach hurts and I can't sleep.\", 'Ate too many chocolate animal crackers', 'Taylor and Selena broke up', 'I feel sick.', \"I'm sick.\", 'Broke up with girlfriend', \"Gained 3lbs and couldn't afford food other than Top Ramen.\", 'Seniors are graduating without me.', 'Being stuck in a place I hate.', 'My iPod headphones went kaput.', \"I'm extremely tired before an 8-hour shift.\", 'I felt awful.', \"I didn't get my Q'doba today\", 'My stomach hurts']\n"
     ]
    },
    {
     "name": "stderr",
     "output_type": "stream",
     "text": [
      "100%|██████████| 44/44 [01:41<00:00,  2.32s/it]\n",
      "Processing:  25%|██▌       | 39/156 [3:09:21<3:16:12, 100.62s/it]"
     ]
    },
    {
     "name": "stdout",
     "output_type": "stream",
     "text": [
      "/home/qiang/projects/Digital_mental_health/Dataset/Condidate_sentiment_dataset/1_event_filtered_all/output_chunk_91_event_filter.json\n",
      "['I am very tired', 'The sky looked yellowish/orangeish/brownish and scary.', 'Twitter is depressing me', \"I didn't do well on my photo editing.\", 'We had to miss the TT Bday party.', 'I have a headache', \"Store doesn't open until 9am\", 'A package did not arrive on time.', 'I have a sore back', 'I failed to save stuff on a hard drive.', \"Can't fall asleep\", \"Missed seeing someone's smile\", 'Suffering from Hemorrhoids.', 'Feeling depressed', 'Plans were ruined', 'I saw that a movie was PG 13, which totally bummed me out.', 'Did not get into something I wanted.', 'Having kaotic dreams', 'I was given more work by my boss.', \"My wife's tummy hurts.\", \"He's taken.\", 'Losing power while alone at home', 'Bad times', \"A friend didn't show up for lunch.\", 'Project-M keeps crashing iTunes.', 'Having nothing to eat for lunch.', 'Feeling irked', \"The little girl on Britain's Got Talent (BGT) had a bad experience.\", 'Lost keys and missed important calls.', 'I got sick from eating at The Golden Arches.', 'Manchester was too busy!', 'My partner neglected me.', \"I'm dying!\", \"Can't go out anymore\", \"I'm sick.\", 'The air conditioner is not working properly in hot weather.', 'I am disappointed in CIBER and SABIP', 'My Korean businesses failed.', 'I miss Vincent badly.', 'Sam might not be okay.', 'I had a hangover.', 'Missing important information on Twitter due to poor reply system.', 'Having constant bad dreams']\n"
     ]
    },
    {
     "name": "stderr",
     "output_type": "stream",
     "text": [
      "100%|██████████| 43/43 [01:51<00:00,  2.59s/it]\n",
      "Processing:  26%|██▌       | 40/156 [3:11:12<3:20:39, 103.79s/it]"
     ]
    },
    {
     "name": "stdout",
     "output_type": "stream",
     "text": [
      "/home/qiang/projects/Digital_mental_health/Dataset/Condidate_sentiment_dataset/1_event_filtered_all/output_chunk_145_event_filter.json\n",
      "['The pool is broken and we have wasted our vacation money.', \"I'm so poor.\", 'My hair straightener broke.', 'Experienced racism in Australia', \"It's impossible to keep up with everything.\", 'Been unhappy for a while.', 'I felt lonely without my boyfriend.', 'Not eating or sleeping', 'Top of the Pops stopped airing.', 'Watching a disturbing episode of Hollyoaks at an inappropriate time.', 'The fitness center cancelled our Zumba class.', \"I'm lonely and bored\", 'It hurts to breathe again.', \"It's too hot.\", 'Being left out', 'It takes too long to install SBS2008.', 'Have to go to work on Friday.', 'The air conditioner broke down.', 'The iced coffee tasted nasty.', 'He steals my stuff.', \"I am missing him terribly and won't see him until Sunday.\", \"She wasn't there.\", 'Dated the Burton and ended up screwed.', \"It's too cold\", 'I am broke.', 'Leaving somewhere too soon', 'Matt has me on lockdown because of money.', 'I am bored.', 'My brain is going to explode.', \"Can't eat the food.\", 'I had bad net issues.', \"My best friend doesn't want to hang out with me.\", 'Channel 4 clashes with Ugly Betty', 'Someone hit my car in the parking lot and drove away without leaving a note.', 'I had flooding', 'My coffee got cold', 'My siblings left me alone.', 'My fan broke.', 'Having a bad day/night/life', \"I'm going to hate seeing Jay Leno.\", \"My book is on the side and I'm not studying.\"]\n"
     ]
    },
    {
     "name": "stderr",
     "output_type": "stream",
     "text": [
      "100%|██████████| 41/41 [01:31<00:00,  2.22s/it]\n",
      "Processing:  26%|██▋       | 41/156 [3:12:43<3:11:42, 100.02s/it]"
     ]
    },
    {
     "name": "stdout",
     "output_type": "stream",
     "text": [
      "/home/qiang/projects/Digital_mental_health/Dataset/Condidate_sentiment_dataset/1_event_filtered_all/output_chunk_83_event_filter.json\n",
      "['Something bad happened', 'Got caught in the downpour.', 'My mom forced me to leave against my will.', 'Attacked', 'I miss my cousin', 'My boy died.', 'Nothing to do today besides work.', 'Feeling sad', 'My glands in my neck hurt too much.', \"Hollie's shameful situation\", 'something bad happened', 'Found dead fishies', \"I'm bored\", 'got sore feet', 'I am embarrassed', 'Graduation being the worst day ever.', 'I lost one.', 'Trending topics on Twitter became useless.', 'I had to undergo arthroscopy to repair my knee.', 'My classmates called me retarded.', 'Found out too late to get tickets for my kids.', 'Having to write a real looking paper letter.', 'This is going to be a loooooong day', \"It's raining.\", 'Had to work on a non-working day.', \"Can't leave for lunch due to hunger.\", 'Husband went off to bed', 'Wal-Mart orientation sucked.', 'There are scary noises coming from outside.', 'Time difference prevented me from being there.', 'I failed.', 'My legs are in pain', 'I am extremely hungry.', 'I got in a car accident.', 'Your house gets bought by a company due to financial troubles.', 'June is going to be a long, lonely month.', \"I'm a little sad\", 'Having a bad day', 'My fab broke', 'Called into work 2hrs early due to problems']\n"
     ]
    },
    {
     "name": "stderr",
     "output_type": "stream",
     "text": [
      "100%|██████████| 40/40 [01:34<00:00,  2.37s/it]\n",
      "Processing:  27%|██▋       | 42/156 [3:14:18<3:07:04, 98.46s/it] "
     ]
    },
    {
     "name": "stdout",
     "output_type": "stream",
     "text": [
      "/home/qiang/projects/Digital_mental_health/Dataset/Condidate_sentiment_dataset/1_event_filtered_all/output_chunk_149_event_filter.json\n",
      "[\"I don't want to go!\", 'It sucks !!!!!!!!', 'I pulled a muscle in my neck.', 'Feeling extremely angry or frustrated.', 'I have difficulty spelling.', 'I will soon be without a trace of wisdom', 'My computer got screwed up by viruses.', 'Life was unfair to my friend.', 'I took a survey that made me cry.', 'Being scared', 'He lost his passport between San Diego and Las Vegas.', 'I have a sore tummy', \"My chick won't shut up.\", \"I couldn't eat and was starving after visiting the dentist.\", \"Twitter doesn't like me\", 'The no touching rule was implemented.', \"I haven't seen my pet (Muffin) for a long time.\", 'Feeling bored.', 'I am too sore to move.', 'The response to my assistant job has already been filled.', 'Being under drugs.', 'Did not receive 9 new emails in reality after having a dream about it.', 'I have a long drive.', 'Cheeks Bakery closed.', 'The end is near', 'Mom woke me up.', 'A close relative has died.', 'Being yelled and sworn at', 'Got hurt', 'Delayed flight', 'My record player died.', \"I discovered I can't swim.\", 'Eric lost his job', 'Had a bad day with no car, a teething baby, and forgetting to pack a lunch.', 'I get migraines.']\n"
     ]
    },
    {
     "name": "stderr",
     "output_type": "stream",
     "text": [
      "100%|██████████| 35/35 [01:27<00:00,  2.51s/it]\n",
      "Processing:  28%|██▊       | 43/156 [3:15:46<2:59:24, 95.26s/it]"
     ]
    },
    {
     "name": "stdout",
     "output_type": "stream",
     "text": [
      "/home/qiang/projects/Digital_mental_health/Dataset/Condidate_sentiment_dataset/1_event_filtered_all/output_chunk_134_event_filter.json\n",
      "['I sprained my ankle.', \"It's chilly here.\", 'Anthony wrecked his car', 'Missing baseball', 'Our fashion brand options are limited and weak.', \"I couldn't get the Octo Drive.\", 'The weather here is killing me!!!', 'This job is dead to me right now.', 'Had conflicts with my family.', \"I'm so hungry.\", \"Ben & Jerry's Mission to Marzipan was a letdown.\", 'I clocked out for possibly my last time at Northview Middle School.', 'had lots of requsts today and it was no fun', 'Still mourning the loss of adobo he cooked.', 'My aunties came over from America and I had to cancel my plans.', 'Encountered many weird people.', 'June gloom has arrived', \"Haven't talked to someone since the last day of school.\", 'Realized someone I knew was an idiot.', 'I received a \"page doesn\\'t exist\" error message.', 'Having chronic migraines.', \"I'm stuck at work.\", 'I stumbled upon deathfic without warnings.', 'Sulking at home on a rainy day', 'The preview of a trailer for New Moon was a joke.', 'Got hurt.', 'The movie Connie and Carla was a disappointment.', 'Having a bad day', 'The ring machine broke.', 'I am confused', 'I missed my husband', 'I was in a crowded place.', 'I took an overdose of Zyrtec.', \"Jay Leno's last day\", 'Worried about Mr. Socks tonight.', \"My 'Let The Right One In' DVD broke\", 'I forgot my BlackBerry password and lost all my data.']\n"
     ]
    },
    {
     "name": "stderr",
     "output_type": "stream",
     "text": [
      "100%|██████████| 37/37 [01:28<00:00,  2.38s/it]\n",
      "Processing:  28%|██▊       | 44/156 [3:17:14<2:53:47, 93.10s/it]"
     ]
    },
    {
     "name": "stdout",
     "output_type": "stream",
     "text": [
      "/home/qiang/projects/Digital_mental_health/Dataset/Condidate_sentiment_dataset/1_event_filtered_all/output_chunk_118_event_filter.json\n",
      "['Twitter deleted my direct messages.', 'I have nowhere to go and no one to go with.', 'Another Canon PowerShot camera broke.', 'The weather in LA is a bummer sometimes.', \"I fought with my mom on Mother's Day.\", 'feels like ****.', \"It's raining.\", 'My chest hurts', 'It rained on and off.', 'I got angry at the Jon and Kate Plus 8 thing.', 'Received bad news', \"I couldn't sleep.\", 'I miss and want him so much and it hurts.', 'Feeling sad', 'I feel unpopular on Fridays.', \"I didn't have bacon.\", 'Found a dead baby rabbit in the garden.', 'I had a major anxiety attack.', 'She bailed on our plans.', 'Things can get worse.', 'The weather was gloomy.', 'unable to upload a custom background.', \"The series of books I've been reading ended.\", 'I skinned my knee.', 'My sillyness caused me a whole lot of stress and headache.', \"I've got no money.\", 'My phone is broken.', 'Twitter is not exciting as I thought it would be', 'Having exams next week', 'I had to say goodbye to someone for the last time.', 'I hate my home situation.', 'My credit card was canceled by Abby, preventing me from subscribing to Free Agent App.', \"I couldn't upload a picture because it's too big.\", 'Archie chose Veronica over me.', 'My flip flop broke.', 'I was left waiting outside for 1 hour because my music teacher forgot about my lesson.', 'The local cinema is only showing a desired movie three times.']\n"
     ]
    },
    {
     "name": "stderr",
     "output_type": "stream",
     "text": [
      "100%|██████████| 37/37 [01:28<00:00,  2.38s/it]\n",
      "Processing:  29%|██▉       | 45/156 [3:18:42<2:49:31, 91.63s/it]"
     ]
    },
    {
     "name": "stdout",
     "output_type": "stream",
     "text": [
      "/home/qiang/projects/Digital_mental_health/Dataset/Condidate_sentiment_dataset/1_event_filtered_all/output_chunk_58_event_filter.json\n",
      "[\"The internet doesn't work properly.\", 'I was very nervous on my way to an exam.', \"I'm stuck in the plane on the tarmac at LAX.\", 'I got a headache', \"I won't get to see my favorite teachers or friends after school years are over.\", 'Not eating lunch with my wife as I had planned.', 'I failed my maths exam.', 'Could lose my job', 'I ate too much cheddar popcorn and felt sick.', 'I saw him --> J***I and it made me feel down.', 'Jay Leno will no longer have another show or something.', 'I was too late', 'Missing NYC gastronomical tour', 'I am sad.', 'feeling shattered', 'The dad dies', \"The 4G won't be available until June.\", 'I accidentally clicked backspace on my mouse.', 'I bought a mask (which implies it was a bad purchase or a waste of money)', 'Presentation got cancelled.', \"It's been raining all day.\", 'Stayed at home when others went out (implying feeling like a loser)', \"My friends don't like me anymore\", 'I have a headache', 'Feet hurt', \"Youtube isn't working.\", 'I am emotionally exhausted', 'I hate DirecTV OnDemand.', \"Didn't get what I wanted from the website.\", 'I realized I have school tomorrow.', 'Twitter would not let me change my background.', \"Phyllis Hyman's unsung story is sad\", 'Those idiots buzzed out the juggler.', 'My account was suspended due to unusual activity.', 'I miss Deborah', 'I lost my favorite pen', 'Got fully denied tonight', 'Got sick', \"The pony I knew developed Cushing's disease.\", \"I don't have a good home environment.\", \"I won't have a PRN journal anymore.\", \"Can't sleep.\", 'Watching someone too young or unready being upset.', 'Not feeling comfortable with myself']\n"
     ]
    },
    {
     "name": "stderr",
     "output_type": "stream",
     "text": [
      "100%|██████████| 44/44 [01:40<00:00,  2.28s/it]\n",
      "Processing:  29%|██▉       | 46/156 [3:20:23<2:52:45, 94.23s/it]"
     ]
    },
    {
     "name": "stdout",
     "output_type": "stream",
     "text": [
      "/home/qiang/projects/Digital_mental_health/Dataset/Condidate_sentiment_dataset/1_event_filtered_all/output_chunk_54_event_filter.json\n",
      "[\"Lisa didn't get anything.\", 'A beloved pet died.', 'I sold my Porsche.', 'Got my butt kicked in Tripoli.', 'That sucks.', 'Air was not available when I needed it.', \"It's a rainy and crappy day.\", \"They won't help me.\", 'I heard a song that reminds me of you after you left.', 'I ate too much food.', 'Being late', \"I couldn't find anyone else like you.\", 'My 8-month-old African grey parrot is being sold.', 'I feel lonely.', 'Pests are eating up my broccoli, cabbage, and beans.', \"He's out of the office until Monday.\", 'Felt hopeless about dancing or performing sexy moves.', 'I miss someone/something dearly.', 'I have a sore knee.', \"Can't fall asleep\", \"The computer won't let me order mac foundation.\", 'Tomorrow is Friday again', 'I had to say goodbye to a friend who is leaving for 3 months.', \"Can't sleep in her own bed\", 'Ticket prices for Playoff Pens hockey games are too high.', 'The TV series Return of the Chasers War on Everything has declined in quality.', 'I have no money and no one to go out with.', 'I failed an exam on advanced databases.', 'I missed seeing Ms. Kane.', 'Stubbed my little toe on a file cabinet.', 'DH worked night shifts all weekend.', 'I quit my 9-5 job.', \"I don't understand Twitter.\", \"Wants to meet Jeff Hardy and Beth Britt but can't.\", 'Moving makes me sore.', \"Can't wear new shoes.\", 'Car was parked in a bad location.', 'Got a speeding ticket', 'Mrs. Dr. A is not talking to me', 'Deathstar destroys Starship Enterprise', 'Feeling sad on the way to work', \"I'm exhausted\"]\n"
     ]
    },
    {
     "name": "stderr",
     "output_type": "stream",
     "text": [
      "100%|██████████| 42/42 [01:41<00:00,  2.42s/it]\n",
      "Processing:  30%|███       | 47/156 [3:22:04<2:55:09, 96.42s/it]"
     ]
    },
    {
     "name": "stdout",
     "output_type": "stream",
     "text": [
      "/home/qiang/projects/Digital_mental_health/Dataset/Condidate_sentiment_dataset/1_event_filtered_all/output_chunk_126_event_filter.json\n",
      "['Listening to \"Without Your Love\" makes me sad', 'Twitter keeps me up way too late.', 'Feeling needy', 'I wore out a clip on the camera panel.', 'Legs are hurting because I was standing up all day.\\n\\nRewritten Event: Standing up all day caused leg pain.', 'Unable to fit in newborn pictures into my schedule.', \"It's raining!!!\", 'I am poor.', 'Had a terrible first day of work.', 'Got sick on Groundhog Friday.', 'Lost money in Vegas.', 'Had a stupid orthodontist appointment.', 'My tablets are making me want to throw up!', \"I couldn't deal with this tweet.\", 'Got stuck in traffic.', \"I'm bored\", 'Someone is ignoring me and being mean.', 'I had to go to work.', 'Slept awkwardly and woke up with sore bones.', 'Experiencing pain with paginating ASP.NET ListView controls', 'Made a bad ebay purchase and lost $45.', 'I got into a fight with the pavement.', 'I cannot attend an event in Philadelphia.', 'Had to go to V.Luna hospital which is very far.', 'Being sick at home', 'Whataburger closing all locations', 'I am jealous of your mom talking to you.', 'My nose is chapped.', 'My truss failed', 'Became hungry', \"My objects are stuck at the bottom and won't move.\", 'Something bad happened', 'Having a crappy day', 'Elora Danan are breaking up.', 'I found out that Economics is my worst subject.', \"We're neglected\", 'I miss him too much.', \"There's a huge cockroach in the kitchen.\"]\n"
     ]
    },
    {
     "name": "stderr",
     "output_type": "stream",
     "text": [
      "100%|██████████| 38/38 [01:28<00:00,  2.34s/it]\n",
      "Processing:  31%|███       | 48/156 [3:23:33<2:49:25, 94.12s/it]"
     ]
    },
    {
     "name": "stdout",
     "output_type": "stream",
     "text": [
      "/home/qiang/projects/Digital_mental_health/Dataset/Condidate_sentiment_dataset/1_event_filtered_all/output_chunk_6_event_filter.json\n",
      "['I had to pay expensive tags and taxes on all our cars.', 'Have no money.', 'I miss Chomp Chomp terribly!', 'Missing my boo.', 'It rained on me', \"I'm a victim.\", 'I slipped and fell on the dirty school bathroom floor.', 'I get texts from Twitter.', 'I realized I made an error in my schedule, conflicting with a commitment to drive someone to the airport.', \"My sister didn't make the cheerleading squad.\", 'I had to reupload something again.', 'My mom told me someone I care about has passed away.', 'Lost internet signal', 'I was dragged home prematurely', 'I bit my tongue and it started bleeding.', 'I got hurt in my arm.', 'Not being able to attend the dance recital due to financial constraints.', 'Made out with a boy whose name I later forgot after drinking.', 'My internet is messed up.', 'That is so sad.', 'broke off the FB wedding', 'Royal Mail lost a package I sent through eBay.', 'I forgot something important', \"I couldn't sleep due to poor health.\", 'Too much to do.', 'Pedro was mean to me.', \"I'm really getting sick.\", 'Hearing disappointing news', 'Facebook is being frustrating.', 'The rain prevented me from going to see Jaiden.', \"I don't feel very good\", 'I have a lot of work for school.', \"I'm not having the best day\", 'Working in the heat.', 'Difficulty finding reasonably priced pick n mix.', 'Never been lucky', 'Taking care of unpleasant things.', 'Had homework on a Friday night', 'I will probably cry all over the place.', 'My box is undervalued.', 'having a very bad experience']\n"
     ]
    },
    {
     "name": "stderr",
     "output_type": "stream",
     "text": [
      "100%|██████████| 41/41 [01:36<00:00,  2.35s/it]\n",
      "Processing:  31%|███▏      | 49/156 [3:25:09<2:49:05, 94.82s/it]"
     ]
    },
    {
     "name": "stdout",
     "output_type": "stream",
     "text": [
      "/home/qiang/projects/Digital_mental_health/Dataset/Condidate_sentiment_dataset/1_event_filtered_all/output_chunk_35_event_filter.json\n",
      "['Being sick.', 'Being completely wiped.', 'I am non-functional and unproductive at work.', 'My brand new phone keeps switching itself off.', 'Working at night and missing out on good weather.', 'Feeling weak and tired while studying for a long quiz.', 'Got dizzy', 'I maxed out', 'Cough drops taste bad.', \"My dad said I can't go unless I find someone to go with.\", \"I'm getting sad\", 'I am shamed sometimes to hear what some men do', 'I crashed my bike.', 'My favourite jerk chicken place closed', \"Forced to attend science practical because school is important and can't waste parents' money.\", 'I miss Dionee.', 'Plane tickets are too expensive', 'I chose sleep over gym almost every day', 'I had major cramps.', \"I'm tired.\", 'I got the wrong size coat for the sheep', \"Dave isn't coming back to 10.\", \"I'm absolutely exhausted.\", \"It's a rainy Monday.\", 'Forgot my iPhone cord at home.', 'Feeling down.', 'I have no money.', \"The heater in my room has been on all day and now it's boiling.\", \"I'm crying.\", \"I didn't get a notification.\", 'They keep selling the new Throwback Pepsi and Mountain Dew.', 'Getting sick and losing my voice.', 'The dentist made my gums hurt.', 'The internet is down.', 'My phone died.', \"My Twitterberry doesn't want to work.\", 'This world makes me sad', 'Missing everyone', \"I'm going to fail a test in history.\", 'I got a virus from a website.', 'My feet hurt.', 'I dropped my phone.']\n"
     ]
    },
    {
     "name": "stderr",
     "output_type": "stream",
     "text": [
      "100%|██████████| 42/42 [01:37<00:00,  2.31s/it]\n",
      "Processing:  32%|███▏      | 50/156 [3:26:47<2:48:47, 95.54s/it]"
     ]
    },
    {
     "name": "stdout",
     "output_type": "stream",
     "text": [
      "/home/qiang/projects/Digital_mental_health/Dataset/Condidate_sentiment_dataset/1_event_filtered_all/output_chunk_96_event_filter.json\n",
      "['Had a 20-minute frustrating phone call.', 'I have to say goodbye to someone I will miss.', 'I had a sinus headache.', 'Feeling tired.', 'Ran out of mandarin.', 'I have to go to work instead of doing something I want.', 'Going back to work too soon after a short break.', 'I missed the bus by 2 minutes.', 'The rain stopped me from laying out in the sun.', 'Neighbors cut down all the trees around their house.', 'Said goodbye to someone.', 'Two of my patients died tonight.', 'I have a headache.', 'My vacation was ruined', 'My head hurts', 'My throat hurts.', \"It's a rainy day.\", 'Feel bad', \"Had to work on Saturdays and didn't get Friday or Monday off for July 4th.\", \"I couldn't handle my life anymore and considered suicide.\", 'My mouth hurts after going to the dentist.', 'I passed out last night.', 'I miss you.', 'I have trouble with deposits.', \"I don't feel well at all\", 'I no longer have a fully functional bike.', 'Feeling unhappy', \"She couldn't get tickets for Pink.\", 'I lost my voice.', 'Strange things keep happening.', 'My baby got a busted lip.', 'being ignored', 'My dreams were crushed.', 'Trying to shake off an illness.', 'saw the deforestation.', 'Had to wait at work for a long time.', 'My MacBook is malfunctioning.', 'I was scarred for life at 8', 'Someone took my flip-flops from outside my locker.', 'Someone was mean to me and hurt my feelings.', 'I drank alone at home.']\n"
     ]
    },
    {
     "name": "stderr",
     "output_type": "stream",
     "text": [
      "100%|██████████| 41/41 [01:40<00:00,  2.46s/it]\n",
      "Processing:  33%|███▎      | 51/156 [3:28:27<2:49:54, 97.09s/it]"
     ]
    },
    {
     "name": "stdout",
     "output_type": "stream",
     "text": [
      "/home/qiang/projects/Digital_mental_health/Dataset/Condidate_sentiment_dataset/1_event_filtered_all/output_chunk_79_event_filter.json\n",
      "['Life got really bad.', 'Sore throat coming.', 'My mum turned the internet off.', 'I felt jealous.', 'Your pet died.', 'My life is packed away into a cardboard box.', 'I am so tired.', 'Overwhelmed by excessive homework and work responsibilities.', 'I miss you', 'sitting at home being bored', \"I couldn't use the messenger.\", 'My pancakes always end up soggy.', 'Confusion at my workplace.', 'I felt something was unfair.', 'I found discrepancies in cafe management.', 'Gmail chat has died', 'Had to go to Raleigh on a work night.', 'School is over', 'Being followed by someone.', 'I missed a lot', 'Something went wrong with my system and I had to reinstall.', 'I had to do an English essay at the last minute.', 'Get caught in the rain with an $80 trumpet book.', \"I'm bored.\", 'Someone was a jerk to me.', \"I'm in a bad mood.\", 'cleaning the house', 'Feeling bored on a Friday night.', 'Made regretful decisions', 'I hurt my foot.', 'Feeling sad', \"I hate Wades' mood swings.\", 'We got thrown out.', \"I'm feeling sick.\", 'Blowing out another candle on my birthday', \"I don't have a camera.\", 'I am lonely at home.', \"I'm messing with my metabolism.\", 'A little bird flew into my window and snapped its neck.', 'Being made feel twisted all the time.', 'Went into a debugging session with unmutted lines.', 'I hate waking up', 'Feeling lazy']\n"
     ]
    },
    {
     "name": "stderr",
     "output_type": "stream",
     "text": [
      "100%|██████████| 43/43 [01:37<00:00,  2.27s/it]\n",
      "Processing:  33%|███▎      | 52/156 [3:30:05<2:48:39, 97.30s/it]"
     ]
    },
    {
     "name": "stdout",
     "output_type": "stream",
     "text": [
      "/home/qiang/projects/Digital_mental_health/Dataset/Condidate_sentiment_dataset/1_event_filtered_all/output_chunk_42_event_filter.json\n",
      "['Having the same hair for too long.', 'They served lobster in the cafeteria.', 'My kid is sick.', 'It rained on my birthday', 'Feeling really dizzy', \"I'm having trouble with math.\", \"Tonight's plans are not going to happen.\", 'Twitter stole my pic again', 'Starting finals too soon', 'Had to work on a day off.', 'I miss my cats.', 'Having no luck', 'Woke up from aspirating some stomach acid.', 'I was threatened with violence.', 'Warren and Hannah died.', 'I got sunburned.', \"I'm embarrassed.\", 'Sitting at home alone when I wanted to go to a party.', 'The link did not work.', 'I got a sunburn.', \"That's annoying\", \"I didn't go when I should have.\", 'I was disappointed', 'My auto insurance policy had been expired.', 'I have stomach cramps.', \"It's gonna be rubbish!\", \"I'm swamped.\", 'having \"here comes goodbye\" stuck in my head considering my situation.', 'There was a thunderstorm.', 'She sold the tickets.', 'Almost got sharpied in the face while falling asleep', 'Being allergic to someone.', 'I am bored', 'I felt sick after eating too much.', \"I'm stuck in traffic jams.\", \"Thinks she's getting sick.\", 'I went stag to my prom and all the high school and middle school dances.', 'Experiencing hair loss.', 'I got a fever.', \"don't feel good\", 'My parents found my stash.', 'Tim is not in the pool.', 'Time is dragging by.']\n"
     ]
    },
    {
     "name": "stderr",
     "output_type": "stream",
     "text": [
      "100%|██████████| 43/43 [01:45<00:00,  2.45s/it]\n",
      "Processing:  34%|███▍      | 53/156 [3:31:51<2:51:17, 99.78s/it]"
     ]
    },
    {
     "name": "stdout",
     "output_type": "stream",
     "text": [
      "/home/qiang/projects/Digital_mental_health/Dataset/Condidate_sentiment_dataset/1_event_filtered_all/output_chunk_87_event_filter.json\n",
      "['My well went dry', 'I bought too many shoes.', 'I miss him', 'The dev.java.net website is slow.', 'Got in trouble', 'Seeing someone unhappy.', 'Agitated my right leg', 'Got crappy seats for a show.', 'My dog ran away.', 'The internet is painfully slow today', 'Lost contact with best friend.', 'My MacBook Pro gets overheated.', 'I shrunk my favourite cardigan.', 'I got a cold.', 'I feel sick', 'Norwich City got relegated', 'Feeling too sick to go to the store.', 'I accidentally dropped my device and the screen is messed up.', 'My ankle hurts.', 'I had a horrible experience with their food.', 'No more high school after tomorrow.', 'My car got rained on after I just washed it.', 'I lost my mobile phone earphones.', \"I'm going to fail my finals.\", \"We'll miss you being on.\", 'I am housebound with acute mumps.', 'We were getting less Animated.', \"Recorded game didn't work.\", 'I have a history test tomorrow.', 'I missed my mom.', 'My apartment is becoming increasingly empty.', 'They are causing more pain.', 'I was touched inappropriately.', 'Had horrible toothache', 'Twitter messed up badly.', 'The one restaurant/one grocery is closed.', \"Facebook won't load for me.\", 'A friend and classmate died in a car wreck.', 'Bubbletweet hates me', 'Having to go back to work after a long vacation.', 'Seeing someone I love fall for someone else.', 'I got on the wrong train going in the wrong direction.', 'I am exhausted and sick.']\n"
     ]
    },
    {
     "name": "stderr",
     "output_type": "stream",
     "text": [
      "100%|██████████| 43/43 [01:39<00:00,  2.31s/it]\n",
      "Processing:  35%|███▍      | 54/156 [3:33:30<2:49:27, 99.69s/it]"
     ]
    },
    {
     "name": "stdout",
     "output_type": "stream",
     "text": [
      "/home/qiang/projects/Digital_mental_health/Dataset/Condidate_sentiment_dataset/1_event_filtered_all/output_chunk_98_event_filter.json\n",
      "['My arms are itching.', 'I made a mistake while editing.', 'Had trouble pronouncing \"sp\" words as a child.', 'Not being spoiled', 'I have spotty skin that always scars.', 'Christian Lacroix had to file for bankruptcy', 'Having a problem', 'I went to Moes Mexican Grill and it was too spicy.', \"I can't afford to go to school.\", \"I don't have a serial for my item, so it can't be used.\", 'I saw a baby dove fall from a tree, break its neck and die', 'I got conjunctivitis in my left eye.', 'I got strep.', 'Cat had a hairball.', 'Drama always finds me.', 'My train was 44 minutes delayed.', \"I'm suffering\", 'Cried very hard.', \"I am disappointed with someone's appearance.\", \"I really disappointed that I couldn't make it to the tour.\", \"We're getting another puppy\", \"I couldn't sleep.\", 'My head still hurts', 'Cowering from pain', 'Feeling bored.', 'Having to wait till October to see a movie when others can see it earlier.', \"It's not fun\", \"We didn't have enough money after getting paid.\", 'Gardening stuff I ordered got damaged.', \"I'm nervous\", 'Something bad happened', 'Unable to follow friends on friendorfollow.com', 'I was mocked.', 'Woke up at 2 am.', 'I missed someone.', \"I'm sick.\", 'Got sunburn', 'I was lied to about everything.', 'It hurts to talk.', \"I received a text from someone I don't like.\"]\n"
     ]
    },
    {
     "name": "stderr",
     "output_type": "stream",
     "text": [
      "100%|██████████| 40/40 [01:35<00:00,  2.38s/it]\n",
      "Processing:  35%|███▌      | 55/156 [3:35:05<2:45:30, 98.32s/it]"
     ]
    },
    {
     "name": "stdout",
     "output_type": "stream",
     "text": [
      "/home/qiang/projects/Digital_mental_health/Dataset/Condidate_sentiment_dataset/1_event_filtered_all/output_chunk_53_event_filter.json\n",
      "['Having a terrible drawing night with no progress.', 'I tore something in my leg', \"I couldn't use my BlackBerry today.\", 'I had a weird dream.', 'College work sucks', 'I lost control.', 'My boss came in today.', 'Someone was not nice to me.', 'I have a registration exam tomorrow.', \"The rain didn't go away.\", 'People posed as others on Twitter, imitating their lives.', 'I forgot something important due to my profession.', 'Feeling bored', \"Can't sleep properly.\", 'I had to pay for WiFi and parking.', \"Frank from UPS' last day today...\", \"I'm going to miss the Maine trip tomorrow.\", 'Getting anxious', \"Can't fall asleep.\", 'I have severe allergies.', \"didn't have beer\", 'My landlord delayed my move-in date.', 'The organiser did not allow performing artists/DJs to drink on stage.', 'My computer got a virus.', \"A car accident resulting in one man's death.\", 'I forgot my wallet at work.', 'Worked on a bank holiday', \"My device doesn't work\", \"Can't sleep due to feeling of something missing.\", 'Broke up with F! F! F!', 'Having withdrawal symptoms', 'I hate Nick because he is dating Miley.', 'Missing my dad for over a year now', 'Encountered a scary guy on Colbert.', \"Feeling like I'm going to die.\", 'I have to work', 'My phone has no money on it.', \"I learned that FireWire 800 isn't backwards compatible with FireWire 400.\", 'Having a migraine', 'The shipping and handling cost was more than 50% of my entire order.']\n"
     ]
    },
    {
     "name": "stderr",
     "output_type": "stream",
     "text": [
      "100%|██████████| 40/40 [01:36<00:00,  2.40s/it]\n",
      "Processing:  36%|███▌      | 56/156 [3:36:41<2:42:43, 97.63s/it]"
     ]
    },
    {
     "name": "stdout",
     "output_type": "stream",
     "text": [
      "/home/qiang/projects/Digital_mental_health/Dataset/Condidate_sentiment_dataset/1_event_filtered_all/output_chunk_49_event_filter.json\n",
      "['Computer is not cooperating when having lots of work.', 'Having stomach cramps.', \"Can't sleep\", 'Suffering from hay fever.', \"I'll get beaten up if I don't share\", 'Still sore from my surgery', 'Feeling extremely bored.', \"I'm trapped at work all day\", \"I don't feel right anymore\", 'I misplaced my iPod.', 'I am sad because a friend is going to Richmond.', \"Being left behind on a friend's roadtrip.\", 'Bracing myself for a downfall', 'Waking up early.', 'Brittany forgot my flowers', 'War breaks out.', 'One of our fishies died', \"Can't drink at this bar.\", 'I did horribly in an interview.', \"I'm crying.\", 'I moved away from San Diego.', 'I have a headache and now I have to play a game of rugby.', 'Feeling sad, depressed, lonely, and unhappy.', \"I didn't bring my iPod to school.\", 'Had migraines for two days.', 'Something bad happened today', 'I got out of control.', 'Little H bumped her head.', 'Having a boring day', 'I had nightmares about a football game.', 'Moving can be stressful.', 'Foster still not working', \"I couldn't find jewelry for my dress.\", 'having a bad day', 'Not being able to follow a friend on FriendOrFollow.com', \"Going back to work after startup's over.\", 'I missed my loved ones.', 'Last day of school', 'My Twitter account is suspended.', 'Having a hard day with emotional tears']\n"
     ]
    },
    {
     "name": "stderr",
     "output_type": "stream",
     "text": [
      "100%|██████████| 40/40 [01:31<00:00,  2.29s/it]\n",
      "Processing:  37%|███▋      | 57/156 [3:38:13<2:38:09, 95.86s/it]"
     ]
    },
    {
     "name": "stdout",
     "output_type": "stream",
     "text": [
      "/home/qiang/projects/Digital_mental_health/Dataset/Condidate_sentiment_dataset/1_event_filtered_all/output_chunk_90_event_filter.json\n",
      "['I hate something.', 'Strawberry was not available in Chennai markets for a month.', 'My sister ripped my heart out.', 'My FB account just got deleted.', 'I accidentally listened to Rick Ross.', 'My mom threw out my Ozzy Osbourne pillow.', 'My back hurts.', 'Suspect tax-man is at fault.', 'Still being in an unfortunate situation', \"Jimmy's health is bad.\", 'Feeling extremely tired', 'My cat went missing.', \"Keith's motorbike was stolen.\", 'Stuck in an office.', 'had more work assignments.', 'My iPod has a thin, gray line across the screen.', \"I'm missing my son.\", 'Google makes unwanted changes to my phone.', 'Shot with a taser for having 12 items in a 5-item line.', 'My last day at work.', 'The Lord of the Rings tweet was considered spam.', 'Had to do manual labor and household chores.', 'I have a hole in my tooth', 'I realized the true difficulty of this design.', \"I'm not feeling up to myself lately\", \"I'm barfing\", 'I am hungover', 'Suffered a Benadryl hangover with a killer headache.', 'Our company fish died', 'Watching someone who is drunk and annoying.', 'I sneezed on him', 'VCenter screws up on me today.', 'Got lost and had to pay for a taxi.', \"I don't have enough money to buy tickets.\", \"There's no food in the house.\", \"My friends don't want to hang out with me.\", 'Got my neck burned.', \"Hollie Steel was shamed on Britain's Got Talent.\", \"I'm too afraid to go downstairs.\", \"I didn't log on.\", 'The oracle did not support UnixODBC.', 'I got taken']\n"
     ]
    },
    {
     "name": "stderr",
     "output_type": "stream",
     "text": [
      "100%|██████████| 42/42 [01:39<00:00,  2.37s/it]\n",
      "Processing:  37%|███▋      | 58/156 [3:39:52<2:38:16, 96.91s/it]"
     ]
    },
    {
     "name": "stdout",
     "output_type": "stream",
     "text": [
      "/home/qiang/projects/Digital_mental_health/Dataset/Condidate_sentiment_dataset/1_event_filtered_all/output_chunk_99_event_filter.json\n",
      "['Missing WeHo clubbing tomorrow night due to illness.', 'I creased my Nikes.', \"Youtube isn't working again.\", 'The time is not on my side today', \"Didn't get to leave work on time.\", 'Did poorly on Yogg.', 'Having a sad day', 'I have surgery tomorrow with no food until Saturday.', 'No one wants to play.', 'My plans for today just got cancelled', 'I got sunburnt.', \"Didn't want to go to work tonight\", 'I have a horrible headache', \"I can't see it\", 'I made a mess chopping a fringe.', \"It's extremely hot outside.\", \"I'm falling apart.\", \"I didn't get a call back from the movie audition.\", 'I found a dead bird on my deck', 'It gets frustrating in Iowa.', 'Had a bad experience in math class.', \"I gained weight and don't like how it looks.\", \"I have period cramps and they're extremely painful.\", 'The rain is too strong', 'I got sunburned at the volcano', \"Can't take medication for a sinus headache.\", \"I couldn't find an art shop in Ealing.\", 'The school called about going back to get Shey again.', \"Can't have pets in the apartment.\", 'My tomato plants died.', 'I had to cover extra shifts at work.', \"My homie didn't call me back.\", 'I ate a bad burger.', 'No sales yet.', \"I couldn't sleep.\", 'someone was mean to me', 'I discovered I am lactose-intolerant.', \"I'm not feeling well!\", 'My weekend is going to be bad.', 'Found a video tape with fungus.', 'Tummy hurts']\n"
     ]
    },
    {
     "name": "stderr",
     "output_type": "stream",
     "text": [
      "100%|██████████| 41/41 [01:38<00:00,  2.40s/it]\n",
      "Processing:  38%|███▊      | 59/156 [3:41:31<2:37:24, 97.37s/it]"
     ]
    },
    {
     "name": "stdout",
     "output_type": "stream",
     "text": [
      "/home/qiang/projects/Digital_mental_health/Dataset/Condidate_sentiment_dataset/1_event_filtered_all/output_chunk_106_event_filter.json\n",
      "['Feeling low priority.', 'The game Galbladia Garden is difficult.', 'I was scared by thunder and lightning.', 'I did an awful online Portuguese test.', 'Suffication no breathing.', \"Webcam won't work.\", 'Massive headache', 'Feeling pressured due to time constraint.', \"I don't make as much money as others.\", 'I struggle with math', 'I suck at life', \"I'm scared to fall asleep because I'll wake up sick.\", 'Attended a funeral ceremony', 'TritonLink is down', 'My feet hurt', \"Prom didn't go as planned.\", 'Zoita needs heart surgery.', 'Feeling stupid for not knowing how to use Twitter.', \"I couldn't get through.\", 'Had to use public transport.', \"I didn't make it.\", 'I got a defective MacBook', 'Got swine flu or a similar illness.', 'I missed a workout', \"I didn't get a turkey leg.\", 'The beneath show got cancelled.', 'Missing Alabama and my Nanna', \"I hated the movie's writer, director, and production.\", 'Marley not getting enough ball throwing.', 'I am extremely tired.', 'It sucks', \"Can't look beautiful like others.\", \"People won't follow me.\", 'It started raining real hard.', 'I messed up my new nails.', 'I overslept and was late for work.', 'Today is not going to be relaxing like I hoped. -> Event: Today is not going to be relaxing', \"Listening to my own playing on a friend's album and being disgusted by it.\", 'unable to redeem the Kris Allen album.', 'We got flamed everywhere.', 'Stupid alarm!']\n"
     ]
    },
    {
     "name": "stderr",
     "output_type": "stream",
     "text": [
      "100%|██████████| 41/41 [01:34<00:00,  2.31s/it]\n",
      "Processing:  38%|███▊      | 60/156 [3:43:06<2:34:33, 96.60s/it]"
     ]
    },
    {
     "name": "stdout",
     "output_type": "stream",
     "text": [
      "/home/qiang/projects/Digital_mental_health/Dataset/Condidate_sentiment_dataset/1_event_filtered_all/output_chunk_127_event_filter.json\n",
      "[\"I'm dead poor.\", 'Having a bad day', \"I'll die an old maid\", 'I quit soda.', 'I lost someone important (e.g. \"mr.\")', \"My map pack isn't working\", \"I'm in horrible pain.\", 'I hit myself in the face with a hammer.', \"I'm bored\", 'Missed the shotgun match due to being guilted into going to the store with the wife.', 'Tried to download a strange file.', 'My in-laws visited me at 9 am and stayed, giving me a headache.', \"I wasn't invited to the Panthers development camp this year\", 'My car broke down.', 'Something bad happened to SE.', 'I have been sick for 5 days.', 'Feels unwell', 'Got turned down for the job in Nashville', \"The pitch didn't go well\", \"Missed Britain's Got Talent audition\", 'Waking up early for work.', \"Someone else didn't go to Manchester for me.\", 'People mess with perfect music.', \"My MacBook's hard disk died.\", 'My tummy hurts!', 'I have exams.', 'My cat is being jealous', 'Took a cold shower', 'I lost my dog.', 'My YouTube account was suspended.', 'Pugsly went missing.', 'My trousers got wet.', 'stayed at a bad hotel (candlelight suites with slow shower, poor toilet, and small bed).', \"I wasn't included in the Morcom Gardens quiz on Facebook.\", 'My phone crapped up and stopped working.', 'Missed my loved one', 'Seeing people only seeking followers and not reciprocating replies.', 'My arms are sore', 'He barked so much til he made himself sick', 'My sinuses are bothering me.']\n"
     ]
    },
    {
     "name": "stderr",
     "output_type": "stream",
     "text": [
      "100%|██████████| 40/40 [01:37<00:00,  2.43s/it]\n",
      "Processing:  39%|███▉      | 61/156 [3:44:43<2:33:14, 96.79s/it]"
     ]
    },
    {
     "name": "stdout",
     "output_type": "stream",
     "text": [
      "/home/qiang/projects/Digital_mental_health/Dataset/Condidate_sentiment_dataset/1_event_filtered_all/output_chunk_156_event_filter.json\n",
      "['Killed a pigeon with my car.', 'I threw up', 'I quit my job due to too much stress.', 'Having a degree means nothing.', \"I won't be able to tweet from my phone in Scotland.\", 'Leaving the show', 'I received hit from that tweet', 'Thomas left.', 'Twitter is slow', \"It's freezing.\", \"Refused a bottle of Morgan's at Tesco due to age verification.\", 'I missed high school', 'Had a stupid project in science class.', 'There is pain on the other side.', 'My Blackberry died.', 'Being separated from someone due to distance.', 'Staples killed our productivity', \"I saw my cousins' Facebook page and missed them, feeling sad.\", 'Someone called me a derogatory name.', 'My best friend is not there for me when I need them.', \"I don't want to be at work.\", 'My heart is breaking.', 'We were too late to visit the animals.', 'Husband lost his job']\n"
     ]
    },
    {
     "name": "stderr",
     "output_type": "stream",
     "text": [
      "100%|██████████| 24/24 [00:59<00:00,  2.47s/it]\n",
      "Processing:  40%|███▉      | 62/156 [3:45:42<2:14:00, 85.54s/it]"
     ]
    },
    {
     "name": "stdout",
     "output_type": "stream",
     "text": [
      "/home/qiang/projects/Digital_mental_health/Dataset/Condidate_sentiment_dataset/1_event_filtered_all/output_chunk_5_event_filter.json\n",
      "['The first day of summer was overcast and cold.', \"Greg died or was eliminated from Britain's Got Talent (BGT).\", 'Product/service not available in my area', 'Having cramps', 'I had to make a 1st presentation in front of senior boards.', 'Felt wide awake and grouchy.', 'My life became a misery.', 'My inbox is still empty', \"I'm still sick\", 'I lost my artistic abilities', 'forgot my fringe comb', 'She started crying suddenly while singing.', 'My cousin has a bad case of flu and cannot walk or breathe.', 'Twitter failed me.', 'I have a terrible headache.', 'I became irrelevant.', \"I'm too sick to go outside and play.\", 'Your leaving', 'I failed my SAT exam.', 'I got laid off.', 'I got a detention.', 'my nail broke', 'It was disappointing', 'hates this weather', 'The plebs came in.', \"We don't have snow here.\", 'I have a sore head', 'got banned on Habbo', 'My sister refused to get me a ticket.', \"It's raining.\", 'I am completely lost.', 'My camera is broken', 'This day has been bad to me.', 'The thing is unsaveable', 'I wasted 2 hours looking for a blog topic.', 'A friend seems to have disappeared out of my life.', 'My phone was taken away from me for 4 hours.', \"I couldn't sleep due to too many thoughts.\", \"There's no fairness in this world.\", \"I'm going to fail this final.\", \"Someone said I'm fat.\", \"Can't find the driver for my Microsoft Lifecam VX-3000 Webcam.\", 'I have a major headache', 'Accidentally gave my partner the wrong food, making them feel unwell.', 'My friend is leaving for India for the whole summer.']\n"
     ]
    },
    {
     "name": "stderr",
     "output_type": "stream",
     "text": [
      "100%|██████████| 45/45 [01:44<00:00,  2.32s/it]\n",
      "Processing:  40%|████      | 63/156 [3:47:27<2:21:21, 91.20s/it]"
     ]
    },
    {
     "name": "stdout",
     "output_type": "stream",
     "text": [
      "/home/qiang/projects/Digital_mental_health/Dataset/Condidate_sentiment_dataset/1_event_filtered_all/output_chunk_100_event_filter.json\n",
      "['I was abandoned by someone I cared about.', 'Someone was angry or offended by something I did.', 'I got a blister on my foot.', 'I felt sad', 'The President would punish me', 'too much light hurt my eyes', 'Having to work tomorrow', \"Cougar's privacy was threatened.\", \"I didn't receive a text from someone today.\", 'I forgot about important people.', 'My stomach hurts', 'My brother woke me up to help him with his homework.', 'certain events caused me to lose it', \"My feet hurt and my nose won't stop running!\", 'I overslept for work and had a total fat day.', 'Your cat died.', \"My wife couldn't get on the guest list for tomorrow's show.\", 'Watching friends and family die', 'Left a pre-chilled watermelon in my car for a week.', 'Stressed out from work', 'I wanna leave school early.', 'Feeling sick. Having a headache. Being tired. Being bored.', 'Mouth hurts', 'I miss it', \"didn't get my Jonas 3D poster\", 'Today is not Friday.', 'They are out of ice cream at the Crazy Mocha in SS.', 'I have to wake up early for my garage sale.', 'Ran out of money for essential items (e.g. cigarettes).', 'I tried to be funny on Twitter but failed.', \"I have to go to school when I don't want to.\", 'She sees something that makes her cry.', \"It's depressing.\", \"Didn't get paid for my work\", \"I didn't get to see someone I wanted to see.\", 'The show was cancelled.', \"I was disappointed with the advertising on Lifehacker's article.\", \"My mom didn't call me back.\", 'No internet.', 'She fell into a deep crack in the glacier.', 'Packing is no fun.', 'Had a bad day yesterday']\n"
     ]
    },
    {
     "name": "stderr",
     "output_type": "stream",
     "text": [
      "100%|██████████| 42/42 [01:37<00:00,  2.32s/it]\n",
      "Processing:  41%|████      | 64/156 [3:49:04<2:22:47, 93.12s/it]"
     ]
    },
    {
     "name": "stdout",
     "output_type": "stream",
     "text": [
      "/home/qiang/projects/Digital_mental_health/Dataset/Condidate_sentiment_dataset/1_event_filtered_all/output_chunk_130_event_filter.json\n",
      "['Daddy just left without me', 'I went missing in action (MIA)', 'Youtube is not working.', \"I didn't understand the joke\", 'My film SLR was ignored.', \"Can't even get out of bed.\", 'He is blocked', 'Feeling extremely sad', 'This week has been awful.', 'Deleted a lot of Facebook friends.', 'A restaurant in Tucson closed down.', \"I won't jump\", 'Had to leave Tokyo.', 'Lost a poker game with a bad beat.', 'My mom commanded me to sleep.', 'Had a long to-do list with little motivation.', 'Having a sad baby.', 'I got a cold.', 'I hate that song', 'Running late for work.', 'Feeling pathetic going to bed early.', 'Listening to those little hyperbirdies terrorizing the world.', 'I have to get up early for work tomorrow', 'The girl I was with took too long to get ready.', 'I fell going into my house.', 'I suck at doing blends.', 'The swine market declined.', 'My grandma was admitted to the hospital.', \"I couldn't sleep due to two calls from Tisha.\", 'Morrissey cancelled on me', 'I missed Nicc today.', \"I couldn't fall asleep.\", 'Alex slammed her head into the edge of the table.', 'Waiting for an interminably long time.', 'feel like ****', 'Had a boring day at work and have a bad Saturday ahead.', 'My right kidney hurts.', 'I have no money', 'I got mad', 'unable to Twitterize on my cell phone', \"I'm not going (implying a sense of sadness or disappointment)\"]\n"
     ]
    },
    {
     "name": "stderr",
     "output_type": "stream",
     "text": [
      "100%|██████████| 41/41 [01:37<00:00,  2.38s/it]\n",
      "Processing:  42%|████▏     | 65/156 [3:50:42<2:23:15, 94.46s/it]"
     ]
    },
    {
     "name": "stdout",
     "output_type": "stream",
     "text": [
      "/home/qiang/projects/Digital_mental_health/Dataset/Condidate_sentiment_dataset/1_event_filtered_all/output_chunk_51_event_filter.json\n",
      "['Internet connection ruined a great Scrabble game', 'My sinuses are killing me', \"I wasn't with my friends walking today.\", 'Stuck in traffic', \"They won't be at home.\", 'The bad weather ruined my plans to go out.', \"I don't like this\", \"I sped up to a car thinking it was someone else's, but it wasn't.\", 'Plans with friends fell through', 'I have an injured ankle.', 'The documentation for FubuMVC is not yet complete.', 'I feel like a saddo.', 'My internet was down all night.', 'My chair broke', 'Waiting in the freezing cold.', 'Feeling lonely without Gossip Girl', 'I got sick with a fever.', 'My laptop overheated', 'I had a nightmare.', 'My daughter writes a memoir portraying me negatively.', \"Doesn't want to be an adult today.\", \"We couldn't call from Belgium.\", 'My dog died.', \"My new SB6 CD's got nicked\", \"I won't have any access when I'm in Mexico.\", \"I'm feeling lonely\", 'I had a falling out with Nick.', 'I have a bad flu.', 'I have the English IELTS exam tomorrow.', 'Life is so boring without you', 'I lost friends.', 'Someone bought the domain I planned to buy.', \"didn't feel well today\"]\n"
     ]
    },
    {
     "name": "stderr",
     "output_type": "stream",
     "text": [
      "100%|██████████| 33/33 [01:14<00:00,  2.26s/it]\n",
      "Processing:  42%|████▏     | 66/156 [3:51:56<2:12:44, 88.50s/it]"
     ]
    },
    {
     "name": "stdout",
     "output_type": "stream",
     "text": [
      "/home/qiang/projects/Digital_mental_health/Dataset/Condidate_sentiment_dataset/1_event_filtered_all/output_chunk_22_event_filter.json\n",
      "['Working on a difficult Financial project.', 'I accidentally put incorrect information on social media.', 'Living a tough life.', 'Still in love with loser who left me', \"All diners aren't 24 hours anymore.\", 'Being spoken to rudely.', 'My dog Chachi had surgery today.', 'Wearing white shoes makes me uncomfortable.', 'I have no money on my phone.', 'Ran out of gas and had no money.', 'I lost my earrings.', 'I was creeped out.', 'It rained on Friday', 'I am stuck in bed all weekend', \"I won't know my university results for this year until 17th July at the earliest.\", 'She left me for the whole weekend.', 'Being single with no one to call.', 'I find dead bodies.', 'I\\'m feeling sad because I missed \"The Devil Wears Prada\".', 'Found out Texas had a lot of asbestos.', 'Finding out shocking news about Aitana K.', 'Feeling tired', \"There's a for sale sign in front of my house.\", 'My MPG is going down due to carrying too much stuff in my car.', 'He gets injured', \"I couldn't vote.\", 'My teeth and head hurt.', 'I encountered an idiotic person.', 'The decent seats for the event at MSG in August are expensive.', \"My car won't be ready until 5.\", 'went crazy', 'I had a 76-long and painful mile run.', \"Can't wear favorite shoes to work.\", 'People died in an accident/tragedy', \"I heard you're moving to Sydney next year.\", 'My puppy got sick']\n"
     ]
    },
    {
     "name": "stderr",
     "output_type": "stream",
     "text": [
      "100%|██████████| 36/36 [01:20<00:00,  2.24s/it]\n",
      "Processing:  43%|████▎     | 67/156 [3:53:17<2:07:42, 86.10s/it]"
     ]
    },
    {
     "name": "stdout",
     "output_type": "stream",
     "text": [
      "/home/qiang/projects/Digital_mental_health/Dataset/Condidate_sentiment_dataset/1_event_filtered_all/output_chunk_142_event_filter.json\n",
      "['All my files got deleted', 'We are freezing out here!', \"I've been slacking off a lot lately.\", 'Made a mistake', 'Someone said something mean.', 'Being trolled online.', 'Tokio Hotel is over-rated.', 'I missed something or someone', \"I couldn't sleep due to taking a decongestant.\", 'My head hurts badly.', 'The disc is scratched!', 'The Cubs wrecked the house.', 'Traffic is crawling on I-94.', 'My dog barks too much and jumps up.', \"I'm very bored\", \"I don't like my new haircut\", 'I feel super sick', 'I felt jealous', 'ER is over.', 'I neglected my partner.', 'Found out Apple was rotten at the center', 'I forgot the yard sale.', \"The price to renew my laptop's warranty has doubled.\", \"I'm in the bad books with my mother.\", \"I'm so exhausted.\", 'I have a headache', 'Chose the wrong time of year to do something.', 'I was bored.', 'I hate IPT', \"I haven't gotten poked much\", 'I have to work.', 'I got in big trouble.', 'Someone was mean to me.', 'I lost my pet.', \"Didn't get my vanilla frosty.\", 'lost my keys', 'Google Chrome forgot what everything looks like.', 'I regret coming into the office today', 'I had a horrible dream about a scary face.', \"Can't find my trusty hair tie.\", 'My parents got messed up.', 'Lost a little girl in the family', 'I missed the show.', 'I had to work.', \"I'm depressed.\"]\n"
     ]
    },
    {
     "name": "stderr",
     "output_type": "stream",
     "text": [
      "100%|██████████| 45/45 [01:41<00:00,  2.26s/it]\n",
      "Processing:  44%|████▎     | 68/156 [3:54:58<2:13:05, 90.74s/it]"
     ]
    },
    {
     "name": "stdout",
     "output_type": "stream",
     "text": [
      "/home/qiang/projects/Digital_mental_health/Dataset/Condidate_sentiment_dataset/1_event_filtered_all/output_chunk_64_event_filter.json\n",
      "['I am stubborn and a morning grouch.', 'Photos on your site are too small.', 'I miss my baby', 'My tweets are not turning out well.', 'I have to diet for 35 days.', 'My embouchure failed.', 'Having a bad day.', 'I failed at life.', 'Twitter stole my pictures.', 'Having a bad day', 'My dog is having anxiety issues.', 'I was bullied by coworkers Bindz and J.', 'Got the flu', 'I have a tummy ache.', 'I had a migraine.', 'Someone insulted my hair.', 'I have serious problems concentrating.', 'I will be missing her.', 'It has been raining too much lately', 'The Karma site is not working.', 'I got vaccinated.', 'I was involved in a minor accident', 'Open Tweetie in browser is still broken.', 'I have to go back to adult school again.', 'People talk behind my back.', 'My sun burn hurts', 'The president looks like a liar.', 'Got sunburn on my knees', \"It's raining.\", 'being pinned down by a pet cat', 'I was in hospital with gallstones.', 'I have a fever.', 'There are dead deer everywhere in Michigan.', \"I'm tired and hungry.\", 'I forgot people in the credits of my book.', \"I'm bored.\", \"I'm frustrated\", 'Got sick from drinking too much alcohol', 'I was booted off', 'I had to sacrifice money for job happiness.', 'Almost fell asleep under the hair dryer', 'The music in the trailer was terrible.', 'Feeling poorly', 'I have a tummy ache', 'Seeing Pride hijacked by politics.', 'Roxie is not feeling very well']\n"
     ]
    },
    {
     "name": "stderr",
     "output_type": "stream",
     "text": [
      "100%|██████████| 46/46 [01:46<00:00,  2.32s/it]\n",
      "Processing:  44%|████▍     | 69/156 [3:56:45<2:18:30, 95.53s/it]"
     ]
    },
    {
     "name": "stdout",
     "output_type": "stream",
     "text": [
      "/home/qiang/projects/Digital_mental_health/Dataset/Condidate_sentiment_dataset/1_event_filtered_all/output_chunk_67_event_filter.json\n",
      "['Finished crying about Harold.', 'My short game has gone to ****!', 'Our chandelier crashed down our steps.', 'selling my drumset', 'They frighten me to death.', \"Practically crying because I'm not in Montepulciano.\", 'I am very hungry.', 'My dog farted badly.', 'I was stuck indoors all day.', 'June 18 was a failed day for me.', 'FC keeps going down.', \"I couldn't go tanning today\", 'She pissed someone off.', \"Didn't get a pool key.\", \"Didn't receive good news\", 'People mistakenly thought I was Hugh Laurie on Twitter.', 'Missed tweeting', 'Being drunk and hot sucks', 'I broke my work shoes.', \"My sensors don't last for more than 3 1/2 days.\", 'I have an anatomy prac tmw', \"I couldn't watch Flash videos on my Mac after 5.7\", 'Feeling extremely tired', 'Being sick and tired', 'My hard-earned money disappeared.', 'My asthma is suffering due to the cold.', \"I sat on the lawn mower and didn't push it.\", 'I got a migraine', 'I lost all of my blog posts', 'I am upset', 'I burnt my arm on the grill.', 'Cancelled our Philly trip.', 'Shelf from Ikea fell off the wall.', 'Can barely walk', 'My Tumblr drafts got deleted.', 'felt extremely sad', 'I have been getting bad ones.', \"Lady Gaga's video leaked.\", 'I woke up at home after dreaming of being at an awesome party.', 'I broke my phone.', \"I'm alone in my bay again.\", \"I couldn't scream on the ride.\", \"I didn't get to see Tila Tequila when she was in CT.\"]\n"
     ]
    },
    {
     "name": "stderr",
     "output_type": "stream",
     "text": [
      "100%|██████████| 43/43 [01:40<00:00,  2.33s/it]\n",
      "Processing:  45%|████▍     | 70/156 [3:58:25<2:19:01, 96.99s/it]"
     ]
    },
    {
     "name": "stdout",
     "output_type": "stream",
     "text": [
      "/home/qiang/projects/Digital_mental_health/Dataset/Condidate_sentiment_dataset/1_event_filtered_all/output_chunk_128_event_filter.json\n",
      "['Living on the streets for 40 hours with no food, no bed, and no access to social media.', 'Internet stopped working.', 'My tummy hurts', 'I failed', 'Living with my step dad.', 'My storm is acting up', 'I feel really tired today', 'Stuck in a huge traffic jam', 'That sucks.', \"My throat is killing me and it feels like it's in my lungs.\", 'Girl got rejected on BGT', 'My back is all kinds of messed up.', \"Kids won't eat salad.\", 'It gets too chilly at night', \"Can't go to Jack's anymore.\", 'Not feeling well', \"Mom won't let me sleep over at Sanz's.\", 'I broke down and cried.', 'I want to be alone.', \"I'm so tired I can barely keep my eyes open.\", \"I missed Taylor Swift's performance on the Today show.\", \"Didn't receive an email from MAX.\", \"I'm going to miss someone badly\", 'I feel left out', 'Having a poor week', 'Having no luck finding friends', 'Friend got lost.', 'Unable to swim', 'The mall I once worked at has become a depressing place.', 'I felt lonely and wanted someone to comfort me.', 'Things get confused.', 'Being separated from someone.', 'Had to work today.', 'Got a headache', 'I am starving and have a chemistry quiz due at noon', 'Weebo is dying', 'You shoved something into a bag despite my objections.', \"Piers buzzed during the little girls' singing.\", 'I had no internet for 2 days.', 'Rejecting all food substances.', 'Missed the UP screening this morning at the El Capitan', 'My dog Max passed away.']\n"
     ]
    },
    {
     "name": "stderr",
     "output_type": "stream",
     "text": [
      "100%|██████████| 42/42 [01:37<00:00,  2.33s/it]\n",
      "Processing:  46%|████▌     | 71/156 [4:00:03<2:17:47, 97.26s/it]"
     ]
    },
    {
     "name": "stdout",
     "output_type": "stream",
     "text": [
      "/home/qiang/projects/Digital_mental_health/Dataset/Condidate_sentiment_dataset/1_event_filtered_all/output_chunk_15_event_filter.json\n",
      "['Was rejected', 'I said goodbye to my Twitter friends.', 'I cannot be there this summer.', \"The sun didn't come out today.\", 'My deep fry drumsticks did not turn out well.', 'The weather is awful', \"The weather in LA didn't cooperate.\", \"My friend's mother refused to take me to the movies.\", 'Lost my USB stick', 'Michael Scholfield died.', 'Our neighbor died', 'Having a bad week', 'Experienced 2-3 hour weather delays at BWI airport.', 'Had an unpleasant talk with in-laws.', \"My foot's hurting.\", 'Time is going by too fast.', 'Church/Sunday race conflicts', 'I had a heartbreak experience at Gates last night.', 'Jeff will have a hard time from 42nd.', 'I was sick at school.', 'Being back to work after being off for 7 weeks.', \"He is where the **** can't reach him now.\", 'Kate broke up with me.', 'I have to go back to work.', 'I am jealous', 'Got stuck in traffic for 2 extra hours', \"The new picture doesn't work.\", \"I'm hungry.\", \"Can't upload a picture.\", \"I'm slow.\", 'I failed my bio final', 'My YouTube channel changed and became ordinary.', 'Had homework to do over the whole weekend.', 'I am in pain', 'The R Drive-in near me is no longer operational.', 'I have difficulty concentrating.', 'I felt stupid and harsh.', 'I was perceived as weak.', 'was given something useless to complain about', 'Worst day ever.', 'I was not invited.']\n"
     ]
    },
    {
     "name": "stderr",
     "output_type": "stream",
     "text": [
      "100%|██████████| 41/41 [01:32<00:00,  2.26s/it]\n",
      "Processing:  46%|████▌     | 72/156 [4:01:36<2:14:14, 95.88s/it]"
     ]
    },
    {
     "name": "stdout",
     "output_type": "stream",
     "text": [
      "/home/qiang/projects/Digital_mental_health/Dataset/Condidate_sentiment_dataset/1_event_filtered_all/output_chunk_76_event_filter.json\n",
      "['Everyone has left me.', 'I had a professional split with someone important to me.', 'Having no service.', 'I wasted a whole week playing GTA4.', \"We didn't appear on the Today Show.\", 'We got kicked out of the bank.', \"It's only Friday morning.\", 'Not having the best day', 'I got the flu', \"Marshall's death\", 'Wearing leather jackets is uncomfortable.', \"I'm sick.\", 'A girl stepped on my foot at a bar.', \"I'm bored.\", 'I lost my old school Nintendo.', 'Had a private session.', \"I'm about to break my own heart.\", 'Having the scariest zombie dream ever.', 'I miss my daddy', 'Flight delayed', 'Was called a poser and not nice.', \"I didn't get a retweet on Twitter.\", \"It has been raining nonstop since Wednesday and won't stop till Monday.\", 'FB is boring', 'Being treated unfairly by others.', 'The party had to be postponed due to bad weather.', \"I'm going to cry.\", 'I lost half of the cords at graduation.', 'My speech will be boring.', 'Mobile phone check-in failed', \"I'm so sad\", 'I made a mistake again.', \"We've had heavy rain for more than a week.\", \"It's too warm in my room.\", 'Got a divorce.', 'Having a sad face moment', 'The food was bad.', 'I had swine flu and bronchitis.', \"I'm sick\", 'I had a major fail.']\n"
     ]
    },
    {
     "name": "stderr",
     "output_type": "stream",
     "text": [
      "100%|██████████| 40/40 [01:36<00:00,  2.42s/it]\n",
      "Processing:  47%|████▋     | 73/156 [4:03:13<2:13:00, 96.15s/it]"
     ]
    },
    {
     "name": "stdout",
     "output_type": "stream",
     "text": [
      "/home/qiang/projects/Digital_mental_health/Dataset/Condidate_sentiment_dataset/1_event_filtered_all/output_chunk_2_event_filter.json\n",
      "['Forgot to take out washing from machine', 'My back hurts really bad', 'My modem has been offline for a week; Tim just left again; My schedule has been brutal', 'Had to go to school on Saturday.', 'I missed my niece.', \"Her car's illness is terminal.\", 'I missed you guys last night', 'I went home sick on my last day of high school.', 'I lost a tooth while eating gum.', \"I'm starving because of this diet.\", \"I'm feeling bored and missing my music channels.\", 'I lost my voice.', 'My parked car got hit', 'I lost my privacy on the internet.', 'I have a headache', 'Got stuck in traffic', 'Not having a bike.', 'failed inspection', \"I didn't sleep at all.\", 'You die', 'I am depressed', 'Threw up, felt sick.', \"I had to pay for parking because I couldn't parallel park.\", 'Will no longer be roomies starting tomorrow', \"I'm worried about you\", 'I have to stay at work till 6.', \"I'm stuck.\", 'He stopped being supportive.', 'Pinched a nerve.', 'Today was exhausting.', 'My flight got cancelled.', 'My tooth hurts.', \"I'm broke\", 'Had 2 days without sleep and got a migraine.', 'sucks!', 'I miss my parents.', 'My dog is depressed.', 'Missed The Killers concert on TV.', 'feeling seriously bored without anyone to talk to', 'I am lost.', 'I hurt my back lifting drum hardware into my car.']\n"
     ]
    },
    {
     "name": "stderr",
     "output_type": "stream",
     "text": [
      "100%|██████████| 41/41 [01:40<00:00,  2.46s/it]\n",
      "Processing:  47%|████▋     | 74/156 [4:04:54<2:13:17, 97.54s/it]"
     ]
    },
    {
     "name": "stdout",
     "output_type": "stream",
     "text": [
      "/home/qiang/projects/Digital_mental_health/Dataset/Condidate_sentiment_dataset/1_event_filtered_all/output_chunk_117_event_filter.json\n",
      "[\"I caught a cold and my medicine doesn't last long.\", 'My friend just cancelled our movie date', 'Had to stay home due to poor health.', \"I'm going to have a long day.\", 'The weather is gross outside.', 'She got her plans cancelled', \"It's too hot!\", 'Neighbors started building a deck at 5:00am.', \"I missed Chris Lake's show in Stockholm.\", 'Had to return my truck due to high monthly payments and insurance costs.', \"I'm in pain\", \"I'm extremely sad\", 'I got sick.', 'I have no money.', 'spending all day catching up on studying for online summer classes', 'My stomach hurts', \"I couldn't attend dramafest.\", 'I had only 2 hours of sleep before a 12 hour day.', 'Phone disconnects my internet right in the middle of an Uber.', 'My heart broke.', 'Is in serious pain.', 'Somebody smuggled me to Sydney.', 'I failed my exam and lost my BSc degree.', 'I said a horrible thing about Rove.', 'My skin is burning up.', 'Coworkers are too loud and disrupting the workplace.', \"I missed a 10-year-old's birthday.\", 'feeling sad', \"Realized I'll never have everything I want.\", 'It ruined my date.', 'Holly started crying', 'Hated putting in new contacts', \"There wasn't enough room for me.\", 'We were kicked out of a church.', 'My alarm clock failed to wake me up on time.', \"I'll be in class until 4.\", 'My entire apartment is smoky.', 'Servers were down at work.', 'Jr is sick with 100 degree fever', \"I wasn't online.\", 'I had a bad throat and the worst toothache.']\n"
     ]
    },
    {
     "name": "stderr",
     "output_type": "stream",
     "text": [
      "100%|██████████| 41/41 [01:36<00:00,  2.36s/it]\n",
      "Processing:  48%|████▊     | 75/156 [4:06:30<2:11:17, 97.25s/it]"
     ]
    },
    {
     "name": "stdout",
     "output_type": "stream",
     "text": [
      "/home/qiang/projects/Digital_mental_health/Dataset/Condidate_sentiment_dataset/1_event_filtered_all/output_chunk_136_event_filter.json\n",
      "[\"Someone I don't know is following me.\", 'Seeing pregnant women smoking.', 'Given myself a headache thinking about it', 'Someone ignored me.', \"Mourning Venus' third round loss.\", 'Someone said something mean to me.', 'Kris is making me sick.', 'Kennedy was released.', \"I don't feel good\", 'My head is hurting', \"I miss Snickers bars and Hershey's with almonds.\", \"Last night's paper writing session was not completed.\", \"Running out of money when it's needed most.\", 'I was threatened to be slapped in public.', 'I lost my sense of excitement for weekends.', 'Had graduation practice.', 'I got sacked.', \"I can't see my boyfriend\", \"Jeff couldn't get his visa in time to come visit me.\", 'Net went down', 'The strawberries ran out in my Special K.', 'I never got an answer back.', 'My TV is boring', \"The little girl on Britain's Got Talent was crying.\", \"I'm the poorest person of all.\", \"I didn't get to see my loved one today.\", 'I failed my second year of med school.', \"I'm hurt\", 'I heard a disaster', 'The computers and Ethernet at school are slow.', 'Not having time to work on MacMaze sources.', 'I am not feeling well.', \"I didn't get the chance to see her perform.\", 'Got really sick today', 'My cell phone is dead.', 'I got in trouble (implied by \"It **** sucks\").', 'I was abandoned by someone.', \"I'm tired.\", \"I'm really bored.\", 'I missed the ice cream truck.', \"I don't want to go to work today\", \"I'm disappointed.\", \"Carrie can't come\", 'Canceled my performance on Letterman.', 'I have a hangover.']\n"
     ]
    },
    {
     "name": "stderr",
     "output_type": "stream",
     "text": [
      "100%|██████████| 45/45 [01:47<00:00,  2.40s/it]\n",
      "Processing:  49%|████▊     | 76/156 [4:08:18<2:13:58, 100.48s/it]"
     ]
    },
    {
     "name": "stdout",
     "output_type": "stream",
     "text": [
      "/home/qiang/projects/Digital_mental_health/Dataset/Condidate_sentiment_dataset/1_event_filtered_all/output_chunk_14_event_filter.json\n",
      "[\"It's raining.\", \"It's looking really dead today...\", \"I'm so upset\", 'I feel slightly sick', 'The man with the hook for a hand is freaking me out.', 'Having a sad and lonely profession.', \"I didn't get a fair outcome.\", 'FFAF is distracting me.', \"Something didn't go well\", 'I tweeted while driving.', 'Tummy hurts', \"I'm no longer unique.\", 'I was blamed for someone leaving.', 'My sister messed me up.', 'TGIF Resto here at home is expensive!', 'I was disappointed with a book I read.', 'Rode a bike in the dark without glasses on.', 'Mom is in the hospital', 'I am being ignored!', 'I fell off a ladder.', 'I was ignored by someone I care about.', \"Can't sleep.\", \"I couldn't access my account information on the iTunes Store.\", 'Car was severely damaged.', 'I have to work for 4-5 hours on Sunday.', 'We have to go burn some lampions', 'My mouth hurts.', \"Didn't work out with Antiboyle.\", \"Someone didn't like me.\", \"I'm still sick.\", \"I'm very ashamed.\", 'I have uncontrollable hiccups that hurt', 'Her and Angel harassed me and tried to break into my house.', 'Had a stomach problem.', 'Having to write essays', 'I got sick for almost a week.', 'Received Alltop spam', 'I forgot about the May 24 deadline for the 40,000 mile award trips to South America.']\n"
     ]
    },
    {
     "name": "stderr",
     "output_type": "stream",
     "text": [
      "100%|██████████| 38/38 [01:26<00:00,  2.27s/it]\n",
      "Processing:  49%|████▉     | 77/156 [4:09:44<2:06:39, 96.20s/it] "
     ]
    },
    {
     "name": "stdout",
     "output_type": "stream",
     "text": [
      "/home/qiang/projects/Digital_mental_health/Dataset/Condidate_sentiment_dataset/1_event_filtered_all/output_chunk_1_event_filter.json\n",
      "['I will miss you.', 'My boss is bullying me.', 'Had a bad interview', \"They didn't include items in previous purchases.\", 'My Sharpie is running out of ink.', 'I lost my voice.', 'I got sunburned', \"I've been sick for the past few days.\", 'No internet access.', 'There was a power cut in Noida.', 'I was told I am obese.', 'I still miss NY', 'Last day of school.', 'I have a hangover.', 'Running out of money', \"I'm not thrilled with my new one.\", \"I was disappointed by someone's actions in the past few days.\", \"A coworker's bag hit my knee.\", \"I lost all my friends and I'm alone.\", 'I gave in too easily', 'I missed my family today.', 'Feeling extremely tired', 'I got sick with a flu-like illness.', 'No reply from about my SimFinger problem', 'waiting for sleeping pills to kick in', \"Casey's gone!\", 'I had a horrible, traumatic jumping cholla accident.', 'Everyone was too busy to go out with me.', \"I didn't feel confident about my tests.\", \"I'm a little sad.\", 'Having 7 hours of Maths, Geography, English and French exams next week.', 'I got splinters.', 'Feeling sad', 'Dealing with terrible kids', 'AerLingus no longer flies to Copenhagen.', \"I had to google a term because I didn't know it.\", 'Had a fight', 'Having a sore throat', 'I hate my computer.']\n"
     ]
    },
    {
     "name": "stderr",
     "output_type": "stream",
     "text": [
      "100%|██████████| 39/39 [01:29<00:00,  2.30s/it]\n",
      "Processing:  50%|█████     | 78/156 [4:11:14<2:02:29, 94.22s/it]"
     ]
    },
    {
     "name": "stdout",
     "output_type": "stream",
     "text": [
      "/home/qiang/projects/Digital_mental_health/Dataset/Condidate_sentiment_dataset/1_event_filtered_all/output_chunk_108_event_filter.json\n",
      "[\"My best mate found out that I am moving away to attend Uni and doesn't understand my decision.\", 'Missing how things used to be', 'I let you down.', 'Feeling awful', 'Got only 5 votes', \"I'll be a lonely old cat woman\", 'Having a bad day', 'My camera stopped working', 'I missed my graduation ceremony.', 'I lost another friend', 'I got bored.', \"I want to be 19 and fit again, but can't.\", \"I miss my auntie's dogs\", 'My friend was not impressed', 'I had to use a laptop touchpad instead of my Wacom mouse.', 'House hunting was not fun.', 'Took too much Sudafed!', 'Not having a phone.', 'I received an uncomfortable announcement.', \"I'm in alone.\", 'I broke the bathroom.', 'Losing a best friend', 'They took my property', 'Traffic is horrific', 'Sorry to hear about your bro, man', 'I disappointed my friends at my farewell party.', \"Can't attend the launch party tonight.\", 'My new dress broke, the strap ripped off', 'Got stuck on the empire puzzle.', 'Having trouble swallowing paracetamol pills.', 'Some people are such arseholes.', 'The Columbus Blue Jackets may be moving to a new city.', \"I lost something important and can't find it.\", 'Not feeling well today', \"Found out my 'friend' isn't actually a friend.\", 'You still have class', 'Dropping my mum at the station', 'Listening to music at work was painful', \"Adult player shirts don't come in kid sizes\", 'Had a bad race', 'A huge storm hits', 'The air conditioner in my house broke down.']\n"
     ]
    },
    {
     "name": "stderr",
     "output_type": "stream",
     "text": [
      "100%|██████████| 42/42 [01:28<00:00,  2.11s/it]\n",
      "Processing:  51%|█████     | 79/156 [4:12:43<1:58:49, 92.59s/it]"
     ]
    },
    {
     "name": "stdout",
     "output_type": "stream",
     "text": [
      "/home/qiang/projects/Digital_mental_health/Dataset/Condidate_sentiment_dataset/1_event_filtered_all/output_chunk_155_event_filter.json\n",
      "['Never had time to spend due to insane circumstances.', 'Someone ruined my birthday by saying the song is about a person being selfish.', 'Had to stay up late for work and had to wake up early.', \"I couldn't sleep\", 'Still suffering', 'My auntie got in a bad car accident.', 'Someone sat next to me and the temperature went up 10 degrees.', 'I miss my partner.', 'Nugget bit Jack.', 'I heard thunder rolling in', 'I had to wait in a long queue.', 'I missed Screen On The Green', 'I got a busted knee.', 'I left my car in California.', 'I got a burn.', 'I will have an all-night writing session.', 'Failed to read time telling devices', \"I couldn't contact Miley.\", 'My ankle/leg has been bothering me again.', \"We don't feel too comfortable using it.\", 'My tweet was shared about a special moment.', 'Felt lazy when it was time to work out.', \"I realized I booked tickets for Pat Kenny's last night.\", 'I feel sad.', 'My stomach hurts badly.', 'I have to grow up.', 'I only have $4.38 in my account.', 'I feel bad for Holly', 'There was a problem with an online stream.', 'I am suffering from neck/shoulder/back pain.', 'Having a long and stressful day tomorrow.', 'I missed an event.', \"Can't find something.\", 'I hate writing emails.', 'I became worthless.', \"Twitter won't post my tweet.\", 'Insomnia', 'I got into a fight with Perez Hilton on Twitter.', 'Got sick with the flu.']\n"
     ]
    },
    {
     "name": "stderr",
     "output_type": "stream",
     "text": [
      "100%|██████████| 39/39 [01:35<00:00,  2.45s/it]\n",
      "Processing:  51%|█████▏    | 80/156 [4:14:18<1:58:21, 93.44s/it]"
     ]
    },
    {
     "name": "stdout",
     "output_type": "stream",
     "text": [
      "/home/qiang/projects/Digital_mental_health/Dataset/Condidate_sentiment_dataset/1_event_filtered_all/output_chunk_133_event_filter.json\n",
      "['Got sunburned on my face and legs.', 'Could not give Mikey the money on time.', 'I am incredibly worried about Stanley...', 'Someone was being mean to me.', \"Lost an hour's work due to server issues.\", 'Feeling bored', \"It's ridiculously warm in bed\", 'I have no internet right now.', 'Cried during the senior show.', \"I saw something on someone's page that made me hungry.\", 'I have to work all weekend', 'My computer is running too slow.', 'I was sick and drugged for three days.', 'Having trouble sorting out my portfolio', 'Struggling to understand course material.', 'I have to find a new school.', 'I chickened out', 'I was so tired.', 'Organic chemistry is confusing', 'The price of Slightly Stoopid show tickets increased significantly.', 'I failed my ACCELA unit tests.', 'Waiting for class to start.', 'My salary decreased.', 'Feel depressed', \"I'm extremely full.\", 'The baby tiger I met in Thailand was sold as an exotic pet.', 'Time ticking by too slowly', 'A program freezes during installation.', 'I feel like throwing up.', 'Getting played', 'Being forced to wear a mask and gloves at work because of illness.', 'My quilt top photo only shows when you click on it!', 'I had the worst headache.', \"I am stuck at work and can't do what I want.\", \"They don't sell Ciroc where I stay.\", \"I couldn't sleep.\", 'My computer is running slow.', 'No one will accompany me to IKEA.', 'Woke up before 11am', 'Woke up unhappy at midnight.', 'My site was down for several hours.']\n"
     ]
    },
    {
     "name": "stderr",
     "output_type": "stream",
     "text": [
      "100%|██████████| 41/41 [01:33<00:00,  2.28s/it]\n",
      "Processing:  52%|█████▏    | 81/156 [4:15:52<1:56:49, 93.46s/it]"
     ]
    },
    {
     "name": "stdout",
     "output_type": "stream",
     "text": [
      "/home/qiang/projects/Digital_mental_health/Dataset/Condidate_sentiment_dataset/1_event_filtered_all/output_chunk_81_event_filter.json\n",
      "['I missed a celebrity sighting.', 'Not being seen by a dentist despite arriving earlier than others.', 'My dog Roscoe died', \"Being forced to learn to drive when I'm not good at it.\", 'Had strawberries with milk and sugar.', 'I am very worried', \"I don't get your station out in Paso.\", 'I hate revision!', 'Going home alone', \"Didn't post a picture and felt sad.\", 'Having slow internet for 14 days.', \"I'm stuck in a long queue.\", 'I hated my new work picture.', 'Not being able to breathe this morning', 'I melted 2 square inches of my skin.', 'Spending too much money at Costco', 'This day is ugly and it matches my bad mood.', \"We couldn't get the project working with the Windoze laptop.\", 'It gets sadder', 'Wrong remains were delivered to each other at a funeral.', 'Lost my job.', 'Trains and motorways were not fun.', 'A suspicious website is following me!', 'Something bad happened', 'I was lied to.', 'I feel sad.', \"I have a strange infection in my body that's causing me to be sicker than I need and to have a fever.\", 'Feeling bored', 'Got sunburned back', 'Feeling not in the mood', 'I feel totally uncomfortable', \"I'm bored.\", 'Having problems with my BlackBerry.', \"It's not fair to me.\", 'Driving is tiring me out.', \"I won't be able to visit my family/fam in that area.\", \"I'd hate to be late\", 'Had to wait a long time to see something.', 'I hate TweetDeck.']\n"
     ]
    },
    {
     "name": "stderr",
     "output_type": "stream",
     "text": [
      "100%|██████████| 39/39 [01:30<00:00,  2.33s/it]\n",
      "Processing:  53%|█████▎    | 82/156 [4:17:23<1:54:17, 92.67s/it]"
     ]
    },
    {
     "name": "stdout",
     "output_type": "stream",
     "text": [
      "/home/qiang/projects/Digital_mental_health/Dataset/Condidate_sentiment_dataset/1_event_filtered_all/output_chunk_75_event_filter.json\n",
      "['I changed my mind without prior notice.', 'My internet is dying out', \"I'm sick and not getting better\", 'My head hurts.', \"It's hard to cope with someone posting 200 tweets a day on my Android phone.\", 'I got frustrated trying to figure out how to direct message.', 'I missed Kristen.', 'I lost richness or wealth.', 'This week was dragging on.', 'Our currency is dropping.', 'The exhibit was not in Sydney.', 'We lost', 'Being half the country apart from Eddy.', 'Had to fix bike chain on the way to work and arrived a filthy, bloody mess.', 'I was in a very stressful mood', \"We'll miss you\", 'feeling down', \"My metal back doesn't like getting wet.\", \"I'm afraid about the maths NAPLAN test.\", 'I have nothing to do on a Friday night.', \"We can't drive in Mexico and there are no Dairy Queens here.\", 'I am missing Tampa', 'Picking your nose', 'I had to work 12 hour workdays.', 'My car broke down.', 'I had to drop out of a trip due to personal commitments.', \"I couldn't sleep again\", 'I broke my nail.', 'Feeling useless and bored', 'Having cramps on a hot day.', 'I was sad', 'Hand hurts', 'I felt sad', \"It's raining.\", 'I got the flu.', \"I'm still tired\", 'I am feeling the effects of over-tanning.', \"I don't have my sister\", 'I am unable to sleep due to my bipolar disorder.', 'My tummy is not happy.', 'Animals die on nature shows.', \"I'm lost about what to do.\", 'My tattoo artist is moving.']\n"
     ]
    },
    {
     "name": "stderr",
     "output_type": "stream",
     "text": [
      "100%|██████████| 43/43 [01:49<00:00,  2.54s/it]\n",
      "Processing:  53%|█████▎    | 83/156 [4:19:12<1:58:50, 97.68s/it]"
     ]
    },
    {
     "name": "stdout",
     "output_type": "stream",
     "text": [
      "/home/qiang/projects/Digital_mental_health/Dataset/Condidate_sentiment_dataset/1_event_filtered_all/output_chunk_88_event_filter.json\n",
      "['Leaving friends behind', 'The technician showed up earlier than scheduled.', 'I feel drunk.', 'I chose the wrong career', 'I missed her so much.', 'The team behind Wallace & Gromit and Monkey Island combined disastrously.', \"He doesn't care about me anymore.\", 'I cried', \"I don't have any friends\", 'A thunderstorm occurred.', \"Hailey's really gone now.\", 'They are disgusting.', 'I only got 3 hours of sleep last night.', 'Given skimmed milk instead of soy milk at Starbucks.', 'Something bad happened.', 'I have a headache', \"I couldn't fall asleep\", \"Backstreet Boys' song was used on Chuck without my expectation.\", \"Haven't found a good apartment with reasonable rent.\", 'The weather is cold.', 'Unfortunately.', \"I don't feel good\", 'Kids on my bus ruined my yearbook', \"She's missing critical mass.\", \"couldn't take kids to Grandma's because she's sick.\", 'I burnt my arm.', 'I was sick with a cough and sniff.', \"I didn't know you were here.\", 'My closest friend went away.', 'I gave a performance in front of an audience.', 'I have a headache.', 'I am lonely', 'Got stuck with too much homework', \"The vog was so bad that they couldn't see the ocean.\", 'We have a big old leak in the kitchen.', 'Had too many tasks to complete within a limited time frame.', 'It rains', 'I am hyperventilating over my hair.', 'I have an excruciating headache']\n"
     ]
    },
    {
     "name": "stderr",
     "output_type": "stream",
     "text": [
      "100%|██████████| 39/39 [01:33<00:00,  2.39s/it]\n",
      "Processing:  54%|█████▍    | 84/156 [4:20:45<1:55:35, 96.33s/it]"
     ]
    },
    {
     "name": "stdout",
     "output_type": "stream",
     "text": [
      "/home/qiang/projects/Digital_mental_health/Dataset/Condidate_sentiment_dataset/1_event_filtered_all/output_chunk_37_event_filter.json\n",
      "['I am going to miss my boo for 2 days.', 'Had a long and tiring day/week at the office.', 'My whole body feels sore!', 'I lost the chat', 'Lost contact with someone.', \"She's not talking to me.\", 'My blackberry is dying.', 'Got extremely drunk', 'My pet is sick', 'My arm hurts badly.', 'It smells badly of garlic', 'There is a huge spider in the towel pile.', 'I got attacked by another dog.', 'We were disappointed by a movie.', 'I was ignored by someone I care about.', \"I won't be able to see my daddy tomorrow.\", 'I missed Match Game tonight', 'I miss my friends', \"It's too close to me.\", 'I said happy belated birthday a month late.', 'My friends went on a mall trip without telling me.', \"Didn't get a diamond ball\", 'I failed my math test', 'I was made to cry.', \"I didn't get to see the Jonas Brothers' webcast.\", 'My leg broke', 'My family did not bring me lunch as promised.', \"They won't be there when I get to the States.\", 'Firewall/proxy server restrictions', 'Feeling bored at home', 'My tweet looks dorky.', 'My cable signal is messed up; I hurt my toe and got a cold.', 'Almost failing in one of the subjects.', 'I miss my mommy...', 'The puppy got neutered.', 'I have a tummy ache', 'I failed to sleep/I will fail at D&D', 'Had a miserable day at work', 'The show finishes tomorrow', 'Nothing happened.', \"I lost at McDonald's Roulette.\"]\n"
     ]
    },
    {
     "name": "stderr",
     "output_type": "stream",
     "text": [
      "100%|██████████| 41/41 [01:32<00:00,  2.25s/it]\n",
      "Processing:  54%|█████▍    | 85/156 [4:22:17<1:52:29, 95.06s/it]"
     ]
    },
    {
     "name": "stdout",
     "output_type": "stream",
     "text": [
      "/home/qiang/projects/Digital_mental_health/Dataset/Condidate_sentiment_dataset/1_event_filtered_all/output_chunk_124_event_filter.json\n",
      "['I got blisters on my fingers from playing music too much.', 'I had a migraine.', 'Something may be wrong with my health.', 'Everything in life is messed up.', 'My sleep was interrupted by loud noise.', 'My furniture is backordered and may not arrive on time.', 'Life is not fair', 'Something bad happened to B.', \"I'm going to be sick.\", 'Something bad happened', 'I want to die.', \"TR Knight left Grey's Anatomy\", 'No more Minneapolis runs/excursions for at least a year.', \"I'm going to be seriously sad\", 'I cut my finger with a knife.', 'My wireless router died.', 'My room is too hot to sleep in', \"My iPod isn't perfect.\", 'Rachel and Chelsey left me and Jenny stole my bike.', 'Being sick', 'I have no money for a phone.', 'My life sucks.', 'The weather is cloudy.', 'I was ranked as one of the worst beach bodies due to my butt.', 'Contracted Swine Flu', 'I missed an episode of my favorite show.', 'Encountered snakes while going to the creek.', 'Had only 10 minutes before a meeting', 'projects suck', 'Brought bad weather to the States', 'I want to kill myself.', 'I hated being at that place.', 'I miss you', 'It would cost me too much.', 'My head is getting stuffier and stuffier.', \"I'm still sick.\", 'I was not hugged', \"I couldn't get a job due to my physical appearance.\", 'I got dropped by some followers', 'Not being allowed to use a calculator for an exam despite needing one.', 'People were rude to me.', \"I'm going to miss someone.\", 'Experienced violence', 'Someone has hacked into my emails!', \"I've been told I'm a chav\"]\n"
     ]
    },
    {
     "name": "stderr",
     "output_type": "stream",
     "text": [
      "100%|██████████| 45/45 [01:56<00:00,  2.58s/it]\n",
      "Processing:  55%|█████▌    | 86/156 [4:24:13<1:58:17, 101.40s/it]"
     ]
    },
    {
     "name": "stdout",
     "output_type": "stream",
     "text": [
      "/home/qiang/projects/Digital_mental_health/Dataset/Condidate_sentiment_dataset/1_event_filtered_all/output_chunk_140_event_filter.json\n",
      "['Someone said something hurtful or offensive to me.', 'Someone hates me', 'Man blew up my amp!', 'They replaced Free Book Fridays with 1/2 price Fridays.', \"Sitting inside because mobile signal won't work in the garden.\", 'I felt bad not sending him stuff', \"Don't feel good\", \"I'm bored!\", 'Cannot sleep for 2+ hours.', \"I don't feel good.\", 'Sharapova lost the first set 6-1', \"I'm going to be so bored all period.\", \"Laura's last full day with me.\", 'I ate onions and they made me cry.', 'My friend was clingy.', 'Been to a place that sucks like hell.', 'Broke my windshield.', 'Dad yelled at me.', \"Can't access music from the internet.\", 'My cousin got arrested for shoplifting and drugs.', 'woke up from a bad dream.', 'Having a terrible day', 'I felt left out', 'Someone else got the puppy I wanted.', \"Today's show is a repeat\", \"I'm still sick\", 'I had to change my hairstyle at work.', 'No more school soon, I am sad.', 'Pooping in a Pennsylvania rest stop', 'tried to contact service but got stuck in an endless loop', \"Twitter won't let me update online.\", \"I didn't have Geometry.\", 'She was elusive', 'Having a tough day ahead.', 'Sitting inside on a sunny day', \"It's too hot to sleep.\", 'My cucumber went bad.', 'Fights.', 'I had charley horses in both legs all night.', 'Getting a ton of spam mail into my inbox.', \"I'm not going to Badu tonight.\"]\n"
     ]
    },
    {
     "name": "stderr",
     "output_type": "stream",
     "text": [
      "100%|██████████| 41/41 [01:38<00:00,  2.40s/it]\n",
      "Processing:  56%|█████▌    | 87/156 [4:25:52<1:55:36, 100.53s/it]"
     ]
    },
    {
     "name": "stdout",
     "output_type": "stream",
     "text": [
      "/home/qiang/projects/Digital_mental_health/Dataset/Condidate_sentiment_dataset/1_event_filtered_all/output_chunk_120_event_filter.json\n",
      "['I learned not to trust anyone.', 'Missed the Hello Kitty.', \"I hate at least 3 people that I'm following.\", 'My life has come down to nothing.', \"Can't sample beer at Sam Adams Brewery when I get there.\", 'Feeling really tired on Sunday morning', 'It rained instead of sunshine.', 'Having a problem', 'Being bored at the library.', 'I have a headache.', 'Experienced something unpleasant or disgusting.', 'Everything is my fault.', 'Having a job with too much stress for too little pay.', \"I'm about to shoot myself because math class is so boring.\", 'I did badly on my test.', 'My life sucks this year.', \"Feeling lost about my life's direction\", 'Forgot my sweatshirt and makeup when visiting my mom.', 'I have to pay the mortgage!', 'I got lice in my hair.', \"Tried to use Spinelli to turn him on to GH, but it didn't really work.\", \"You're told you're ugly.\", 'Received bad news', 'The recipient of two dozen roses was out of town when they were delivered.', \"didn't sleep last night\", 'I got a negative notice from my credit card company.', \"I totaled my sister's car.\", 'Summer holidays are dragging on.', \"Can't stop thinking about someone.\", 'I have to go to bed early and miss my American evening friends.', 'watching a sad TV show (The Biggest Loser)', 'I had a bad gourmet pizza experience.', 'My mum took away my guitar.', 'I missed the concert', 'My health sucks.', 'System administrators closed the access to Plurk at work.', \"I've had four bank accounts, and they've all gone negative.\", 'Science class is boring', 'I miss someone (Sebastian)', 'I was very disappointed in someone.', 'The gig posters in the Little Civic were taken down.', \"My coach didn't realize that times are hard.\"]\n"
     ]
    },
    {
     "name": "stderr",
     "output_type": "stream",
     "text": [
      "100%|██████████| 42/42 [01:43<00:00,  2.45s/it]\n",
      "Processing:  56%|█████▋    | 88/156 [4:27:35<1:54:46, 101.28s/it]"
     ]
    },
    {
     "name": "stdout",
     "output_type": "stream",
     "text": [
      "/home/qiang/projects/Digital_mental_health/Dataset/Condidate_sentiment_dataset/1_event_filtered_all/output_chunk_52_event_filter.json\n",
      "['Cried on Friday night', 'I snubbed someone due to my ineptness/shyness.', 'Getting a burrito without chips feels wrong.', 'I encountered a 404 error page.', \"I'm lost and unsure about my actions.\", \"I'm not sleeping\", 'Car accidents', \"My monitor won't turn on.\", 'My aim is not working due to network problems', 'Feeling unhappy/sad', 'Doing homework.', 'Needs to wash her cats.', \"Forgot non-alcoholic cider for Monday's dinner.\", \"I'm worst than you\", \"I'm losing hope\", \"My brain feels like it's falling apart.\", 'Having a sore throat.', 'Having allergies', \"Had to do tasks I didn't want to do at work.\", \"I'm sooo bored!\", 'I wore a sundress on a cold day.', 'My grandparents are visiting unexpectedly.', 'Youtube fails or hates me.', 'I am horrible at appraising peer work.', 'There was nothing magical about it', 'Feeling sad', 'My baby has allergies.', 'Seniors leaving', \"Twitter doesn't support messages from my phone\", 'I lost followers to spammers', 'His show sucked last night', \"This week didn't stay good\", 'Had a bad experience at the DMV.', 'Had a bad experience in the employee parking lot.', 'Being allergic to fur.', 'My friend left her job to work somewhere else.', 'felt patronised', 'The food I had at Tara Thai was bad.', 'Could not attend the extra show', 'I felt treated unfairly.']\n"
     ]
    },
    {
     "name": "stderr",
     "output_type": "stream",
     "text": [
      "100%|██████████| 40/40 [01:29<00:00,  2.24s/it]\n",
      "Processing:  57%|█████▋    | 89/156 [4:29:04<1:49:07, 97.72s/it] "
     ]
    },
    {
     "name": "stdout",
     "output_type": "stream",
     "text": [
      "/home/qiang/projects/Digital_mental_health/Dataset/Condidate_sentiment_dataset/1_event_filtered_all/output_chunk_24_event_filter.json\n",
      "['Being broke when Guitar Hero Metallica comes out.', 'feeling extremely tired', 'I was hurting for a week after a similar experience.', 'Had an evil headache and had to pack and drive to parents.', 'I got a headache', 'Headache & eyes hurt', 'Having trouble updating', 'Sound input for my computer stopped working.', 'My face and arms were injured.', 'The last episode of a favorite TV show ended.', 'I got poop on my shirt and a cracked screen on my iPhone.', 'I miss my puppies', 'This is a horrible day.', \"Can't see videos until tomorrow night.\", 'I ate a chili cheese dog without someone else.', 'Today sucks.', 'Geometry class is boring.', 'Spent a Friday night alone.', 'She found her crushed Blackberry in the middle of the street.', 'I ended up with my foot in a cast.', \"Feeling unhappy with oneself and one's life.\", 'Having a VP shunt and possible death.', 'I forgot something important.', \"I couldn't breathe.\", 'I feel really bad', \"Can't upload a profile picture because it's too big.\", \"I'm stuck with BOO!!!!\", 'I had to look up endometriosis.', 'Someone gives up on me.', 'Our trip to UK was cancelled due to swine flu.', 'I gave birth to a screaming child.', \"Wentworth's page got ruined.\", 'I smelled a bad fart.', 'Not feeling well.', 'Having to do house chores.', 'I had a bad weekend.', 'I had to price garage sale items alone.', \"I won't see my friend all summer.\", \"Stephen's Twitter got smushed.\"]\n"
     ]
    },
    {
     "name": "stderr",
     "output_type": "stream",
     "text": [
      "100%|██████████| 39/39 [01:41<00:00,  2.59s/it]\n",
      "Processing:  58%|█████▊    | 90/156 [4:30:45<1:48:36, 98.74s/it]"
     ]
    },
    {
     "name": "stdout",
     "output_type": "stream",
     "text": [
      "/home/qiang/projects/Digital_mental_health/Dataset/Condidate_sentiment_dataset/1_event_filtered_all/output_chunk_70_event_filter.json\n",
      "['having train problems', 'I missed my last bus.', 'The air freshener has a horrible scent.', \"Couldn't get through on phone calls.\", \"We're in the worst recession since the 1930s.\", 'I feel sooo ill', 'hates the net and Twitter.', 'Stuck at work all weekend.', 'Having an itchy skin condition.', 'I worry about bothering people with the mixer when baking late.', 'My family member yelled at me.', \"It's really hard to promote my business.\", 'I was robbed', 'I miss my Satan', 'Became disabled', 'My tummy is not happy', 'My mom took away my privileges.', 'Feeling unhappy/sadness', \"I'm ill.\", 'Feeling guilty about picking winners.', \"My throat hurts so bad I couldn't swallow or talk.\", 'staying home on a Saturday night; Yao is out for the rest of the season; got my phone fixed', 'My arm hurts like hell.', \"it's raining\", 'feeling bored', 'Your mom passed away.', \"I felt unloved because my friends didn't call or email me.\", 'Being at work while sick.', 'I have no ducks for DuckRaces in the bath.', 'Being clumsy.', \"My sister didn't come to visit me.\", 'My legs are still hurting a little!', 'I got sick.', \"All I had was chocolate (implying that it's not enough or unfair)\", 'It rains.', 'The contest is not available in my state.', 'Everybody got sick', 'Hurricane season coming', 'Boys threw rocks at me.', 'Lucy has an upset tummy and sore leg', 'I missed Mitch Benn at Lemon Tree.', 'I messed up a job interview.', 'She forgot.']\n"
     ]
    },
    {
     "name": "stderr",
     "output_type": "stream",
     "text": [
      "100%|██████████| 43/43 [01:42<00:00,  2.39s/it]\n",
      "Processing:  58%|█████▊    | 91/156 [4:32:28<1:48:16, 99.95s/it]"
     ]
    },
    {
     "name": "stdout",
     "output_type": "stream",
     "text": [
      "/home/qiang/projects/Digital_mental_health/Dataset/Condidate_sentiment_dataset/1_event_filtered_all/output_chunk_32_event_filter.json\n",
      "['My medication refill was delayed.', 'Lost wireless connection.', \"My sister said I'm a bad sibling.\", \"I argued with Byron because he said I'm fat\", 'My entire body hurts.', 'I lost my Field Notes notebook.', 'Mum made me eat.', \"No Mother's Day celebration for mothers.\", 'There are no Chick-fil-A locations near me.', \"Our wishes weren't met.\", \"Stay with someone who doesn't want to be with me or move back home after 4 years of being away.\", 'I was sick.', 'Never being invited', 'Having a sober weekend ahead', \"I'm sick and tired of the BS that guys dish out.\", 'Cold weather made my teeth hurt.', 'Watching a disturbing documentary about the US healthcare system.', 'Something bad happened.', 'I am an epic fail.', 'I broke down and had pizza because I was stressed out', 'Sharapova is taking a beating from an unseeded qualifier.', 'I got offended.', 'Manchester United lost the UCL final.', \"I'm grounded.\", 'I saw a sad scene involving a little girl.', 'Missing my pet.', 'School was boring.', 'My puppy gets cabin fever.', 'Feeling bored', 'My heart was broken', 'Watching things that make me sad and want to cry', \"It's too hot in my hotel room because there's no air-conditioning.\", 'Had a crappy day', 'I missed spending time with someone important to me.', 'I lost an important message or contact.', \"It's not working.\", 'The little girl who played Ducky in the Land Before Time movie was murdered at the age of 10.', 'Got spammed on a post.', 'Missing Spain', 'My head hurts.', 'Not being able to hang out with a friend.']\n"
     ]
    },
    {
     "name": "stderr",
     "output_type": "stream",
     "text": [
      "100%|██████████| 41/41 [01:36<00:00,  2.36s/it]\n",
      "Processing:  59%|█████▉    | 92/156 [4:34:05<1:45:34, 98.98s/it]"
     ]
    },
    {
     "name": "stdout",
     "output_type": "stream",
     "text": [
      "/home/qiang/projects/Digital_mental_health/Dataset/Condidate_sentiment_dataset/1_event_filtered_all/output_chunk_66_event_filter.json\n",
      "['My friends neglect me because of their boyfriends.', 'Having exams.', 'Had to avoid driving home.', \"It's freezing.\", 'Stuck at work until 11.', 'The challenge proved to be too tough.', 'People make ugly faces.', \"I don't have a house.\", 'I am extremely bored', 'No multiplayer available tonight.', 'I messed up again.', 'I feel poor and pissed off.', 'I have a headache', 'I was bored in textiles class.', 'I almost died!', 'I was exhausted after playing cageball.', \"She didn't get to see Rica before she leaves.\", \"I'm really bored.\", 'I had to drive a small car on bumpy country roads.', 'I got four shots of novacaine in my mouth.', 'It takes the piss out of Arabs.', \"I've been stalking H.R.\", 'It hurts too much when I try to move or get up.', 'I banged my foot.', 'I had a headrush.', \"It's going to be an angry day.\", 'My phone stopped working.', 'I had unladylike gas.', 'She bit holes in my bread!!!', 'I experienced a failure.', 'Not feeling well', 'I received the wrong colored album.', 'Got into an argument with Lainey, the love of my life.', \"My new telecom phone doesn't work.\", \"They won't renew TSCC\", 'Found the first scratch on my car.', 'Killed by friendly fire.', \"I felt like I lost a limb because my guitar wasn't there.\", 'I was forced to cut my ponytail.', 'I had to delete my MySpace page.', 'Last day of work at the Uni.', 'Jessie was in the hospital.', \"I'm going away for 3 weeks.\", \"I wore mum's shoes and got blisters.\"]\n"
     ]
    },
    {
     "name": "stderr",
     "output_type": "stream",
     "text": [
      "100%|██████████| 44/44 [01:50<00:00,  2.50s/it]\n",
      "Processing:  60%|█████▉    | 93/156 [4:35:55<1:47:25, 102.31s/it]"
     ]
    },
    {
     "name": "stdout",
     "output_type": "stream",
     "text": [
      "/home/qiang/projects/Digital_mental_health/Dataset/Condidate_sentiment_dataset/1_event_filtered_all/output_chunk_152_event_filter.json\n",
      "[\"There's no one I actually know on this platform.\", 'Feeling annoyed and overwhelmed', \"It's getting chilly here\", 'My playmate was missing in action all weekend.', 'Your uncle passed away', 'Got slammed with spam followers.', 'Debating whether to spend money on PJ Harvey tickets.', \"I didn't ask for something back because I was too afraid.\", 'The straightener costs 110 pounds which seems pricey.', 'watching scary movies', 'I got extremely frustrated or angry.', 'Saying goodbye is hard.', 'My mail server rejected my email as a potential spam/virus threat.', 'doing boring accounts stuff', 'There was a lot of noise from people outside.', 'Twitter will not upload my icon picture.', 'My tummy hurts', \"I don't want to go to work.\", 'My laptop died.', 'I have to do my drama essay.', 'I feel bad.', 'My eyes are weak and got sore from overreading.', 'Husband lost government job due to downsizing.', 'I got sunburnt', 'My whole body burns.', \"I got hurt by AB's wardrobe handle.\", 'Being careless', \"I had a huge headache at work and didn't have aspirin.\", \"I couldn't go to NY\", \"I couldn't resist temptation (e.g., eating too much chocolate).\", 'Did not meet expectations', \"I'm bored\", 'I failed to meet the registration deadline for the Annapolis half marathon.', 'Realizing I mistakenly accused someone of not being at a meeting.', \"My tweets aren't posting\", 'Facebook.com is not letting me change my profile picture', 'The way relationships are handled sucks.', 'Feeling extremely bored', 'My work email is down.']\n"
     ]
    },
    {
     "name": "stderr",
     "output_type": "stream",
     "text": [
      "100%|██████████| 39/39 [01:37<00:00,  2.50s/it]\n",
      "Processing:  60%|██████    | 94/156 [4:37:33<1:44:15, 100.90s/it]"
     ]
    },
    {
     "name": "stdout",
     "output_type": "stream",
     "text": [
      "/home/qiang/projects/Digital_mental_health/Dataset/Condidate_sentiment_dataset/1_event_filtered_all/output_chunk_93_event_filter.json\n",
      "['I forgot everything I could.', \"Can't find something I'm looking for in Coal Harbour.\", 'Piggy died', 'Had worst butterflies ever outside', \"She grabbed it and it wasn't what it seemed.\", 'It rained.', 'Having one of the worst days of my life.', 'I got sunburnt again', \"I couldn't attend the concert of my favorite artist.\", \"I'm stressed out.\", 'Said goodbye to best friend.', 'My sinuses are really bugging me', 'Feeling sad', 'I reached my highest weight ever.', \"I couldn't have any Valentinos.\", 'My yearbook photo did not turn out great.', 'I lost my Hello Kitty necklace.', 'Responding slowly to issues on Twitter.', 'He went scoreless tonight', 'I saw a creepy movie.', \"Doctor's scared me.\", \"I've been very sick lately.\", 'This is not a happy situation', 'Missing social events with friends due to work schedule.', 'I may die without my phone.', 'Dropped food on the floor.', 'The TV is broken.', 'Something bad happened', \"I'm exhausted\", 'Had a headache', 'My best friend left school.', 'My mommy left for Indy today', 'Letting her go and seeing her cry.', 'sees the finish line disappearing in a plethora of emails', 'The weather is windy, which exacerbates my allergies.', 'PWG botched my hybrid dolphin shirt order and sent me an XL.', 'I missed someone.', \"hearing Nick's voice makes me want to kill things\", 'Missed a fire call today', 'Being forced to use my left hand', \"He's gonna chop me up into tiny bits\", 'My camera was taken by the Geek Squad for repair.', 'Feeling sick and wanting to throw up.', 'Having trouble finding animals in French.', 'Friday tubes at work are slow.', 'My back hurts', 'We wasted too much paper at the office.']\n"
     ]
    },
    {
     "name": "stderr",
     "output_type": "stream",
     "text": [
      "100%|██████████| 47/47 [01:47<00:00,  2.28s/it]\n",
      "Processing:  61%|██████    | 95/156 [4:39:20<1:44:29, 102.78s/it]"
     ]
    },
    {
     "name": "stdout",
     "output_type": "stream",
     "text": [
      "/home/qiang/projects/Digital_mental_health/Dataset/Condidate_sentiment_dataset/1_event_filtered_all/output_chunk_41_event_filter.json\n",
      "['I lost someone I was looking for.', \"I'm overworked.\", \"I didn't laugh till my stomach hurt. (Rewritten to convey a negative event)\", 'I found out the house I wanted is sold, my bank messed with me, and then I had a car accident.', \"I had to spend 2 hours doing driver's education.\", 'Feeling hurt.', \"My chick won't stop chirping.\", 'I want to cry', 'Our restaurant closed.', 'My bum hurts.', 'Flight to Hurghada was delayed for 7 hours.', \"It's too hot.\", \"I don't feel good\", 'I realized how bad things were.', 'No one wants to watch a movie with me.', 'I will miss you', \"I'm so tired.\", 'I had to get a tooth crown.', 'I found out false information.', 'No one is listening to me.', 'Having a day where everything goes wrong.', 'Being made to look dumb', 'My laptop stopped working.', 'I have no one to go out with.', 'Told your mom something bad.', 'I had major liver surgery.', 'Having too much work to do in a limited time.', \"I forgot to turn off the alarm in the kids' room.\", 'Boyfriend forgot his phone charger on a 4-day trip.', 'getting bored of walking up and down the stairs', 'My mom is leaving for Texas for a month.', \"I'm running out of things to say.\", 'Throat still hurts from the asthma.', 'I had to mop the floor.', \"I can't put photos on my Twitter page.\", \"Can't get over something.\", 'A sad goodbye to Miss Lynne Ashminov', 'Tummy hurts', 'I miss out on a lot (due to working so much)', 'Chemistry is not fun', 'Having class on Saturday.']\n"
     ]
    },
    {
     "name": "stderr",
     "output_type": "stream",
     "text": [
      "100%|██████████| 41/41 [01:38<00:00,  2.41s/it]\n",
      "Processing:  62%|██████▏   | 96/156 [4:40:59<1:41:34, 101.57s/it]"
     ]
    },
    {
     "name": "stdout",
     "output_type": "stream",
     "text": [
      "/home/qiang/projects/Digital_mental_health/Dataset/Condidate_sentiment_dataset/1_event_filtered_all/output_chunk_25_event_filter.json\n",
      "['I am not doing well.', \"I couldn't fall asleep.\", 'My car is broken.', 'I have a teratoma with a cavity and am experiencing male-pattern baldness.', 'Lucy is hating on me.', 'I had to stop buying golden graham bars from the vending machine.', \"My husband's grandma fell down the stairs and broke several bones.\", 'Found arrogant people at a bar in Oregon.', 'Having a bad day', 'I had to fight my way through 7 coaches to reach my seat.', 'Come back to office on a day off.', 'The JVM language is affected.', 'Getting behind on bills.', 'I cried at my last M&G.', \"Disappointed with Britain's Got Talent performance.\", 'I am very disappointed', 'I saw a horrible car crash on TV.', \"I had bad sushi at Trader Joe's.\", 'I am sad', 'Had no plans or invitations despite being prepared.', 'Having to watch 5 children while needing to study.', \"I'm bored to death in my room.\", \"I'm working on a hot weekend.\", \"I didn't receive an alternate email.\", 'My earphones shocked me', \"I'm very out of shape.\", 'I missed someone.', 'Had a rough night', \"Work wouldn't answer my calls.\", 'Someone edited my designs without permission.', 'Almost getting into a physical fight with someone.', 'My brain went blank', 'Got in trouble at a Dominican spot.', 'I lost my wallet with no ID.', 'Damm servers are still down.', 'Insects are around me.']\n"
     ]
    },
    {
     "name": "stderr",
     "output_type": "stream",
     "text": [
      "100%|██████████| 36/36 [01:26<00:00,  2.40s/it]\n",
      "Processing:  62%|██████▏   | 97/156 [4:42:25<1:35:24, 97.02s/it] "
     ]
    },
    {
     "name": "stdout",
     "output_type": "stream",
     "text": [
      "/home/qiang/projects/Digital_mental_health/Dataset/Condidate_sentiment_dataset/1_event_filtered_all/output_chunk_103_event_filter.json\n",
      "['Missed the WBC counterprotests.', 'We got a frost warning for tonight.', 'I lost 4 grand in a trade.', 'I missed someone.', 'The mosquito truck woke me up', 'I have to help out all day at the piano recital.', \"I'm too distracted while trying to learn.\", 'Being ignored by someone I talk to.', \"Twitter fails are happening now and it's annoying\", 'Poor baby girl had to get shots.', \"I won't be able to eat a hot dog and Big Kahuna cookie sandwich at the Ranger game tonight.\", 'Having too many options at a restaurant makes lunch decisions difficult.', 'I was banned', 'My credit card has been declined.', 'The floor became wet and dirty.', 'I had to break up with my boyfriend.', \"I couldn't see Robert before practice.\", 'They killed my favorite character off!', 'going back to college', 'I got a bad haircut.', \"I don't like you.\", 'Saw underage girls drinking on the bus.', 'Being still sick at home', 'Encountered a mean person.', 'I ache all over', 'Something is wrong with Debbie.', \"I didn't get to see the show I wanted.\", 'I lost control of my legs and was in too much pain.', \"I don't have the internet at home.\", 'Fuccin bacc hurts now.', 'Something bad happened', \"My car won't stop honking at me.\", 'Saw an upsetting update from my favorite influencers.', 'Feeling depressed', \"Didn't go camping\", 'I miss my home', 'My hot pink Polaroid i733 broke.', \"That's horrible!\"]\n"
     ]
    },
    {
     "name": "stderr",
     "output_type": "stream",
     "text": [
      "100%|██████████| 38/38 [01:28<00:00,  2.33s/it]\n",
      "Processing:  63%|██████▎   | 98/156 [4:43:53<1:31:19, 94.47s/it]"
     ]
    },
    {
     "name": "stdout",
     "output_type": "stream",
     "text": [
      "/home/qiang/projects/Digital_mental_health/Dataset/Condidate_sentiment_dataset/1_event_filtered_all/output_chunk_138_event_filter.json\n",
      "[\"It didn't listen to me.\", \"I'm in desperate need of an adjustment.\", 'We have no bandwidth in those rooms', 'Hearing his name too much.', 'EA knows my copy of The Sims 3 is not legit.', 'Had to sit in library for a long time.', \"The sale of my grandma's house just went through.\", 'Left alone at home on weekends.', \"We don't finish until July 3rd.\", 'I hurt my back/hip.', 'My arms hurt', 'I have too much homework to do today', 'My best friend was pissed at me.', 'Feeling sad during the weekend/summer.', 'I broke out again.', 'The team I bought roasted me.', 'I miss you', 'Got sick', 'I felt dumb', 'Not having a good day.', \"I'm not in London\", 'feels very rough', 'My oyster is broken.', 'We were the final stage guinea pigs', 'I forgot to get a phone number for someone.', 'Feeling disappointed', 'I feel sick.', \"Can't find anything to eat after returning from the grocery store.\", 'I am totally exhausted.', 'Washing machine broke down.', 'Still stuck in the office working', \"It's inconvenient.\", 'Caught a disease/illness from my brother.', 'someone wants to arrest her', \"I'm so tired.\", \"I'm behind in my work.\", 'I have bronchitis and a sinus infection', 'My Burger King only had limited toy options left.', 'Things will get worse before they get better.', 'Feeling sad']\n"
     ]
    },
    {
     "name": "stderr",
     "output_type": "stream",
     "text": [
      "100%|██████████| 40/40 [01:30<00:00,  2.26s/it]\n",
      "Processing:  63%|██████▎   | 99/156 [4:45:24<1:28:32, 93.20s/it]"
     ]
    },
    {
     "name": "stdout",
     "output_type": "stream",
     "text": [
      "/home/qiang/projects/Digital_mental_health/Dataset/Condidate_sentiment_dataset/1_event_filtered_all/output_chunk_135_event_filter.json\n",
      "['Getting fat', 'My haircut looks bad.', 'I have one more month of school left.', 'I have to work on Fridays.', 'My new car is giving me problems', 'I have no friends', \"They booked us in on the wrong day and wouldn't feed us.\", 'I lost the game.', 'I woke up feeling full.', 'A family history book got stuck to my dresser.', 'Spent 30 minutes waiting for a Snickers ice cream.', 'Someone confronted me aggressively.', \"My aunt's dog died.\", 'Trevor drives.', 'Computer remains dead', 'I feel homesick.', 'My work buddy left early today.', 'My train is late.', 'Having an awful day', 'I feel bad for someone', 'I get mad at them.', 'My school will start on Monday with early classes from 6:00 to 12:00.', 'I have to return my meds and pay bills.', 'There is no food for me.', 'I was left alone to broadcast on BlogTV.', \"I'm bored at work\", \"It's going to rain.\", 'I miss being around queer people.', 'Wearing glasses gives me a headache.', 'I lost two hard drives', 'I complained too much.', \"Why don't any of my friends ever miss me\", 'I had a terrible feeling due to a runny nose and breathing difficulty.', 'A shopping bag left a red mark on my arm', 'Someone keyed my car.', \"I'm bored\", 'Facebook said my dad is my secret admirer.', 'I fell in love too hard.', 'No one returned my text.', 'My sourish limbs are preventing me from going out on a Friday.', 'Did not want to be at work today', 'All my land boots died at once.', 'Having to pack.']\n"
     ]
    },
    {
     "name": "stderr",
     "output_type": "stream",
     "text": [
      "100%|██████████| 43/43 [01:46<00:00,  2.48s/it]\n",
      "Processing:  64%|██████▍   | 100/156 [4:47:11<1:30:48, 97.29s/it]"
     ]
    },
    {
     "name": "stdout",
     "output_type": "stream",
     "text": [
      "/home/qiang/projects/Digital_mental_health/Dataset/Condidate_sentiment_dataset/1_event_filtered_all/output_chunk_56_event_filter.json\n",
      "[\"I'm going to fail.\", 'Stuck at home without transportation to the global god conference.', 'I got a sunburn that hurts.', 'Did not get dream job or realized dream job was crappy.', 'Needing to take antibiotics.', 'Missed the cutoff for the free chocolate.', 'The engine locked up', \"There's oceans in between us\", 'Received spam on Twitter.', 'You said something that turned me off.', 'I lost one of my best friends', \"I couldn't get over my ex.\", 'Leaving Utah today', 'I gained weight from working here.', 'FusedGaming Forums have been delayed.', \"It's too hot outside.\", 'Said goodbye to the younger brother.', \"Having my hair dyed today (implying it didn't turn out well)\", 'They are trying to kill me.', 'Something bad happened', 'I am in extreme physical pain.', 'I fell asleep before recording and missed it.', 'We were separated from someone we care about.', 'My puffy is leaving.', 'I miss Cary.', 'Paranoid dropped out of the countdown.', 'My head hurts', 'My math teacher chose the wrong job.', 'Got an ear infection.', 'I miss you!', \"The PPT didn't save my changes when I explicitly saved.\", 'Struggling with writing an English essay.', 'Left my phone at home.', 'My iPhone got bricked', 'Mother is hogging the TV', \"I'm sad.\", 'I missed my favorite judge.', 'Got bullied by Dillah.', 'My eyes are crossing from looking at spreadsheets for too long.', 'Our birthday date is not going to happen.']\n"
     ]
    },
    {
     "name": "stderr",
     "output_type": "stream",
     "text": [
      "100%|██████████| 40/40 [01:30<00:00,  2.25s/it]\n",
      "Processing:  65%|██████▍   | 101/156 [4:48:41<1:27:11, 95.12s/it]"
     ]
    },
    {
     "name": "stdout",
     "output_type": "stream",
     "text": [
      "/home/qiang/projects/Digital_mental_health/Dataset/Condidate_sentiment_dataset/1_event_filtered_all/output_chunk_12_event_filter.json\n",
      "['I had a stomach ache.', \"My computer won't let me vote.\", 'I had to go to work.', 'Everything is annoying me today', 'The end may be near for them', 'I am still sick.', 'My life is unhappy/bad.', 'I lost a social connection with friends.', 'Ate a bad dinner (bag of pork scratchings)', 'Father lost his job.', 'I got my grey suit spattered with water.', 'having a sad day', \"Didn't want to get out of bed due to bad weather.\", \"His wife didn't give him the debit card before he went out for lunch.\", 'Being put up in front of 14m people at a young age', \"The guy I like was talking to the girl I can't stand.\", 'Had malware on my work PC.', 'Failed to drag a 150 lb dummy.', 'I slammed my finger in the trunk', 'Had a bad experience at Morrisons', 'That was bad.', 'I got stuck in traffic.', 'I got heartburn', 'Pandora was blocked at my work.', 'Did not have a Panasonic charger.', \"Everyone's dying.\", \"I miss Ian when he's gone.\", 'annoyed that everyone seems to tan apart from me', \"My books didn't arrive after 3 weeks.\", 'Getting divorced', 'I have a terrible boss.', 'Dealing with a screaming baby', 'The office email address was blacklisted by IT.', 'Feeling depressed', \"It's freezing.\", 'My throat is scratchy', 'Feeling frustrated and unhappy']\n"
     ]
    },
    {
     "name": "stderr",
     "output_type": "stream",
     "text": [
      "100%|██████████| 37/37 [01:25<00:00,  2.30s/it]\n",
      "Processing:  65%|██████▌   | 102/156 [4:50:06<1:22:52, 92.09s/it]"
     ]
    },
    {
     "name": "stdout",
     "output_type": "stream",
     "text": [
      "/home/qiang/projects/Digital_mental_health/Dataset/Condidate_sentiment_dataset/1_event_filtered_all/output_chunk_7_event_filter.json\n",
      "['Scared TX off', 'Having a abusive husband.', \"I'm stuck.\", 'My throat hurts.', 'My friend takes hours to decide on buying something.', 'I got bitten by an insect.', 'I wasted 6-7 hours playing Dota.', 'I got hit in the back of the head by a Frisbee thrown by my friend.', \"I'm sad\", \"I want to smoke but can't.\", 'I had heartburn.', \"I'm afraid to fly\", 'Washing the dishes is hard.', \"I've become poor again\", \"No internet at grandma's place.\", 'I am losing friends online.', 'Feeling tired', 'An 80-year-old man cried because he wanted to die.', \"I'm all alone on my birthday.\", 'This makes me sad!', 'Today kinda sucks.', 'That is super sad', 'ERON Effy broke my heart.', 'I saw a terrible Mexican cartoon.', 'They are expensive.', 'She did not get to see Basshunter at Metroplex this weekend.', 'I received spam messages.', \"I didn't go out tonight.\", 'Roy Williams dissects frogs while still alive.', 'I felt frustrated', 'I am afraid to hear what is wrong with 09', \"Justin couldn't spend the night.\", \"Experienced racial discrimination (implied by comparison to Schindler's List)\", 'I cannot see Conan.', \"I'm ill\", 'They have a nasty display picture', 'Dad got sick with a high fever and needed a blood transfusion.', 'Felt extremely unwell with symptoms such as feeling like jello, being unable to talk, and being delirious.', 'Threw away my favorite teddy bear.']\n"
     ]
    },
    {
     "name": "stderr",
     "output_type": "stream",
     "text": [
      "100%|██████████| 39/39 [01:41<00:00,  2.60s/it]\n",
      "Processing:  66%|██████▌   | 103/156 [4:51:47<1:23:50, 94.91s/it]"
     ]
    },
    {
     "name": "stdout",
     "output_type": "stream",
     "text": [
      "/home/qiang/projects/Digital_mental_health/Dataset/Condidate_sentiment_dataset/1_event_filtered_all/output_chunk_107_event_filter.json\n",
      "['I got a sunburnt chest and had terrible skin.', 'Children were involved in Zahedan.', 'I got strep.', \"I don't have enough money to be with him.\", \"Pics aren't working for me on Twitter.\", \"My friend didn't respond back.\", 'I have to study for all of my subjects.', \"I wasn't able to play with my friends.\", 'I have high cholesterol', 'I was ill.', 'Had an unfortunate surprise', \"I'm feeling very sick.\", 'I had to spend a lot of money on car tires.', 'I skipped over something important in my comps.', 'I got a burn at work.', 'The album is disappointing.', 'I have a herniated disc.', \"Couldn't find a seat near an outlet at the airport.\", \"He doesn't reply to me\", 'I gave up on bio', 'no classes for two days but have to work every day until next Wednesday.', 'School sucked today', 'I missed one', 'My hiatus was really long.', 'I had a toothache from hell this week', \"Traveling to Michigan won't be fun.\", 'Got 1 after school detention and may get 2 more.', 'I feel so bad', 'Never having a relaxing weekend.', 'having a constant weight problem.', 'Ended up with a consolation prize instead of achieving goal (implied failure to make bacon)', \"I'm depressed because I can't see you\", 'My sweetie had a bad day.', 'Frustrating myself with my own work.', \"I didn't get a call back from Kris.\", 'I broke up with my girlfriend.', 'My dog died.', \"Can't afford to go to school here.\", \"I can't tell which tweet is selected anymore\", 'Got sick at home.', 'The weather is gloomy.']\n"
     ]
    },
    {
     "name": "stderr",
     "output_type": "stream",
     "text": [
      "100%|██████████| 41/41 [01:36<00:00,  2.36s/it]\n",
      "Processing:  67%|██████▋   | 104/156 [4:53:24<1:22:44, 95.48s/it]"
     ]
    },
    {
     "name": "stdout",
     "output_type": "stream",
     "text": [
      "/home/qiang/projects/Digital_mental_health/Dataset/Condidate_sentiment_dataset/1_event_filtered_all/output_chunk_153_event_filter.json\n",
      "['Having a sucky day.', 'Almost got into a giant car accident.', 'I got charged extra by an airline.', 'Getting AxKit running on Ubuntu 8.04 is frustrating me.', 'Having to wait to go home', 'I cannot sleep.', 'I have to work on Sunday.', \"It's gloomy outside\", \"Didn't use buttermilk for a recipe.\", 'I live in Delaware.', 'My bracelet broke.', \"I'm in Tacoma with no KGW to start my day.\", 'You got the plague', 'I almost ran over a squirrel driving home from the store.', 'Someone crashed into me with their bike, damaging mine.', 'Still waiting.', 'The place was closed when I arrived.', \"I'm still waiting for a long time.\", 'Had a lonely weekend.', 'Having a sore throat', 'I have a fever', 'The air conditioner in the office has been broken for weeks.', \"A teacher's life in the summer sucks.\", 'I missed an interview.', 'Having to remodel the house with differing opinions.', 'I burned my tongue.', \"I'm so tired\", \"I'm disgusted with myself\", 'My dream just got crushed', 'Using TinyTwitter on a small non-touch screen is not much fun', 'Had to wear next to nothing in horrific weather.', 'My heart hurts.', 'I am terrible at saving money.', 'I missed Nicole Richie on TV.', 'Schools had to close.', 'The product was too expensive.', 'The goose is poor.', 'My feelings are hurt', \"My husband thinks I'm a creeper because of my Twittering.\", \"I'm still at work.\", \"I'm going home at the end of June.\", \"It's becoming difficult to please all of my friends at once.\"]\n"
     ]
    },
    {
     "name": "stderr",
     "output_type": "stream",
     "text": [
      "100%|██████████| 42/42 [01:33<00:00,  2.22s/it]\n",
      "Processing:  67%|██████▋   | 105/156 [4:54:57<1:20:35, 94.82s/it]"
     ]
    },
    {
     "name": "stdout",
     "output_type": "stream",
     "text": [
      "/home/qiang/projects/Digital_mental_health/Dataset/Condidate_sentiment_dataset/1_event_filtered_all/output_chunk_86_event_filter.json\n",
      "['Having too much work', 'One foot foul of the law', 'No more Celebrity Ding Dong for ages.', 'I have a head cold.', 'Prohibited myself from tweeting.', 'Got a post nasal drip and a sore throat.', 'Last day at DMA', 'Waited too long to get eyebrows waxed', 'I sold my car.', \"We were unable to send you a direct message because you didn't follow us back.\", 'We have a big family problem.', 'The bus driver ended up poorly.', \"Can't go out.\", 'received bad news', 'My cousin and her son are in trouble.', 'I got severely sunburned.', 'Head hurts', 'School is expensive.', 'Had to call out of work due to mental exhaustion.', 'My boss is hovering over me.', 'Head hurts badly', 'It is hard', 'My new espresso machine broke on arrival.', 'I lost my truck.', 'trying to watch Lost online was very annoying and slow.', \"I'd be left by my partner.\", 'Missing someone I care about', 'No more Wiffleball', 'Feeling lonely', 'Got in trouble for searching for alcohol at work', 'Things are too costly.', 'Feeling overwhelmed and panicked.', 'feeling really sick', 'My boyfriend forgets about me.', \"I couldn't vote despite being signed in.\", 'I hate squirrels', 'I broke out due to going off BC.', 'I am unhappy.']\n"
     ]
    },
    {
     "name": "stderr",
     "output_type": "stream",
     "text": [
      "100%|██████████| 38/38 [01:23<00:00,  2.19s/it]\n",
      "Processing:  68%|██████▊   | 106/156 [4:56:21<1:16:09, 91.39s/it]"
     ]
    },
    {
     "name": "stdout",
     "output_type": "stream",
     "text": [
      "/home/qiang/projects/Digital_mental_health/Dataset/Condidate_sentiment_dataset/1_event_filtered_all/output_chunk_84_event_filter.json\n",
      "['Lauren has to do all the packing alone.', 'Feeling helpless about a situation.', \"Claire didn't escape.\", 'Diagnosed with cancer.', 'He told me he would block me.', 'Working too much.', \"I'm not feeling well\", 'An ambulance accident happens.', 'I was put on steroids.', 'I have a song stuck in my head that I hate.', 'Received silent treatment', 'I feel depressed and miss my bestie.', 'Being a loner', 'Is in the bad books again', 'I missed getting $1 tickets.', 'was encouraged to engage in bad behavior', 'My tummy hurts!', 'Too many people were crying at the school picnic', \"I didn't get to see Manchester Orchestra because it was sold out.\", 'I hurt myself lifting a heavy object.', 'He did not get through.', 'She passed away.', 'The price of alcohol is too high.', 'Had to get up early to go shopping with mom.', 'Had to work in the morning due to a bird strike.', 'My car was broken into.', 'inFamous is not available on Xbox 360.', \"I made it into leadership, but couldn't enjoy it without my best friend.\", 'I feel unhappy', \"Didn't feel good for several days\", \"My MSN won't sign in.\", 'I had to give my dog away.', 'Got hacked on eBay.', 'She was not invited to an event.', 'My brain hurts', \"I smashed my pinky in Julia's car door.\", 'Having a fever', 'MBA is on fire', 'I have a very sore throat and can barely talk.']\n"
     ]
    },
    {
     "name": "stderr",
     "output_type": "stream",
     "text": [
      "100%|██████████| 39/39 [01:25<00:00,  2.19s/it]\n",
      "Processing:  69%|██████▊   | 107/156 [4:57:46<1:13:10, 89.61s/it]"
     ]
    },
    {
     "name": "stdout",
     "output_type": "stream",
     "text": [
      "/home/qiang/projects/Digital_mental_health/Dataset/Condidate_sentiment_dataset/1_event_filtered_all/output_chunk_17_event_filter.json\n",
      "['Feeling lonely', 'My power was cut off', 'I have nothing to do tonight.', 'Had to work over the weekend.', 'The girl and her mum experienced a bad situation.', 'A driver ran a stop sign and nearly hit my car.', \"Didn't have my camera with me.\", \"I'm bored.\", 'I missed my baby while going through security.', 'got hurt during Festivus mud wrestling', 'I miss my lover boy.', 'Watched a sad movie (My Girl)', 'My head aches badly.', 'I encountered connection errors on Youtube.', 'The WAVVES show was canceled.', 'Having difficulty moving on.', 'It goes wrong', 'Everyone left me.', 'She gave me a double take and left after I said hello.', 'I felt so bad!', 'Boyfriend broke his wrist and might need surgery', 'No one told me about the mutual admiration society meeting.', 'My stomach hurts from eating too much.', 'Feeling really sick', \"I didn't get a window seat.\", \"I won't be able to go to Brooklyn for a while.\", \"Her immune system hasn't recovered.\", 'Microsoft charges too much extra.', 'Received bad news', 'Feeling jealous', 'Having an imaginary boyfriend named Vince.', 'Stuck in work', 'Exams are stressful', 'Everyone but the one I want to text me is texting me.', 'Dell FX100 Pc-over-IP audio device is not working properly.', \"Wish I didn't have to work\", 'I missed my family and friends.', 'Getting sick', 'Flights were cancelled.', 'You are not on JTV.', 'saying goodbye', 'Gave a speech about loved ones in the hospital.', 'Warhammer 40k: Space Marines game not available on PC.', 'I fell over last night outside.', \"Mowgli didn't get a second chance.\"]\n"
     ]
    },
    {
     "name": "stderr",
     "output_type": "stream",
     "text": [
      "100%|██████████| 45/45 [01:42<00:00,  2.29s/it]\n",
      "Processing:  69%|██████▉   | 108/156 [4:59:29<1:14:52, 93.59s/it]"
     ]
    },
    {
     "name": "stdout",
     "output_type": "stream",
     "text": [
      "/home/qiang/projects/Digital_mental_health/Dataset/Condidate_sentiment_dataset/1_event_filtered_all/output_chunk_132_event_filter.json\n",
      "[\"I don't find things amusing anymore\", \"My insurance wouldn't pay for the therapy.\", 'Doing a marathon of a difficult leg exercise for hours until exhausted.', 'I am really sick and tired.', 'Got sick.', 'The weather was gloomy.', 'People were mean to a 10-year-old girl.', 'Nobody answers their phone.', \"I'm fat.\", 'Had to mop the floor.', 'I had a horrible speech and almost puked.', \"I didn't receive a beta key.\", \"I didn't get to go play laser tag with my friends.\", 'I feel sick', \"Don't want to go to work.\", 'I have a bad headache', \"It's not a fun day today.\", 'I had a closing night with only $30.', 'Feliza is bugging us again.', 'The computer was too loud and disrupted my work.', 'Having a fevered imagination', 'I lost my best friend.', \"Having a headache while waiting for someone's call.\", 'Not Your Average Joes in Lexington is closing.', 'My stupid sister wants to go on Facebook.', 'I got eliminated in state finals', 'Feeling bored at work', 'I did not feel good today', 'May have to ditch early.', 'Dealing with a toxic person.', 'I saw sad faces in a text message.', 'I failed.', 'I miss Laura', 'I was asked to sing in front of people.', 'Gas prices are crazy', \"IT DIDN'T WORK\", 'Philosophers stop thinking', \"My friend didn't respond to my text.\", 'X-Men sucks.', \"She doesn't show me love anymore.\", 'Her last day in San Diego', 'I saw horrifying real-life news', 'Saying goodbye to something familiar']\n"
     ]
    },
    {
     "name": "stderr",
     "output_type": "stream",
     "text": [
      "100%|██████████| 43/43 [01:40<00:00,  2.35s/it]\n",
      "Processing:  70%|██████▉   | 109/156 [5:01:10<1:15:02, 95.80s/it]"
     ]
    },
    {
     "name": "stdout",
     "output_type": "stream",
     "text": [
      "/home/qiang/projects/Digital_mental_health/Dataset/Condidate_sentiment_dataset/1_event_filtered_all/output_chunk_45_event_filter.json\n",
      "['I pinched myself by accident while fixing my top.', 'I sucked badly at school.', 'I came across something that reminded me of the person who broke my heart.', 'Something bad happened', 'Worried about friend', 'Found out that a schoolmate died of a heart attack.', 'My pet is unhappy about my leaving.', 'My parents went on a trip without me.', 'We were arguing.', 'I felt lonely tonight', 'Stayed up late and felt extremely tired with physical discomfort.', \"I don't like my dress\", \"I'm unhappy\", 'The ladies got retarded.', 'I fell asleep during an important time (the 10pm news).', 'I missed my friends.', \"I have an assignment due tomorrow that I haven't started.\", 'Missed an opportunity by a couple of hours.', 'The cold weather is killing me', \"I'm so mad right now because it can't end like that.\", \"My brother didn't give me his new phone number.\", 'I am separated from my children for a week.', \"I had to study French till 2 o'clock at night.\", \"I'm not uber successful.\", 'It was extremely hot today.', 'Ran out of beer.', 'got stuck in mad traffic', 'I feel awful.', 'Rachael hurts my feelings', 'Talking to someone was too boring.', 'I have to go with my mom and brother to see Up.', 'Being a thick chick', \"I couldn't attend a friend's event due to distance constraints.\", 'My back hurts.', 'Hurt my finger at work', 'Feeling pathetic about going to bed early.', \"My aunt Stina didn't come visit me.\", \"I'm stuck at the library for the last time.\", 'something bad happened', \"I'm ready to help. Please provide the paragraph, and I'll analyze it to determine the event that meets the requirements. If there's no event or if the event doesn't meet the requirements, I'll output accordingly.\\n\\nPlease go ahead and provide the paragraph!\", \"Can't find the budget for air con.\", \"My car's gearbox broke down.\", \"My picture isn't showing.\"]\n"
     ]
    },
    {
     "name": "stderr",
     "output_type": "stream",
     "text": [
      "100%|██████████| 43/43 [01:36<00:00,  2.24s/it]\n",
      "Processing:  71%|███████   | 110/156 [5:02:46<1:13:32, 95.93s/it]"
     ]
    },
    {
     "name": "stdout",
     "output_type": "stream",
     "text": [
      "/home/qiang/projects/Digital_mental_health/Dataset/Condidate_sentiment_dataset/1_event_filtered_all/output_chunk_65_event_filter.json\n",
      "['My ex-boyfriend of 2 years got engaged to his new girlfriend of 6 weeks.', 'The inventor of Ford Mustang cannot keep his car.', 'My hair just hates me.', \"My iPod won't connect to Wi-Fi.\", 'I have a toothache', 'My hard drive failed, losing the survey data.', 'Centre island in my kitchen collapses!', \"They didn't let me donate blood because I'm queer.\", 'My right ear was blocked.', 'Having difficulty becoming vegetarian', 'I hate studying U.S. history', 'My tube is deserted.', 'My picture will not load on Twitter.', 'The house painting is delayed due to bad weather.', \"I'm sad\", \"I'm not quite where I need to be in life, feeling sad.\", \"It's 28c in here.\", \"Aleesha's piggy died\", \"I didn't get a promotion\", 'My grandfather is not doing well.', \"The kids won't sleep.\", 'Not having time to tweet.', 'I heard a sad song.', 'Chris made fun of Lizzie.', 'something bad happened', \"Couldn't fall asleep due to melatonin not working.\", \"My LDBF didn't give me a Follow Friday shoutout.\", 'I missed getting tacos', \"Someone I like doesn't feel well.\", 'Having difficulty selling on Etsy.', 'Being attacked with cola', 'I lost a diamond earring.', 'Found 2 baby squirrels abandoned on the sidewalk.', \"It's raining again\", 'My Pink Tree was cut down.', 'Craved something unavailable (Munchkins).', \"I don't want to leave.\", 'People on Facebook disagreed with me.']\n"
     ]
    },
    {
     "name": "stderr",
     "output_type": "stream",
     "text": [
      "100%|██████████| 38/38 [01:27<00:00,  2.31s/it]\n",
      "Processing:  71%|███████   | 111/156 [5:04:14<1:10:05, 93.45s/it]"
     ]
    },
    {
     "name": "stdout",
     "output_type": "stream",
     "text": [
      "/home/qiang/projects/Digital_mental_health/Dataset/Condidate_sentiment_dataset/1_event_filtered_all/output_chunk_36_event_filter.json\n",
      "['Nobody loves me on Twitter.', 'The water in the shower at the campsite smelled nasty.', 'I lost my right to vote.', \"I haven't received something I've been waiting for over a year.\", \"I'm jealous of someone's clothes.\", 'Last ever Welsh College show', 'I feel so sad right now', 'Got a snotty nose and poorly chest.', 'I was ignored by someone I reached out to.', 'Son is sick', \"I'm at work.\", 'Feeling annoyed', 'Missing each other', 'This weekend is going to be bad.', 'I missed Ceddy.', \"My friend's dad passed away\", \"Had a crown made that doesn't fit right and the dentist wouldn't fix it or refund the money.\", 'I got another puncture!', 'I have rhinitis.', 'I stopped getting your updates on my home page.', 'We have to go through the whole weekend without him.', 'Having a headache and colds', \"Didn't have an appetite.\", 'The government is oppressing its citizens.', 'I got a bad grade in math.', \"I didn't have time for a nap before work\", \"Can't sleep\", 'I got diagnosed with bronchitis.', 'I am working too hard.', 'I had to miss out due to conflicting plans.', 'Feeling depressed at work.', \"It's too warm to be in here today.\", 'I missed someone.', \"People ignored me and wouldn't overturn Prop 8.\", 'Worried about Arabelle.', 'My blog comment was not posted.', \"Haven't eaten today\", 'Feeling depressed', \"My brain won't stop thinking and it's exhausting.\", \"The projector didn't work with the Windows laptop.\"]\n"
     ]
    },
    {
     "name": "stderr",
     "output_type": "stream",
     "text": [
      "100%|██████████| 40/40 [01:35<00:00,  2.38s/it]\n",
      "Processing:  72%|███████▏  | 112/156 [5:05:49<1:08:56, 94.02s/it]"
     ]
    },
    {
     "name": "stdout",
     "output_type": "stream",
     "text": [
      "/home/qiang/projects/Digital_mental_health/Dataset/Condidate_sentiment_dataset/1_event_filtered_all/output_chunk_82_event_filter.json\n",
      "['something bad happened', 'Being tired of being foolish', 'The aircon in my office is not working.', 'I have a cold.', 'Expensive 3X3 card pages.', 'I broke my wrist', 'Back to reality (implying something unpleasant)', 'We spent lots of money for nothing.', \"It's cold today\", \"I can't stop sneezing.\", 'I lost my 1.5 hour work on Photoshop due to a disk error.', 'Persistent coughs', 'Having gear troubles all day long.', \"I'm feeling sad about graduating from high school.\", \"I didn't get a rose for Cassadee tomorrow.\", \"Someone's mom called them a derogatory name because of their outfit.\", 'I am extremely jealous of someone.', \"I didn't get a response.\", 'Pridelines got talent is giving me a headache!!', 'Harder work', \"Baby was upset and couldn't be soothed.\", \"I'm unemployed.\", \"I'm not allowed to cross the border!\", \"She doesn't love me on Twitter.\", 'I hated something.', 'I got bored.', 'Had awful hiccups.', \"I was slammed via DM's from the Papaya lobbyists.\", 'My heart is breaking.', \"I'm allergic to hot wax\", 'I missed your party', 'Stuck in awful traffic on the way to a wedding.', 'That makes me sad', \"I've got no PINKPOP weekend tickets.\", 'Not feeling very well.', 'Being a sick kid.', 'Attended a disappointing party.', 'My earphone suddenly stopped working on one side.', 'Uni exams are looming', 'Reception computers are not working.', 'Sleeping with the window open causes me to wake up early due to the noise.', 'The kid was poor', 'Work next door sucking again']\n"
     ]
    },
    {
     "name": "stderr",
     "output_type": "stream",
     "text": [
      "100%|██████████| 43/43 [01:44<00:00,  2.44s/it]\n",
      "Processing:  72%|███████▏  | 113/156 [5:07:34<1:09:42, 97.27s/it]"
     ]
    },
    {
     "name": "stdout",
     "output_type": "stream",
     "text": [
      "/home/qiang/projects/Digital_mental_health/Dataset/Condidate_sentiment_dataset/1_event_filtered_all/output_chunk_19_event_filter.json\n",
      "[\"Watching Ripley's Believe it or Not while eating was a bad experience.\", 'My life must change', \"DNS isn't working\", 'Felt bored and lonely at work', 'I missed someone I care about.', \"My friend didn't answer my call.\", \"It's raining heavily.\", 'Going out for the first time since my daughter was born.', 'They hurt me.', 'Not doing relay', 'Afraid to look at a list of phobias.', 'Saw a dead bird.', 'Baby got hurt.', \"It's Monday\", 'We just got heated.', 'No one has contacted me all summer.', \"I didn't get to see\", 'She never speaks to me in college.', \"I'm always sick.\", 'I had a sore throat.', \"It's a miserable bank holiday.\", 'I got multiple mouth ulcers.', 'I missed the bus', \"It's going to rain outside.\", 'had a bad day', 'I am too sad.', 'My phone is broken.', 'Visiting family in hospital', \"I haven't started my paper due tonight.\", 'I felt nauseous.', 'I am in a bad mood.', 'I lost my voice', 'Got sick at work.', \"I have a really sore knee and can't walk.\", 'Feeling bored with nothing to do.', 'That sucks!']\n"
     ]
    },
    {
     "name": "stderr",
     "output_type": "stream",
     "text": [
      "100%|██████████| 36/36 [01:25<00:00,  2.39s/it]\n",
      "Processing:  73%|███████▎  | 114/156 [5:09:00<1:05:43, 93.89s/it]"
     ]
    },
    {
     "name": "stdout",
     "output_type": "stream",
     "text": [
      "/home/qiang/projects/Digital_mental_health/Dataset/Condidate_sentiment_dataset/1_event_filtered_all/output_chunk_11_event_filter.json\n",
      "[\"The video won't load.\", \"I saw someone's picture of being at a water park.\", 'I am in pain', 'I unfollowed many people on social media who were not interesting or helpful to me.', 'I got blocked by someone.', \"People didn't know what they wanted.\", \"Can't sleep and feeling for cigarettes.\", \"My internet is SUPER slow and my TV isn't working right.\", 'Audio recording was distorted due to high volume.', \"She's gone\", 'Missing Nathan and the BCCG.', 'Had to work in the morning.', \"It's really really warm.\", 'One of our on-off clients went bust.', \"I'm going to fail my exam.\", \"Black Widow won't be awesome in movies.\", 'Waking up early for work.', 'Someone insulted me.', 'The case for my iPod Touch is falling apart.', 'Got a throat infection and tasted blood.', \"I couldn't sleep and had to wake up too early.\", 'Experienced inconvenience due to lack of information.', 'The physics class was boring.', 'I lost my #comet09 stream.', \"I'm going to miss all my new friends from this year.\", 'I unfollowed everyone on Twitter.', 'I got a sore throat.', 'Failed an exam.', \"Hollie Steel's performance on BGT was excruciating to watch.\", 'Got drunk', \"I'm so sick and I hate my life\", 'Waiting in lines', 'The weather ruined my plans.', 'I come off as either strange or distant when talking to people.', 'People in North Korea are starving and endangered by their leader.', 'Feeling rough today', 'Feeling too tired to get up for work', 'it sucks', 'Missing Mrs. McFox', 'Got bored', 'Internet is very slow today.', 'Gas prices increased by 10 cents to $2.49.', 'Feeling down and unable to share problems with anyone.', 'Chai latte at urban is not good.']\n"
     ]
    },
    {
     "name": "stderr",
     "output_type": "stream",
     "text": [
      "100%|██████████| 44/44 [01:46<00:00,  2.43s/it]\n",
      "Processing:  74%|███████▎  | 115/156 [5:10:47<1:06:49, 97.79s/it]"
     ]
    },
    {
     "name": "stdout",
     "output_type": "stream",
     "text": [
      "/home/qiang/projects/Digital_mental_health/Dataset/Condidate_sentiment_dataset/1_event_filtered_all/output_chunk_4_event_filter.json\n",
      "['Living in poverty.', 'The plan to save money failed.', 'I wish I was back in Tahoe.', 'No birthday party promotions.', \"It all went too quick and there wasn't a chance.\", 'Had a headache', 'My dogs massacred baby bunnies.', 'organization failed.', 'My tonsils get swollen and they hurt.', \"He's lonely\", 'I missed someone.', 'Living in ignorance', \"My sister's phone turned off when I wanted to see her.\", \"I'm sick.\", 'Did not have enough money to buy a desired item.', 'Not going to Toronto anymore.', 'Your mom passed away.', \"Can't sleep\", \"I got sad at Kaylee's graduation.\", 'My big toe got stomped on.', 'Having a stupid job', \"I didn't make a good impression.\", 'I had a terrible headache and swollen, puffy eyes.', 'Missed a quick train by a few minutes', 'I felt extremely tired.', \"He doesn't want me anymore\", 'I had a bad hair day.', 'Had a headache', \"I haven't stopped sweating since noon.\", 'The weather ruined my day off', 'Having body odor.', 'The worst picture I posted got negative feedback.', 'I missed important calls.', 'got stuck in bad traffic', 'I saw no answer back after submitting my resume.', 'Guys dishing out BS.', 'missed out on Westcott Micro Apollo', 'Feeling unwell with tonsillitis.', 'Lost sunshine', \"couldn't call the doctor\", \"I'm bored at work.\", 'Received too many rejections.']\n"
     ]
    },
    {
     "name": "stderr",
     "output_type": "stream",
     "text": [
      "100%|██████████| 42/42 [01:33<00:00,  2.23s/it]\n",
      "Processing:  74%|███████▍  | 116/156 [5:12:21<1:04:24, 96.61s/it]"
     ]
    },
    {
     "name": "stdout",
     "output_type": "stream",
     "text": [
      "/home/qiang/projects/Digital_mental_health/Dataset/Condidate_sentiment_dataset/1_event_filtered_all/output_chunk_146_event_filter.json\n",
      "['No hot water available.', 'I am too poor', \"There isn't even room for people on social networking.\", 'Had an all-day training in Novi.', 'Got bad news about my Mum', 'hurt myself', 'Having to work on a Friday night and waking up at 6 am on a Saturday.', 'I feel extremely sad and lonely.', \"Lost someone's affection\", 'Made a bad decision', 'Something bad happened to shines92.', \"Got only an hour's sleep.\", \"Needing my car but it's not available\", 'I have cramps.', 'I watched a very sad movie.', 'I was damaged by an unrequited love.', 'Margie refused to share information about who killed Evil Eddy with me.', 'I slept badly.', 'I lost my best friend.', 'Poverty', 'My weekend may be delayed.', 'I lost the remote.', 'Trouble in paradise', \"Can't get a Bank of China (BoC)\", 'I missed coffee', \"Can't open my eyes properly.\", 'Got sick on a Friday.', 'I missed Jenny.', 'Your loss', 'Had to make a difficult decision', 'Could not sleep before an early workday.', 'I have to work later.', 'Having a bad day', 'Computer freezes due to Vista.', \"I don't feel so good\", 'Having horrible nightmares', 'My phone is dead.', 'My parents are putting down my dog.', 'Worked in less than 3 hours.', 'A kid does stupid things on the internet.', 'I have a swollen face.', 'Stuck at home with a sore back and a pile of work.', 'Feeling sad', 'My partner is going to make a mess of the clean kitchen.']\n"
     ]
    },
    {
     "name": "stderr",
     "output_type": "stream",
     "text": [
      "100%|██████████| 44/44 [01:44<00:00,  2.37s/it]\n",
      "Processing:  75%|███████▌  | 117/156 [5:14:05<1:04:18, 98.94s/it]"
     ]
    },
    {
     "name": "stdout",
     "output_type": "stream",
     "text": [
      "/home/qiang/projects/Digital_mental_health/Dataset/Condidate_sentiment_dataset/1_event_filtered_all/output_chunk_144_event_filter.json\n",
      "['My knowledge of X-men is perceived as scary by others', 'I never win competitions.', 'Being unable to eat at a steakhouse.', 'Being called a derogatory name (e.g. \"bitch\")', 'They burnt my zucchini', 'Feeling bored', \"People's mood swings make me somewhat sad.\", \"Weber's expansion into America failed and lost lots of money.\", 'Got pulled over by the police.', 'Feeling frustrated and angry.', 'My head is throbbing.', 'Last night was not fair.', '2 grown men discuss characters on All My Children.', 'I stepped on a needle.', 'I got a headache', 'Having only a week to do everything before leaving.', 'Broke her childhood dresser.', 'Having chili cheese fries for lunch was a bad idea.', \"Can't see my sweetie\", 'There was a really big spider on the floor near me.', \"I didn't have time for fun on Friday.\", 'Having a long and tiring day.', 'My mother-in-law stayed with me for the weekend.', 'Not receiving a follow-up or check-up call after being invited.', 'I just moved away from London', 'Feeling too tired', 'Homework is boring.', \"Realized I've forgotten how to write on paper.\", 'My Twitter is down', \"Marriage isn't legal.\", 'I got a nasty cough.', \"I'm not at Asylum right now\", 'Got a sunburn', \"I'm going to miss the Grand Prix.\", 'having trouble waking up', \"I'm sick.\", 'Being told to shut up.', 'I miss living in NYC.', 'saw someone I dislike (Leon) today', \"I couldn't sleep.\", 'Did not go to bed on time', 'I got hit by a car.', 'I lost my Mohawk.']\n"
     ]
    },
    {
     "name": "stderr",
     "output_type": "stream",
     "text": [
      "100%|██████████| 43/43 [01:41<00:00,  2.35s/it]\n",
      "Processing:  76%|███████▌  | 118/156 [5:15:46<1:03:05, 99.61s/it]"
     ]
    },
    {
     "name": "stdout",
     "output_type": "stream",
     "text": [
      "/home/qiang/projects/Digital_mental_health/Dataset/Condidate_sentiment_dataset/1_event_filtered_all/output_chunk_28_event_filter.json\n",
      "[\"Justin's blanket shed black lint all over my white skirt.\", \"I'm ill and have loads of revision to do for my exam on Tuesday.\", 'Got a sunburn', 'Someone will have to teach me something complicated.', 'I feel sick after eating Oreos and cheesecake milkshake.', 'I was told I have a warrant for my arrest.', \"I've been losing myself into too many Taiwanese dramas.\", 'Evaluating my people negatively.', 'I missed home and away games.', 'My sister was mean to me.', 'Life is not unfair!', 'I missed a lot of classes', 'I have a crazy debt issue.', 'Having a long day', \"I'm too busy at work.\", 'Cats were set on fire', 'Stuck in Chicago traffic', 'My favorite guild disbanded.', 'Facebook failed.', \"I've got mad cramps in my legs\", 'I got sick.', 'Feeling bored and tired.', 'Someone took my wallet', 'No show tonight and no plans.', 'The planned ITER fusion reactor will be greatly delayed.', 'Everybody hated it.', 'I died.', 'I forgot to reset my alarm clock.', 'The guy lied to the girl.', \"Didn't take a risk due to fear of unpredictable people's behavior while having 2 kids with me.\", 'I am missing the homeschool fair today.', 'We missed the graduation.', 'Waiting for a long time to go out.', \"I'm still missing you.\", 'was shut out', 'He died of lung cancer at 51.', \"I'm not doing well with learning Photoshop.\", \"I don't have my update yet.\", 'being in a bad mood', \"I'm going to owe a lot of money.\"]\n"
     ]
    },
    {
     "name": "stderr",
     "output_type": "stream",
     "text": [
      "100%|██████████| 40/40 [01:36<00:00,  2.41s/it]\n",
      "Processing:  76%|███████▋  | 119/156 [5:17:23<1:00:50, 98.65s/it]"
     ]
    },
    {
     "name": "stdout",
     "output_type": "stream",
     "text": [
      "/home/qiang/projects/Digital_mental_health/Dataset/Condidate_sentiment_dataset/1_event_filtered_all/output_chunk_105_event_filter.json\n",
      "['Having a bad day', 'The weather was disgusting.', 'I have no money.', 'I made a mistake.', \"My work schedule conflicts with my fiancé's.\", \"Can't access through mobile web\", 'Something bad happened.', 'The weather was nasty outside.', 'Croccos is no longer available for salsa Wed nights.', \"Kim isn't feeling well\", 'Had to stay at work until 9pm without having any tasks.', 'My knee hurts.', 'I miss my grandmother on our one-year anniversary without her.', \"I haven't got any friends\", 'I was scared by the Daleks in the DW Exhibition in Cardiff.', 'There was thunder!', 'Having a bad day or week', 'I had to say goodbye to my favorite teacher.', 'I felt rubbish', 'I accidentally screwed up the layout of the Lautner Daily community.', \"I've got a bad viral infection.\", 'My internet has been down the whole day.', 'Isaac hit his head.', 'Bees are trapped in my honeypot', 'FCKeditor gives me problems and only edits in plain text.', \"I'm crashing after drinking a Monster Energy Drink.\", \"Missing out on an opportunity to be in Valencia's new video.\", 'Had a headache', 'Having to work tonight', 'Thomas will not be good.', 'Being alone', 'Feel extremely bloated', 'Lost all text messages and call history.', \"I'm sick of having a small chest.\", 'Feeling like a piece of garbage.', 'Being around my baby', 'My phone died', 'Wish I had nobody to hang out with tonight.', 'I lost my phone.', \"I'll bomb in a talk.\", 'That was disappointing.', 'She was given a 2nd chance and some people were harsh about it.', 'I took a hated medicine.']\n"
     ]
    },
    {
     "name": "stderr",
     "output_type": "stream",
     "text": [
      "100%|██████████| 43/43 [01:52<00:00,  2.62s/it]\n",
      "Processing:  77%|███████▋  | 120/156 [5:19:15<1:01:42, 102.84s/it]"
     ]
    },
    {
     "name": "stdout",
     "output_type": "stream",
     "text": [
      "/home/qiang/projects/Digital_mental_health/Dataset/Condidate_sentiment_dataset/1_event_filtered_all/output_chunk_46_event_filter.json\n",
      "['hurt my feet', 'Forgot my PIN', \"We don't have a teacher.\", 'My friend is pissed off at me.', 'I have a headache.', 'Feeling like slacking off in important classes (chem II and calculus).', 'I screwed up at work.', 'Had to crack the whip (implying excessive pressure or stress)', 'Business is bad.', 'I have a headache.', 'Strike one.', 'Had to take a long walk in the heat.', 'My left knee is killing me.', 'I have a headache.', 'feels disappointed about supervising someone.', 'It always rains on Bank Holidays.', 'Blocked friends on social media.', 'I lost followers.', \"The picture won't load up on Twitter.\", 'Woke up too early', 'I spent too much money.', 'Worrying about pets while on holiday.', 'My paradise flycatchers abandoned their nest.', 'I got stranded on the highway with Edwin due to a spaceship malfunction.', \"My mum won't let me get things out of the attic.\", \"It's only downhill from now until Labor Day!\", 'Overheated because of a campaign.', 'I am very sick.', 'Being stuck as a programmer in one company.', 'Feeling very bored and lonely without someone to talk to, missing boyfriend and not wanting to go back to school.', \"I'm stuck in Tennessee.\", 'Smackdown became less interesting.', 'I have to work all weekend.', 'Loss of fingers', 'Had only a short time to get ready.', 'The weather here in Austria is bad for the whole weekend.', 'I have a headache.', 'still not feeling great', 'got hurt', 'I had to mow the lawn.', 'Many tribes are becoming extinct', 'feeling sad']\n"
     ]
    },
    {
     "name": "stderr",
     "output_type": "stream",
     "text": [
      "100%|██████████| 42/42 [01:46<00:00,  2.54s/it]\n",
      "Processing:  78%|███████▊  | 121/156 [5:21:02<1:00:40, 104.01s/it]"
     ]
    },
    {
     "name": "stdout",
     "output_type": "stream",
     "text": [
      "/home/qiang/projects/Digital_mental_health/Dataset/Condidate_sentiment_dataset/1_event_filtered_all/output_chunk_121_event_filter.json\n",
      "[\"It's freezing on my way to work.\", 'There was a thunderstorm.', 'I have a headache.', 'Something is wrong', 'I burnt my tongue', 'My trackball is breaking down.', \"I broke someone's page.\", 'I was blocked from following someone on Twitter.', 'Needed more Advil.', 'Feeling lonely', \"It's hard to tweet with a Sidekick.\", \"I missed Sayed Hassan's speech\", 'Having to hold in urine.', 'I lost another friend', 'Something horrible happened to someone.', 'Nothing good was available at the five-dollar sale.', \"I can't talk.\", 'He got injured during his rehabilitation.', 'I returned to occupying the same city as someone I dislike.', \"I contracted a cold from the kids' slobber.\", 'Working on a Saturday.', 'I still have a summer project to do.', \"Twitter isn't sending me my updates.\", \"It's not fair\", \"Can't get the weekends off.\", \"Getting one of the lil GEM's ears re-pierced after work today.\", 'I broke my computer.', 'A coworker got laid off.', 'I ruined my WordPress blog.', 'We have no headache medicine in this house.', 'Got an email saying I overpaid for my Monday flight to SFO.', \"couldn't get Dallas concert tickets.\", 'went out third.', 'My lip gloss made my lips burn.', 'I miss laughing at a little Asian girl who poops her pants in public.']\n"
     ]
    },
    {
     "name": "stderr",
     "output_type": "stream",
     "text": [
      "100%|██████████| 35/35 [01:25<00:00,  2.45s/it]\n",
      "Processing:  78%|███████▊  | 122/156 [5:22:28<55:49, 98.51s/it]   "
     ]
    },
    {
     "name": "stdout",
     "output_type": "stream",
     "text": [
      "/home/qiang/projects/Digital_mental_health/Dataset/Condidate_sentiment_dataset/1_event_filtered_all/output_chunk_40_event_filter.json\n",
      "[\"Didn't receive attention from someone.\", 'I spent money last night.', 'I forgot my calculator for physics', 'Shower head broke and hit me on the head.', 'I have eczema.', 'My husband dragged me out to buy car parts when I was tired and cranky.', 'I lost my cell phone.', \"I'm not cool enough to attend social events.\", \"couldn't find a babysitter\", 'I missed the party!', 'I miss my baby', 'I failed to remove a stain from a page.', \"I don't feel good.\", 'It sucks', 'Missing the Diplomat title', \"I'm extremely tired\", \"Can't afford a Blackberry\", \"I don't have a car.\", 'Had a bad rum experience in college', 'My feet are completely torn up', \"Things didn't go well.\", 'Watching a disturbing TV show about same-sex marriage.', 'I had a massive headache.', 'I destroyed my cell phone', 'The van is having problems.', 'Ran out of coffee while working from home.', \"I couldn't access my blog.\", 'Wishing I was somewhere else.', \"Had to clean up everyone's cake mess.\", 'Feeling lonely', 'Had to stay at work until 2 am.', 'Missing her best friend', 'Someone keyed my car.', 'Flight delayed', 'Being unable to date someone I want to.', \"I'm having the worst day.\", 'I scratched my iPod', 'Hurt badly.', 'Experienced extreme stress', 'I miss my daddy.']\n"
     ]
    },
    {
     "name": "stderr",
     "output_type": "stream",
     "text": [
      "100%|██████████| 40/40 [01:28<00:00,  2.22s/it]\n",
      "Processing:  79%|███████▉  | 123/156 [5:23:57<52:35, 95.62s/it]"
     ]
    },
    {
     "name": "stdout",
     "output_type": "stream",
     "text": [
      "/home/qiang/projects/Digital_mental_health/Dataset/Condidate_sentiment_dataset/1_event_filtered_all/output_chunk_50_event_filter.json\n",
      "['I had a problem with my lady.', 'Refused to feel the pain', \"Couldn't get enough sleep\", \"Didn't finish what I wanted to do.\", \"It's not Friday.\", 'Being stuck inside all day', 'Unable to access URLs', 'Received terrible news', \"He's totally ignoring me!\", 'Prison break had a sad ending', 'Being myself.', \"I couldn't eat the food I'm craving because of my gum condition.\", 'I got an error while trying to register on the website.', 'Using the wrong Ping group', 'I pierced my bottom lip.', \"It's raining.\", 'My tummy hurts.', 'I broke my toe.', 'Transferring 368558682 photos is annoying.', 'Feeling very sick', 'Lost my favorite key chain.', 'Feeling bad', \"She didn't email me back.\", 'I felt awful after last night.', 'felt disconnected from social media and online communities.', 'misses home on the farm', 'Twitter has been foking up for me today', 'The sky is grey and hazy outside my window.', \"It's tough to keep up with current followers on a mobile device.\", \"My air conditioner doesn't work.\", 'Having a bad headache.', 'School', 'I disappoint people.', 'I am extremely tired after walking 6.05 kilometers today', 'Hard to find good wallpapers.', \"Can't find a sitter.\", 'I need cheering up', 'Waiting for a scary phone call', 'No one loves me', 'Melted ice cream', \"I don't like them (specifically, referring to a particular product or item)\"]\n"
     ]
    },
    {
     "name": "stderr",
     "output_type": "stream",
     "text": [
      "100%|██████████| 41/41 [01:41<00:00,  2.47s/it]\n",
      "Processing:  79%|███████▉  | 124/156 [5:25:38<51:54, 97.34s/it]"
     ]
    },
    {
     "name": "stdout",
     "output_type": "stream",
     "text": [
      "/home/qiang/projects/Digital_mental_health/Dataset/Condidate_sentiment_dataset/1_event_filtered_all/output_chunk_74_event_filter.json\n",
      "['I had a car accident.', 'Coughed up a little bit of taco', 'iTunes shuffle played unwanted song', 'I got a bad haircut', 'I miss someone.', 'I was laughed at today for being too hopeful with the things...', 'A friend lost their job.', 'The thunder is scaring me', 'I reached access limits on TweetDeck.', 'I have 8 exams to take in 2 weeks and cannot adequately revise for all of them.', 'I had food poisoning from Chinese food.', 'A friend went to the wrong place after misunderstanding the location of an event.', 'I was too late for the contest!', 'Missed bus and train, was late for work.', \"I didn't get a shake from Ritas.\", 'I am fat and sad', 'There are no robot songs in my library.', 'My modem died and I have to buy a new one or sign up for a one-year contract.', 'I had bad dreams about spiders and rogue octopi.', 'Had a long day at the office.', 'My grandmother broke a pipe in her house.', 'I got rained out at the beach.', 'The Cavs lost to the Magic.', \"She isn't going out tonight.\", \"My hair won't be straight.\", 'He threw a remote at me after yelling at me.', 'Had a massive panic attack', 'I got brain freeze', \"It's been raining and we have no money.\", 'Freshmen ruined theatre class.', 'gave a big dose of insulin that I needed late', 'Became homeless', 'Not being able to babysit tonight.', \"Haven't been able to make myself go to the gym.\", 'macbook dying.', 'Grandfather passed away', 'It hurts', \"I'm going to cry.\", 'I missed a meal yesterday', 'Need to deposit and save some money', 'I lost the link you sent.', 'Being told that I looked like Missy Elliot all through high school.']\n"
     ]
    },
    {
     "name": "stderr",
     "output_type": "stream",
     "text": [
      "100%|██████████| 42/42 [01:47<00:00,  2.57s/it]\n",
      "Processing:  80%|████████  | 125/156 [5:27:26<51:56, 100.52s/it]"
     ]
    },
    {
     "name": "stdout",
     "output_type": "stream",
     "text": [
      "/home/qiang/projects/Digital_mental_health/Dataset/Condidate_sentiment_dataset/1_event_filtered_all/output_chunk_112_event_filter.json\n",
      "['Got sick in class and felt hungry.', 'I may die without my Kateage.', 'I have to stay away from home with no good wireless internet.', 'Being sick', 'Said goodbye to someone or something.', \"I got stuck at 'authenticating' in WoW.\", 'I have revision though.', 'massive headache', \"Didn't get to show the property this weekend.\", 'The Prison Break series finale was disappointing.', 'The tummy monster hates me', 'My dog was put to sleep.', \"I didn't get the job\", 'My phone sucks', 'The Feds are hounding me for a statement.', 'I spilled an entire can of Diet Coke in my lap.', 'Giving notice to my boss today.', 'The robins and blue birds are being bullied.', 'I have nothing to do and feel sad.', \"I'm tired.\", 'People at work let me down.', \"Today's been a heartbreak\", 'I was told I was extremely abusive mentally, emotionally, and physically.', 'They are terrible little beasts.', 'Experienced Friday night depression', 'My tooth hurts', \"couldn't take days off of work\", 'Feeling sick, pressure, stress, too much drama.', 'Having mismatched clothing sizes (14 thighs but 10-12 hips)', 'Woke up late', 'Geocaching.com has a huge delay delivering Pocket Queries', 'Dreambears were booed compared to their audition.', 'Missing someone', 'I fell down and hurt my chin.', 'I spend too much money.', 'I was hooked up to 9 wires.', 'That situation sucks.', \"It's so dead\", 'Eirtaku got hit by stupid bots.', 'felt stressed beyond belief', \"Can't sleep and have a lot of work to do tomorrow.\", 'Rejected from the 09 mediation program.', 'The week was dragging.']\n"
     ]
    },
    {
     "name": "stderr",
     "output_type": "stream",
     "text": [
      "100%|██████████| 43/43 [01:43<00:00,  2.40s/it]\n",
      "Processing:  81%|████████  | 126/156 [5:29:09<50:38, 101.30s/it]"
     ]
    },
    {
     "name": "stdout",
     "output_type": "stream",
     "text": [
      "/home/qiang/projects/Digital_mental_health/Dataset/Condidate_sentiment_dataset/1_event_filtered_all/output_chunk_113_event_filter.json\n",
      "['Having a hectic day', \"Taking someone's place due to their inability to handle the heat.\", 'I feel so horrid.', 'FF still slow', 'Feeling lonely with no one around.', 'I have heartburn.', 'Many Beard papas have disappeared.', \"Can't take a nap when feeling tired.\", 'trying to draw some manga/anime was a very bad idea.', 'Stuck in Chicago traffic.', 'Spent too much today!!!', 'I have no iPhone.', \"I don't want to go to work!\", \"I don't want to go to work.\", \"I didn't get a raise this year\", \"Jay Leno's last show\", 'I had to pack.', 'I had incompatible referenced assemblies.', 'The windows are open.', 'Missing Tim', 'Broke my nose', 'I had to retreat in shame.', 'I feel really bad now.', \"I'm sick.\", 'I got too much sun today', \"I won't be there\", 'I hate Friday evenings.', 'I miss the Piano.', 'One of my tweets was deleted.', 'Mary hates me again', 'I was broke.', \"It's extremely hot and humid today.\", \"Can't get a job because people think I'm fifteen.\", 'Twitter is boring', 'My boyfriend beats the dogs.', 'Grandmother was in a car accident', 'I failed a class', 'Did not receive a package on time.', 'She may not send it.']\n"
     ]
    },
    {
     "name": "stderr",
     "output_type": "stream",
     "text": [
      "100%|██████████| 39/39 [01:29<00:00,  2.29s/it]\n",
      "Processing:  81%|████████▏ | 127/156 [5:30:38<47:12, 97.69s/it] "
     ]
    },
    {
     "name": "stdout",
     "output_type": "stream",
     "text": [
      "/home/qiang/projects/Digital_mental_health/Dataset/Condidate_sentiment_dataset/1_event_filtered_all/output_chunk_27_event_filter.json\n",
      "['I miss Kimberlee Hatch', 'Going out too soon.', 'Got into a fist fight with an old biker guy.', 'I am currently unemployed', 'I missed it', 'Got pissed off by so-called \"friends\" at school.', 'My tummy hurts', 'got woken up early again', 'I was disappointed', \"I woke my mum up cause I was singing and she's not impressed.\", 'Andrew and JT are in a fight.', 'I lost the game multiple times today.', 'I realized I lack time and cannot achieve all my goals in life.', 'I need someone to cuddle.', \"I had to leave Grandma's house.\", 'I am starving.', \"I couldn't finish the dance.\", 'everything went wrong', \"My AO's left me.\", 'I felt sick again', 'Ran out of weed.', \"I'm going to fail.\", \"Dad's camera died during my diploma ceremony.\", 'My keys were cracking.', 'I got suspended.', 'going to work at one sucks', 'Missed being included in Python 3.1', 'My DS just died.', \"I don't want Breaking Dawn to be over.\", \"Your day wasn't so good.\", 'Something bad happened tonight', 'My internet crashed', 'I saw a sad picture on TwitPic.', \"Baby don't hurt me.\", 'Feeling guilty', 'My domain zemote.com was bumped out of the #1 spot.', \"People's phones are dead\", \"I've run out of anchovies.\", 'Followers I really like unfollowed me.', 'Missing someone badly while away from them.', 'Missing my girlfriend.', 'I missed something important.']\n"
     ]
    },
    {
     "name": "stderr",
     "output_type": "stream",
     "text": [
      "100%|██████████| 42/42 [01:32<00:00,  2.21s/it]\n",
      "Processing:  82%|████████▏ | 128/156 [5:32:11<44:54, 96.23s/it]"
     ]
    },
    {
     "name": "stdout",
     "output_type": "stream",
     "text": [
      "/home/qiang/projects/Digital_mental_health/Dataset/Condidate_sentiment_dataset/1_event_filtered_all/output_chunk_47_event_filter.json\n",
      "['Prices were raised at work.', 'Feeling her eyes burned-fried after 10 hours of screen time.', \"I'm going to fail my exam on Monday.\", 'The members preview has been sold out.', \"I lost the three books a long time ago and I'm sad.\\n\\n(Rewritten as) Event: I lost my Lord of the Rings trilogy books.\", 'gifts & honesty box messages has been discontinued due to abuse.', 'The car thing sucks.', 'staying in bad news after graduation', \"I couldn't vote\", 'Our AC upstairs is broken.', 'Had a headache from the heat.', \"I couldn't afford something due to credit crunch.\", 'My assumptions regarding what happened in Harlem last night were 100% correct.', \"I'm bored and sad.\", 'I messed up all my fonts on Safari.', 'No one ever gave me the information', \"I'm unable to get what I want.\", \"I hate Mother's Day.\", \"I couldn't get internet at my sister's house tonight.\", 'Missing a meeting deadline.', 'Broke my iPhone', 'I am bored.', 'I got disappointed with a fake product (Balmain knockoffs).', 'I missed someone last night', 'Nothing good on TV tonight', 'bf moves far away', 'We were bored', \"Britain's Got Talent was disappointing this year\", 'Something made me sad', 'Work got in the way.', 'I got hurt.', 'I have shin splints while running', 'Eyes are really dry and tired.', 'I am starving.', \"I didn't get a nap\", \"couldn't finish my homework\"]\n"
     ]
    },
    {
     "name": "stderr",
     "output_type": "stream",
     "text": [
      "100%|██████████| 36/36 [01:20<00:00,  2.23s/it]\n",
      "Processing:  83%|████████▎ | 129/156 [5:33:31<41:08, 91.44s/it]"
     ]
    },
    {
     "name": "stdout",
     "output_type": "stream",
     "text": [
      "/home/qiang/projects/Digital_mental_health/Dataset/Condidate_sentiment_dataset/1_event_filtered_all/output_chunk_139_event_filter.json\n",
      "['I had to play a stupid song.', 'iPhone fell', 'Accidentally set it on fire while smoking.', 'My knees are sore.', 'It was too hot at Walmart.', 'A pet died.', 'I bruised my toe.', 'Being called a slow answerer.', 'Spent the night alone with pain pills.', \"Realizing I'll soon be leaving my teenage years.\", 'Being confined to bed.', 'LA unified summer schools were drastically cut due to CA budget cuts.', 'Google went down.', 'Coughing myself half to death in the middle of the night and keeping Cassidy awake too.', 'I was a victim of credit card fraud.', \"I'm crying.\", 'I had trouble finding a sitter.', 'Heart broken', 'I am hungry and bored in class.', 'I felt lonely.', 'I wasted a cute outfit.', 'We had very odd weather.', 'I felt tired and dizzy', 'School is so boring.', 'My bed called my Blackberry asking me where I was.', 'I got a repetitive injury.', 'My debit card is missing.', 'Writing this paper is harder than I thought.', 'today was horrible', 'Working all the time with crazy sleeping schedules.', \"I bit my tongue and it's swollen.\", \"Lost $10 due to someone's bluffing.\", 'My internet broke.', 'My last day at work.', \"I'm not sharing my toes tonight\", 'Having asthma issues.', \"I'm stuck in ridiculous traffic.\", 'I got a rude and mouthy person.', \"I couldn't set up my Twitter profile.\", 'No one is hiring.', 'Feeling jittery and upset']\n"
     ]
    },
    {
     "name": "stderr",
     "output_type": "stream",
     "text": [
      "100%|██████████| 41/41 [01:28<00:00,  2.16s/it]\n",
      "Processing:  83%|████████▎ | 130/156 [5:35:00<39:15, 90.60s/it]"
     ]
    },
    {
     "name": "stdout",
     "output_type": "stream",
     "text": [
      "/home/qiang/projects/Digital_mental_health/Dataset/Condidate_sentiment_dataset/1_event_filtered_all/output_chunk_73_event_filter.json\n",
      "['That happens', 'I have to serve food to 32 fourth graders in a short time.', 'I have a real sleeping disorder', 'A server told her that she looks big in her pants.', 'I accidentally clicked the wrong button.', 'My mom got sick.', 'I am sick.', 'I have no gas.', 'Someone annoyed me.', \"Won't let me watch since I'm in the states.\", 'I went to jail', 'I failed', 'Felt one tooth without the braces bracket.', \"I'm alone in bed.\", \"I'm sick\", 'I sent an internal email signature to an external recipient.', 'I miss him', \"I'm 4 hours away from someone I miss.\", \"I'm not allowed to follow Ericka on social media.\", 'Trashed the kitchen', \"Can't attend a 2-day festival.\", \"I'm bored\", \"I'm feeling extremely bored with nothing to do.\", \"I'm broke\", \"I wished I hadn't done something.\", \"I'm in unbearable pain.\", 'He played a mean joke on me.', 'Someone hates me.', 'Had a bad night', 'I cried.', 'Nola woke up at 3:30.', 'I lost a donor', 'I have two left feet.', \"I couldn't open Word documents correctly\", 'I have problems with love, money, math, and parents.', \"A pigeon outside my building isn't capable of flying.\", 'I need a haircut', 'I am tired of laying.', 'I hate my computer.', 'My cable is off.', 'We were weeks and weeks late.', \"The AC doesn't work in my new place.\", 'Feeling sad']\n"
     ]
    },
    {
     "name": "stderr",
     "output_type": "stream",
     "text": [
      "100%|██████████| 43/43 [01:35<00:00,  2.23s/it]\n",
      "Processing:  84%|████████▍ | 131/156 [5:36:36<38:23, 92.14s/it]"
     ]
    },
    {
     "name": "stdout",
     "output_type": "stream",
     "text": [
      "/home/qiang/projects/Digital_mental_health/Dataset/Condidate_sentiment_dataset/1_event_filtered_all/output_chunk_122_event_filter.json\n",
      "['Missed driving opportunity.', 'Aby got sore', \"Laura didn't like the French fans.\", 'Feeling lonely', \"I'm going to look like an idiot in front of my father.\", 'Home-made Indian food was bad.', 'Decided to gag myself.', 'Something sucks badly.', 'saw Carys and Donna leave', 'The new Def Jam game turned out to be a crappy karaoke game instead of a fighting game.', 'Being blamed due to my position in the organizational chart.', \"I didn't get to go to a friend's going away party due to work.\", 'I am so sad', 'My boiler broke down again.', \"I didn't get TEDx tickets\", 'TweetDeck lost all old replies.', \"Realized it wasn't Saturday and had to rush to get ready for work.\", 'Exams tomorrow', 'I have to go to a photo shoot.', 'I have a belly ache', 'feeling apathetic', \"Haven't seen friends in almost a year.\", 'Half Term is not long enough', \"Can't get a lift and stuck at home.\", 'I thought it was an exploit attempt.', 'We will lose the gym', 'Bad guys tried to enter my garden.', 'Molly punches me.', 'Venus made an early exit in the French Open tennis.', 'I cried at a funeral.', 'Missing someone (Taylor)', 'My local coffeeshop sold me bad stuff.', 'The website may not happen.', 'I hate life.', 'Got welts on my thighs.']\n"
     ]
    },
    {
     "name": "stderr",
     "output_type": "stream",
     "text": [
      "100%|██████████| 35/35 [01:21<00:00,  2.33s/it]\n",
      "Processing:  85%|████████▍ | 132/156 [5:37:57<35:35, 88.97s/it]"
     ]
    },
    {
     "name": "stdout",
     "output_type": "stream",
     "text": [
      "/home/qiang/projects/Digital_mental_health/Dataset/Condidate_sentiment_dataset/1_event_filtered_all/output_chunk_21_event_filter.json\n",
      "['I have a cold.', \"attended a funeral for a friend's father\", 'It was sad', 'The environment feels dead.', 'Got bad news from the vet.', 'I live in a boring city with nothing to do.', \"I couldn't sleep\", \"I can't get my free lunch\", 'I will have 2 full days of boredom.', \"He hasn't called me back.\", 'Went over the limit for actions per hour on Twitter.', 'Got sunburnt', 'The weather sucks.', 'Having a panic attack and not being able to breathe.', 'My cat got skin cancer', 'My hair hurts', 'People are pissing me off.', 'The AC died.', 'Dealing with pain', 'I hate stockings', 'I feel sick.', 'I got a bad gift.', 'Dealing with a difficult situation.', 'I Hate myself', 'My hair was cut badly.', 'The download failed', 'Having only one day off after multiple days of work.', \"I'm bored.\", 'A loud thunderstorm occurred at work.', \"I couldn't attend the brand workshop.\", 'I lost my hoodie.', \"I didn't get a response when I said hi to someone.\", 'Getting hurt 4 days before nationals.', 'He profiled my ****.', 'I am sick during the summer.', 'I missed you.', 'No one calls me anymore', 'Having a migraine when the kids are hyper.']\n"
     ]
    },
    {
     "name": "stderr",
     "output_type": "stream",
     "text": [
      "100%|██████████| 38/38 [01:30<00:00,  2.38s/it]\n",
      "Processing:  85%|████████▌ | 133/156 [5:39:28<34:15, 89.39s/it]"
     ]
    },
    {
     "name": "stdout",
     "output_type": "stream",
     "text": [
      "/home/qiang/projects/Digital_mental_health/Dataset/Condidate_sentiment_dataset/1_event_filtered_all/output_chunk_18_event_filter.json\n",
      "[\"I'm sick\", 'I cut myself while trying to cook a nice lunch.', 'Freaking out about going to Wales.', 'Spray tan failed on my legs and feet.', 'My dad left, and I woke up to an empty house.', 'Ryan stopped following me on Twitter', 'There was no food at home.', 'I missed meeting the President of the United States at a location near my house and job.', 'Nicole is looking for me.', 'Nothing to do tonight.', \"couldn't participate in Barcelona this weekend\", \"Can't get home.\", 'I got kicked by the Leadership Team on the golf course.', 'Christian Lacroix went bankrupt.', \"I wasn't happy with Cook's choices for singles.\", 'The system is dead.', 'I lost a follower', 'No friends for a long time', 'Fell asleep on the trampoline for 2 hours in the sun and got sunburnt.', 'Feeling jealous.', 'The system is not working.', \"I got bitten by Jo and it's bruised.\", 'I got grounded', 'I missed him a lot', \"Watching my best friend's wedding.\", \"I'm sick.\", 'There is a shortage of shells for crabs to use on the beach.', \"I'm going to be late for work.\", 'I am bored', \"I'm in a lot of pain today and had a bad night.\", \"Twitter won't let me download a profile picture.\", 'I got drunk for no reason and felt depressed about revision.', 'Twitter is slowing me down today.', 'Had to leave girlfriend behind for 2 weeks.', 'Being careless with her vocals.', 'I had a lingering illness.', 'I have a headache', 'Nobody comments on my pictures.', 'Ran out of iPod battery and had to take a long bus ride due to poverty.', 'I sucked at bowling.', 'Plane delayed due to weather']\n"
     ]
    },
    {
     "name": "stderr",
     "output_type": "stream",
     "text": [
      "100%|██████████| 41/41 [01:37<00:00,  2.39s/it]\n",
      "Processing:  86%|████████▌ | 134/156 [5:41:06<33:42, 91.92s/it]"
     ]
    },
    {
     "name": "stdout",
     "output_type": "stream",
     "text": [
      "/home/qiang/projects/Digital_mental_health/Dataset/Condidate_sentiment_dataset/1_event_filtered_all/output_chunk_72_event_filter.json\n",
      "[\"Feeling the pain of my friend's situation.\", 'Moving house.', 'Woke up with a bellyache', 'Missed my hair appointment!!!', 'My dad told me to travel alone.', 'I am always tired no matter how much I sleep.', 'My back hurts due to an injury (from playing softball).', 'I had trouble sleeping.', 'Reality will be bad for me soon', 'Missed my fitness class', 'I lost a race to her.', \"I'm out of space.\", 'Got a sore throat and felt tired.', 'A hose leaked water all over the new floating floor.', 'Maddie in Holby died.', 'Encountered a scary statistic', 'My head hurts badly.', 'David Tennant has left', 'Feeling down', 'I ran over a cat.', 'I have a stomach ache', 'I don\\'t think you should date me (can be rewritten to \"Being rejected by someone I\\'m interested in\")', \"It's raining in LA and I don't have a jacket!\", \"Someone's car was damaged by a woman sitting on it.\", \"I don't deserve this\", 'Life as I knew it ceased to exist.', 'My computer was destroyed by a virus.', 'I was late', 'I hate New England weather.', 'Backache', 'I still miss it.', 'This is a travesty', \"I think I'm dying.\", 'Missed bus', 'I suffered from hay fever today.', 'Attended a funeral.', \"Our TV's busted\", \"My client's Linux users can't use SmoothStreaming.\", \"I'll be missing the next 4\", 'Being still sick', 'I smashed it', \"I didn't get enough Ice Tea because my dad and Joe Nugent drank most of it.\", 'experienced long delays on Bruce Highway', 'I missed the convention.', 'My niece got me sick.']\n"
     ]
    },
    {
     "name": "stderr",
     "output_type": "stream",
     "text": [
      "100%|██████████| 45/45 [01:44<00:00,  2.33s/it]\n",
      "Processing:  87%|████████▋ | 135/156 [5:42:50<33:31, 95.81s/it]"
     ]
    },
    {
     "name": "stdout",
     "output_type": "stream",
     "text": [
      "/home/qiang/projects/Digital_mental_health/Dataset/Condidate_sentiment_dataset/1_event_filtered_all/output_chunk_26_event_filter.json\n",
      "[\"Someone didn't follow me on social media.\", 'Feeling bored.', 'Found dead muffins', 'The lead characters in the movie die.', 'There are too many babies on this flight and I forgot my Bose.', 'I picked a bad weekend.', 'Stuck in merging two tools CSS hell', \"I'm always off-topic and sometimes inappropriate.\", \"can't see monitor due to sun glare\", 'My sunburn itches.', 'having a bad day', 'Still feeling exhausted after Vegas trip', 'The Book Expo in Toronto was cancelled.', \"It's not going well\", 'Could not find parking at Alki.', 'I miss you guys', \"I don't feel so good.\", 'I have a stomach ache.', 'Not getting what I wanted (e.g. not getting R18)', 'Missed an event (or opportunity)', 'I will miss Khyy.', \"My boss won't let me leave work.\", \"I couldn't upload my picture.\", \"I'm stuck with an ugly one.\", 'Ready to leave.', 'People make fun of me.', 'Feeling overwhelmed by responsibilities.', 'Being denied sugar.', 'GM Bankruptcy happens', 'My iTunes music library crashed or became unstable.', 'I got annoyed with socialscope due to lack of updates.', \"Had to leave my Mrs (partner) to go to work when I didn't want to.\", \"I couldn't upload a picture because of file size issues.\", 'I had no internet for the weekend', 'I wasted deodorant.', 'Someone in the family died', 'The Hookah is closed/R.I.P.', \"I couldn't sleep.\", 'Heard crappy music on the radio', 'Being sick all week.', 'I missed someone.', \"I made a huge mistake and didn't listen to her.\", 'Google translation service failed to translate my tweet.', 'Never getting what I want', 'I cried', 'I felt saddened and confused.', 'I lost my pets.']\n"
     ]
    },
    {
     "name": "stderr",
     "output_type": "stream",
     "text": [
      "100%|██████████| 47/47 [01:44<00:00,  2.23s/it]\n",
      "Processing:  87%|████████▋ | 136/156 [5:44:35<32:49, 98.49s/it]"
     ]
    },
    {
     "name": "stdout",
     "output_type": "stream",
     "text": [
      "/home/qiang/projects/Digital_mental_health/Dataset/Condidate_sentiment_dataset/1_event_filtered_all/output_chunk_48_event_filter.json\n",
      "['Found out about your boot camp too late.', 'My cat of 10 years stopped eating and is very sick.', 'My dog is getting old.', 'I was scared of the girls in the year above me at school.', 'People were jerks.', 'I lost followers.', \"I'm no longer friends with anyone.\", 'The fire alarm went off due to someone burning food in the microwave.', 'The video is not working.', \"I'm going to fail my exams.\", 'Got a bad headache', 'Awful things happen.', 'My feet are sore', 'Having o exams.', 'Had a bad day', 'Got a rash from being in the sun for 35 hours.', \"Didn't hear back about the belt thing.\", 'My son has a high fever and cannot participate in Relay for Life.', 'My hubby gets bad allergies.', 'My stomach is unwell.', 'Did something stupid', 'Woke up too early for work.', 'The trial messages ruined the sample experience and it had bugs and ran slow.', 'My phone is overheating.', 'My loved ones are leaving.', 'Listening to a sad song', 'My internet was down', 'Overwhelmed by workload', 'I have to miss GUMBO.', 'I am broke.', 'Our ENTIRE first floor is flooded.', 'I feel really sick and my teeth hurt.', 'Eye still hurts', 'I have to wake up early tomorrow.', \"The hot tub won't be ready this weekend.\", 'I killed my bromeliad.', 'Something bad happened to Drace.', 'I have a brain tumor.', 'The weather was overcast and rainy.', 'Experienced bad times', 'Not being invited to a gathering.', \"Can't stand hot weather\", \"Can't beat all-time low.\", 'I hate my current hairstyle.']\n"
     ]
    },
    {
     "name": "stderr",
     "output_type": "stream",
     "text": [
      "100%|██████████| 44/44 [01:40<00:00,  2.29s/it]\n",
      "Processing:  88%|████████▊ | 137/156 [5:46:16<31:25, 99.22s/it]"
     ]
    },
    {
     "name": "stdout",
     "output_type": "stream",
     "text": [
      "/home/qiang/projects/Digital_mental_health/Dataset/Condidate_sentiment_dataset/1_event_filtered_all/output_chunk_119_event_filter.json\n",
      "[\"Couldn't attend A-Kon.\", 'Someone judged me.', 'They never made it over here during the last ten years', \"They can't find the parent.\", 'Losing makeup bags', \"Cy's place is too near to me.\", 'Feeling discouraged', \"My internet isn't working\", \"Taylena's relationship ended due to his fame.\", 'Kirstie got hurt.', 'I am sick', \"Jamies' free views are dead\", 'Someone wrote something mean and cruel to a bunny.', 'Her brother is having a bad day', 'It keeps raining on me', \"Had to pay an extra bill from last year's taxes.\", 'I have neck pain with a bad twinge.', 'PayPal refused to let me verify my account.', 'Being unable to have booze on a Friday/weekend.', 'Did not win Kelly Clarkson tickets.', 'Got hit in the head with bloody balls', 'Camera broken and kitchen stuff in boxes.', 'Blinded again', 'Something annoys me.', 'Forgot my daily booth yesterday.', 'I had a terrible headache.', 'Misses her friends', 'Thinking about the future makes me stressed and sad.', \"I didn't get an egg and bacon sandwich.\", 'I gained weight.', 'I had a bad first day at work.', 'Work sucks.', \"I'm going to fail.\", 'Had a bad headache, was tired, and had high blood sugar levels.', 'I got worse symptoms (aches and chills) from my cold.', 'My car was towed from my own parking space.', 'My account was used to send out emails about random stuff without my permission.', 'Laptop crashed and got a Blue Screen of Death (BSOD).', 'Feeling sad online', 'My iPod died.', 'My cat keeps meowing and I feel so bad.', 'I lost my wallet', 'Feeling sad', 'The bad weather.', 'There is no water.']\n"
     ]
    },
    {
     "name": "stderr",
     "output_type": "stream",
     "text": [
      "100%|██████████| 45/45 [01:45<00:00,  2.35s/it]\n",
      "Processing:  88%|████████▊ | 138/156 [5:48:02<30:21, 101.21s/it]"
     ]
    },
    {
     "name": "stdout",
     "output_type": "stream",
     "text": [
      "/home/qiang/projects/Digital_mental_health/Dataset/Condidate_sentiment_dataset/1_event_filtered_all/output_chunk_39_event_filter.json\n",
      "[\"She's in a lot of pain.\", 'I am poor', 'I am not at home.', \"I wasn't informed about something important.\", \"I have an itchy butt and can't scratch it.\", 'Was not allowed to check my text messages at work.', \"I will miss yours and others' posts on social media.\", 'It feels like a hot box everywhere I go.', 'I ended up heartbroken.', \"I've experienced apathy in customer service situations.\", 'I am hungry.', \"My friend's mom won't let us hang out.\", 'Wasted time watching excessive TV.', 'Fell down the stairs and hurt my bum', 'Firefox crashed on me.', 'Being stuck at work all day, every day during the summer.', 'I was underpaid.', 'I almost cried.', \"Can't rest and exhausted.\", 'My Twitter account was hacked.', 'It was officially announced as \"bad luck day\".', 'No room for me.', 'Someone smacked me.', 'I am far away from someone I care about.', 'My truck broke down.', 'I hate my hair.', 'I was robbed of a place in the final.', 'I feel sorry for the way she spells her name', 'I lost my way', 'Feeling unwell.', \"Can't find a tempting TV series.\", 'I am bored.', 'Could not find a Blackberry Trackball at a Verizon retailer.', 'feeling trapped in a cubicle', 'My tea and oatmeal were cold.', 'Nothing to do tonight', \"Babysitting kids who won't let me play Wii with them.\", \"I don't own a system that can play Batman: Arkham Asylum.\", 'I was hungover.', 'My pet fish, Udon, died.', 'Nearly died from roasting.']\n"
     ]
    },
    {
     "name": "stderr",
     "output_type": "stream",
     "text": [
      "100%|██████████| 41/41 [01:36<00:00,  2.35s/it]\n",
      "Processing:  89%|████████▉ | 139/156 [5:49:38<28:15, 99.75s/it] "
     ]
    },
    {
     "name": "stdout",
     "output_type": "stream",
     "text": [
      "/home/qiang/projects/Digital_mental_health/Dataset/Condidate_sentiment_dataset/1_event_filtered_all/output_chunk_55_event_filter.json\n",
      "['Got sick with SARS.', 'A coworker I like is leaving.', 'The Arena magazine folded due to the recession.', 'Hollyoaks made me sad.', 'My clothes are falling apart.', 'My landlord turns into road rage', \"I'm moving away from my friends.\", 'I was asked to stop playing music.', 'I hate cheese.', 'Not being invited.', 'Not feeling great today.', 'Moving office tomorrow', 'I have heartburn and backaches.', 'My tummy hurts', 'I feel bad', 'Lost luggage', 'I hate something.', \"It's cold in here.\", 'I feel so sad', 'Having a massive headache', 'Feeling really old.', 'Ozzy not feeling well due to possible UTI.', \"I'm late\", 'I have a conflicting schedule between coaching a tournament and my vacation.', 'I had to work on a day with good weather.', 'Working on Saturday morning.', \"My aunt will be home soon and I'm crying my eyes out\", 'My tailbone hurts.', 'Hearing a sad story about a couple in their mid-30s.', 'Had to go on bed rest due to pneumonia.', 'It rains', 'I have three exams next week.', \"I won't be able to see Ashley Tisdale in Berlin on 6th June.\", 'I had to go on a long car drive.', 'Age destroys youth', \"Ran out of time and didn't get anything done.\", 'hates these khaki pants', \"I'm sad\", 'Had fewer followers than expected.', 'Missing Dave.', 'Being insulted or cursed at online.', 'I hate drinking alone.', \"I'm upset with by them.\", 'Writing in yearbooks makes me sad.']\n"
     ]
    },
    {
     "name": "stderr",
     "output_type": "stream",
     "text": [
      "100%|██████████| 44/44 [01:46<00:00,  2.43s/it]\n",
      "Processing:  90%|████████▉ | 140/156 [5:51:25<27:10, 101.91s/it]"
     ]
    },
    {
     "name": "stdout",
     "output_type": "stream",
     "text": [
      "/home/qiang/projects/Digital_mental_health/Dataset/Condidate_sentiment_dataset/1_event_filtered_all/output_chunk_9_event_filter.json\n",
      "['I am unemployed.', \"Dew tokens haven't been working for me all day.\", \"I'm freezing in math class.\", \"I've run out of money.\", 'Unanticipated thunderstorm ruined my camping trip', 'Got swine flu in Melbourne', 'My cheap sunglasses are falling apart.', 'Slept on a hard bed that hurt my back.', 'Ate too much lunch', \"Today doesn't look like it's going to work\", 'Got Chili Beans on my shirt', 'My wrist hurts too much.', 'I have a sore throat.', 'My business data was lost due to a broken boot part.', 'Refused to do tasks despite having things to do.', 'got hurt while biking on a rough trail during family vacation', 'No one wants to sit with me at lunch.', \"My sister isn't going to be happy\", \"I couldn't go rollerblading down Shoreline.\", \"I have a section of my yard that won't get any water due to the mud surrounding the sprinkler.\", \"I am spamming my followers' accounts.\", 'I cancelled Silverstone show', \"I think I'm going insane.\", \"I couldn't figure out the lab.\", 'Have to work on Sunday.', 'Smoking around you again.', 'Having a dismal week.', 'My public talk got canceled.', \"I'm going to miss someone today.\", 'I bought a gas dryer that was labeled as electric.', 'Feeling extremely sad', 'I have inflamed lungs', \"Waiting for someone who doesn't show up.\", \"FreeSat's coverage is really bad.\", 'Found out my neighbors are prejudiced.', 'Ian Watkins stopped following me.', \"My follower's account was deleted due to strange activities.\", \"I've been superseded.\"]\n"
     ]
    },
    {
     "name": "stderr",
     "output_type": "stream",
     "text": [
      "100%|██████████| 38/38 [01:29<00:00,  2.35s/it]\n",
      "Processing:  90%|█████████ | 141/156 [5:52:55<24:32, 98.17s/it] "
     ]
    },
    {
     "name": "stdout",
     "output_type": "stream",
     "text": [
      "/home/qiang/projects/Digital_mental_health/Dataset/Condidate_sentiment_dataset/1_event_filtered_all/output_chunk_110_event_filter.json\n",
      "['I feel lonely/bored.', 'I am going to miss seeing everyone all the time', \"Rem's dog got mad when I tried to put him in Avi's face.\", \"It's too warm outside.\", 'My heart was broken.', 'Justin has a high fever', 'Stuck in an office', 'I had a bad dream.', 'Spent the day feeling sorry for myself with a cold.', 'Had to go grocery shopping.', 'I felt drained of energy.', \"It's too hot.\", 'I hated biology class.', \"I'm so bored\", 'Becoming too old to go out.', 'Had a bad lunch with Dan', \"I'm angry as hell\", 'My new dress looks horrible.', 'I experienced pain in exploring medium maps', 'Have to report again on Monday.', 'This really hurts and sucks.', 'My laptop is completely broken, and my computer is acting up.', 'Miley quits Hannah Montana.', 'My friends forget about me when they move away.', 'The newest versions are not good enough', 'I got in a car accident', 'My bum aches now!!', 'I lost contact with a friend.', 'My husband acts immaturely.', 'I fear weekends.', 'Wasted time', 'Life sucks', 'Husband is away from home.', 'I ran out of ideas for my song.', 'I was hit by a truck.', \"I won't see him for 2-3 months.\", \"I haven't been able to find a credit card with a high enough limit to transfer my $8,000 balance.\", \"Didn't see spreading of poo.\", 'My phone was killed by the rain']\n"
     ]
    },
    {
     "name": "stderr",
     "output_type": "stream",
     "text": [
      "100%|██████████| 39/39 [01:28<00:00,  2.28s/it]\n",
      "Processing:  91%|█████████ | 142/156 [5:54:24<22:15, 95.38s/it]"
     ]
    },
    {
     "name": "stdout",
     "output_type": "stream",
     "text": [
      "/home/qiang/projects/Digital_mental_health/Dataset/Condidate_sentiment_dataset/1_event_filtered_all/output_chunk_13_event_filter.json\n",
      "[\"I don't have a mustache.\", 'Having a bad day that got worse', 'My photos were corrupted due to a problem between Windows and my SD card.', \"The website won't let me access it due to my location.\", \"People think I'm not interesting.\", 'Attending a funeral.', 'Opera 10 is not Google friendly', 'Messed up my black outfit', \"I couldn't sleep last night.\", 'Have an annoying zit above my lip.', 'Had a scratchy throat.', \"I think I'm sick\", \"It's this damp weather\", 'Failed to resist checking email between 10 pm and 6 am.', 'My daughter has a separation anxiety attack when I leave her sight.', 'I learned some scary things about my former neighbors.', \"My friends ignore me when I'm not around.\", \"Feeling ashamed about one's body.\", 'A small girl cried.', 'Oprah jumped in front of me again', 'I gave up on Underbelly.', 'I was harassed on Twitter.', \"Can't find a job.\", 'Studying has taken its toll.', \"I got sunburn and it's really uncomfortable\", 'Missing my baby ducks', 'The dryer broke down.', 'My neck hurts so bad.', 'I have to stay at work until 6:30.', \"Our teacher, who is old and grumpy, doesn't like us being happy.\", 'I had a proper migraine.', 'getting an angry tooth pulled', \"I'm going to miss someone (e.g. Miss Suhana)\", 'Got attacked by bees near a hive.', 'Hearing \"see you Monday\"', 'The Speakeasy theaters closed down.', 'Could not eat dinner due to feeling unwell.', 'Being treated cruelly by people.', 'Being sick at home.', 'I have a headache.', \"Watching Hollie Steel's crying is painful.\", 'My prints were ruined.']\n"
     ]
    },
    {
     "name": "stderr",
     "output_type": "stream",
     "text": [
      "100%|██████████| 42/42 [01:44<00:00,  2.50s/it]\n",
      "Processing:  92%|█████████▏| 143/156 [5:56:08<21:16, 98.21s/it]"
     ]
    },
    {
     "name": "stdout",
     "output_type": "stream",
     "text": [
      "/home/qiang/projects/Digital_mental_health/Dataset/Condidate_sentiment_dataset/1_event_filtered_all/output_chunk_94_event_filter.json\n",
      "['Feeling tired', 'Having a terrible day', \"I didn't get enough sleep.\", 'Missed my friends', 'I was told not to say anything anymore.', \"I just missed Jonas' webcast.\", 'Waiting for mom to come home.', 'My plane is in the shop.', \"I didn't like the day.\", \"I'm banned by Court Order\", 'I was not impressed', \"You're not playing Kos in July\", 'I was not allowed to go on a trip to Lahore.', 'Wanting someone to come to my workplace but nobody does.', 'I have severe allergy issues due to excessive cotton exposure.', \"Didn't get a desired username on Twitter.\", 'Waited for three hours instead of thirty minutes.', 'Fatboy Slim was removed from the EDC lineup.', 'Having bad friends', 'Being told to rotate something in a condescending manner.', 'The Aila Cyclone damaged my house in Calcutta.', 'Yorkshire not doing well in a cricket match against Lancashire.', 'Feeling pressure to be perfect.', 'Got injured in the mouth', 'Experienced trauma', 'I have exams.', 'Got wrong answers on a quiz.', 'Had a bad day at home', 'Got followed by a bot selling an autofollow program.', \"We're stuck in the house on a rainy day because we have no car and couldn't go to the post office.\", 'Encountered a hater', 'I lost my health.', 'Waiting for the bus.', 'I am still sick', \"Scrubs isn't coming back.\", \"The gas gauge isn't looking healthy\", 'Having to work with an idiot.', \"Someone I love cries and I can't comfort them.\", \"I didn't tweet much today.\", 'My daddy left to work again.']\n"
     ]
    },
    {
     "name": "stderr",
     "output_type": "stream",
     "text": [
      "100%|██████████| 40/40 [01:32<00:00,  2.30s/it]\n",
      "Processing:  92%|█████████▏| 144/156 [5:57:40<19:16, 96.36s/it]"
     ]
    },
    {
     "name": "stdout",
     "output_type": "stream",
     "text": [
      "/home/qiang/projects/Digital_mental_health/Dataset/Condidate_sentiment_dataset/1_event_filtered_all/output_chunk_101_event_filter.json\n",
      "['I hardly talk to anyone anymore', 'Working sucks for me.', 'House hunting was a pain; house shifting is a super pain.', 'I have a big headache.', 'Went to the gym alone', 'My man was busy when I called him.', 'I spend more time alone than with friends and family.', \"I'm taking a stressful exam.\", 'I got an ear infection.', 'I have an essay due on Monday.', 'Waking up feeling exhausted', 'Having a bad day', \"I don't get Twitter followers.\", 'feels exhausted and has aching feet.', 'TwitterBerry hates me', 'I want to take my own life.', 'My mom fell down the stairs and broke her toe.', \"I'm ill in bed with stomach pain\", 'Your car got damaged or was in an accident.', \"It's extremely cold.\", 'A guy called my phone to verify the number.', 'I hate change', 'Feeling extremely tired.', 'failed to legally watch a movie online', \"I don't feel very well.\", 'My dog died', 'Missing a rock climbing trip', 'Having a hard time using Hulu.', 'GM shares dropped to $0.88 per share.', 'The moving van was parked a few blocks away.', 'I have nothing to eat.', \"Won't be able to participate in tomorrow's Texas Cup race at Alkek.\", \"The Walmart closest to L.A. doesn't have cheesecake brownies.\", \"I'm hungry\", 'The market goes wildly out of control.', 'I have no money', 'Had a bad day/week.', 'Stuck in traffic on the M8.', \"I'm unable to find what I want while dress shopping.\", \"I'm missing Tennessee a lot today\"]\n"
     ]
    },
    {
     "name": "stderr",
     "output_type": "stream",
     "text": [
      "100%|██████████| 40/40 [01:35<00:00,  2.39s/it]\n",
      "Processing:  93%|█████████▎| 145/156 [5:59:16<17:38, 96.20s/it]"
     ]
    },
    {
     "name": "stdout",
     "output_type": "stream",
     "text": [
      "/home/qiang/projects/Digital_mental_health/Dataset/Condidate_sentiment_dataset/1_event_filtered_all/output_chunk_78_event_filter.json\n",
      "[\"My phone's battery is about to die.\", 'My purse was stolen.', 'I chickened out of a contest.', 'A friend passed away.', 'I failed', 'Bitten to blood by my cat.', 'I am sore and have to work for another two hours.', 'I missed someone.', 'Long distances', 'Had to take a bath again.', 'I shall annoyingly tweet at you tomorrow.', 'Feeling empty inside.', 'I felt sick to my stomach.', 'My friend went to California without me.', 'I was denied access to download something due to my location.', 'Found a bug in the RHEL5 bnx2 driver.', 'Had to attend a Girl Scout meeting when not feeling like it.', 'I am constantly sneezing and getting tired.', \"She's embarrassed.\", 'A movie goes straight to DivX or Internet.', 'Wasting my time', 'Studying environmental issues is driving me mental', 'Feeling embarrassed (implied by \"i know so lame\")', 'Laptop battery dying', 'I cannot sleep.', 'He still is bad', 'The plane was an hour late due to rain.', 'I miss my friends from high school.', 'I suck.', 'My favorite shirt was ruined by bleach.', 'I found out one of my ankles is swollen and it hurts.', \"My knee is hurting so bad I'm limping.\", 'I saw something that made me sad', 'I burnt my hand.', \"I'm sad.\", \"It's too hot to sleep.\", 'Moving in the heat', 'I need to use multiple Python version-specific security tools.', 'Being considered stupid', \"I'm still hungry.\", 'Feeling madly sorry for myself.', \"Can't gauge the time of day in my office.\"]\n"
     ]
    },
    {
     "name": "stderr",
     "output_type": "stream",
     "text": [
      "100%|██████████| 42/42 [01:34<00:00,  2.26s/it]\n",
      "Processing:  94%|█████████▎| 146/156 [6:00:51<15:57, 95.79s/it]"
     ]
    },
    {
     "name": "stdout",
     "output_type": "stream",
     "text": [
      "/home/qiang/projects/Digital_mental_health/Dataset/Condidate_sentiment_dataset/1_event_filtered_all/output_chunk_141_event_filter.json\n",
      "['Going out on Thursdays is a terrible idea.', \"It's not fair.\", 'Getting bored sitting at the hotel room the entire day', \"The Dreambears won't get through\", 'I attended a funeral.', 'I got headaches because of the hot-cold transition.', 'Head hurt', 'Has a sore throat.', 'I have been feeling very sick', \"I didn't get the message.\", 'Had to move out of the Arizona house.', 'I felt unprepared for an exam.', \"I didn't get a perfect score on the quiz.\", 'I cried', \"I'm not ready for graduation.\", \"I had a freakin' migraine\", 'I got worried', \"There's a spider in my room.\", 'I live in a house infested with spiders.', \"I'm sick today\", \"My parents wouldn't fork out a large amount of money.\", 'Stuck at work', 'I feel extremely frustrated or angry.', 'reminiscing about last shift', \"I won't have any fish fry left for me.\", 'There is nothing to do at school.', \"I'm so hungry\", 'Wal-Mart and Liquor stores get blown up', \"Wasting someone's time.\", \"Can't see LTJ in June.\", 'I was deceived by a false claim.', 'My eyes hurt', 'My TI89 died.', 'I became unemployed.', 'Having a bad mood', \"My car's CD player is broken.\", 'Having a bad day at work', 'Being called a derogatory term.', 'Getting a tooth pulled, scheduling a bridge that might need a root canal.', 'My blog was marked as a phishing site', 'They had a headache the morning after']\n"
     ]
    },
    {
     "name": "stderr",
     "output_type": "stream",
     "text": [
      "100%|██████████| 41/41 [01:32<00:00,  2.25s/it]\n",
      "Processing:  94%|█████████▍| 147/156 [6:02:23<14:12, 94.74s/it]"
     ]
    },
    {
     "name": "stdout",
     "output_type": "stream",
     "text": [
      "/home/qiang/projects/Digital_mental_health/Dataset/Condidate_sentiment_dataset/1_event_filtered_all/output_chunk_85_event_filter.json\n",
      "['The sun burned me today', 'Received a dirty letter from Danny.', 'Having a migraine', 'I broke my battery again', \"Someone I converse with doesn't follow me back on social media.\", \"I keep on falling asleep when I'm supposed to be awake.\", 'The AC in my house broke', 'I felt like a loser.', 'I was a hostage.', 'Not feeling well', 'I was sad', 'Accused of being \"One Sided\" on an issue.', \"Can't sleep and feeling nauseous.\", 'I am super stressed!', 'Got bad news', \"It's 90 degrees outside.\", 'North Korea is going to kill us.', 'I messed up my back', 'My wrists are not getting better.', 'Having a cold', 'My head is hurtin', 'God said \"I hate you\" to me.', 'People were rude about my vomiting.', \"I'm going to miss you.\", 'Struggling with a message.', 'I got sick with flu and sore throat.', 'I got sunburn on my legs.', 'I got severely sick and vomited.', 'My back and arms are killing me.', 'I always end up failing to get what I want.', 'Nobody believed me or listened to my proof.', 'Feeling old, tired, and wasted.', 'My new computer will not arrive until the end of June.', 'I got sunburnt', \"Someone thinks I'm crazy.\", 'I hurt my left knee.', 'Not talking to my Victor.', \"It's failing on rb-rubygems\", 'I had a car accident.', 'Missed Iron Chef competition.', 'You did something bad.']\n"
     ]
    },
    {
     "name": "stderr",
     "output_type": "stream",
     "text": [
      "100%|██████████| 41/41 [01:32<00:00,  2.26s/it]\n",
      "Processing:  95%|█████████▍| 148/156 [6:03:56<12:32, 94.08s/it]"
     ]
    },
    {
     "name": "stdout",
     "output_type": "stream",
     "text": [
      "/home/qiang/projects/Digital_mental_health/Dataset/Condidate_sentiment_dataset/1_event_filtered_all/output_chunk_147_event_filter.json\n",
      "['Got sunburned.', \"My mom's Season 3 of Weeds DVD got burnt up in a family friend's mobile home.\", 'My kitty is losing lots of weight.', 'My phone crashed.', 'Walked away sad-faced after not buying a laptop.', \"I'm disappointed by a song I had been waiting for.\", 'Cannot fall asleep.', \"I'm already so hungry.\", 'Have a headache', 'My computer keeps going to sleep due to no internet access and lack of files to work on.', \"I don't have MTV.\", 'People are coming to kill my mouse on Monday.', 'The weather forecast was inaccurate.', 'Feeling sad', 'My laptop stopped charging again.', '26 pin multi core cable went bad.', 'A female robin flew into my window and died.', \"I was made to cry on Britain's Got Talent tonight.\", 'I got exam week this week', 'Blackout in the city', 'Having only 1GB RAM.', \"He doesn't really exist.\", 'I got a disappointing report card', 'I had a dream where I was fighting a midget in Boston Market.', \"Tweets didn't paint a good picture.\", 'I felt like a criminal due to the temperature screening.', \"couldn't afford it\", 'Missing loved ones already', 'My PC blue screened on me.', 'Having a nightmare', 'Being stuck behind a desk until 5.', 'I missed someone I loved.', 'Upgrades might have to wait yet another two weeks for placements.', 'I feel very tired.', 'I was forced to learn multiple languages.', 'I may shed a tear', 'My cat is in pain.', 'I cut my thumb on a broken coffee pot.', \"Can't get it to load.\", 'something sucks', 'I lost my game by 3 points.', 'Someone was rude to me.']\n"
     ]
    },
    {
     "name": "stderr",
     "output_type": "stream",
     "text": [
      "100%|██████████| 42/42 [01:42<00:00,  2.45s/it]\n",
      "Processing:  96%|█████████▌| 149/156 [6:05:39<11:17, 96.74s/it]"
     ]
    },
    {
     "name": "stdout",
     "output_type": "stream",
     "text": [
      "/home/qiang/projects/Digital_mental_health/Dataset/Condidate_sentiment_dataset/1_event_filtered_all/output_chunk_59_event_filter.json\n",
      "[\"My trousers won't fit.\", \"Tony didn't bring me anything.\", 'Power Outage and door to freezer propped open.', 'Getting sick during exams', 'Something unfair happened', \"I couldn't get things to work.\", 'My dreams were crushed.', 'A car of Asians called out to me and I felt threatened.', \"I'm ill\", \"Feel bad because can't sing along in church.\", 'Got an annoying date stamp on all my pictures.', 'A dog was abandoned in my town', 'I have drama almost all day.', 'Could not find any extendable ones.', 'There is no parking space.', 'I buy more of them and dig a deeper hole.', \"I didn't like the new Terminator movie.\", 'Had to go to work', 'I injured my foot.', 'The firing of Martin Streek.', 'I cannot afford to buy my sister a gift for her graduation.', \"My sister doesn't go to Winchester anymore.\", \"Someone won't stop talking.\", \"I don't get to see my boys tomorrow.\", 'The tickets are sold out.', 'Feeling low and depressed', 'I miss my home!', 'Being treated rudely.', 'I made a mistake.', 'I have to do summer school.', \"You didn't respond to my text message.\", 'I failed English.', \"Braxton wouldn't sleep.\", \"I'm nervous about what I'm gonna say later.\", 'Mumbai Indians lost.', \"I'm stuck inside working today.\", 'Missing someone I care about.', 'Watched a very depressing episode of Jon & Kate.', \"Ruin Mike0hh's birthday.\", \"My partner doesn't love me anymore.\", 'No air conditioning on a hot day.', 'Got a headache']\n"
     ]
    },
    {
     "name": "stderr",
     "output_type": "stream",
     "text": [
      "100%|██████████| 42/42 [01:38<00:00,  2.35s/it]\n",
      "Processing:  96%|█████████▌| 150/156 [6:07:18<09:44, 97.38s/it]"
     ]
    },
    {
     "name": "stdout",
     "output_type": "stream",
     "text": [
      "/home/qiang/projects/Digital_mental_health/Dataset/Condidate_sentiment_dataset/1_event_filtered_all/output_chunk_115_event_filter.json\n",
      "['I hurt my thumb.', \"I'm not going to make it this year\", 'My laptop gets too hot.', 'Something truly awful happened', 'I cut my finger off!', \"I didn't have enough money to make a call.\", 'Did not get any ribbons on Field Day.', 'I am still sick.', 'Confirmation that Austin & Sophia did not have a Twitter account.', 'Encountered hostile people (hordies)', 'Got an LDAP Schema Error', 'I had to move from computer to computer to render and draw.', 'Loads of shizze happened', 'I disappointed someone', \"Jimmie didn't do so great.\", 'It rains.', 'My TV broke.', 'I feel like giving up.', \"Can't add photos on Facebook\", \"My life isn't going the way I want it to.\", \"It's pouring rain.\", \"Cops tell Tori's dad they may never find her remains\", 'My phone is messed up.', 'I lost the shirt.', 'Heard one of the saddest songs', 'I miss Georgia.', 'I am very tired', 'My computer died due to a virus.', 'Running late', 'I have a cold', 'I had surgery.', 'Being called a derogatory name (grimmy)', 'Missed the newest version of Glade on Debian.', 'I am alone at home.', 'My back hurts.', 'I forgot my iPhone cord at home.', 'I was very sad.', 'My back is killing me', 'My tongue hurts.', 'something bad happens', 'Sneezing hurts my back.', 'feeling sad', 'punched myself in the face', 'I was disappointed by a jar of curry sauce having no pepper.']\n"
     ]
    },
    {
     "name": "stderr",
     "output_type": "stream",
     "text": [
      "100%|██████████| 44/44 [01:37<00:00,  2.22s/it]\n",
      "Processing:  97%|█████████▋| 151/156 [6:08:55<08:07, 97.42s/it]"
     ]
    },
    {
     "name": "stdout",
     "output_type": "stream",
     "text": [
      "/home/qiang/projects/Digital_mental_health/Dataset/Condidate_sentiment_dataset/1_event_filtered_all/output_chunk_61_event_filter.json\n",
      "[\"I couldn't sleep.\", \"I haven't figured out how to work out without sweating.\", 'I had a headache', 'I hate living here!', 'Missed an episode of Neighbours', 'I came down with an illness.', \"He's going to break up with you.\", 'Hurting the one I love the most.', \"I couldn't go to my own party.\", 'Being late due to traffic.', \"I'm bored and don't want to stay home.\", 'Waking up to gun shots', 'I have to work my 2nd gig today.', 'I am highly upset with everything and everybody', \"I'm gonna miss something important.\", 'The theatre gets hit by a meteor.', 'Forced to attend a lock-in.', \"Bella doesn't love me anymore\", 'Crowdsourcing failed', \"It's so hot I don't want to leave my house.\", 'It took too long to arrive.', 'Wild turkeys threaten my bunny rabbit.', \"Got yesterday's headache back.\", 'I missed out again.', 'Found out some bad news in a public manner instead of through family.', \"I banged my elbow and it's bleeding.\", 'Nothing goes perfectly in life.', 'I am extremely bored.', \"Can't drink\", 'Being with the kids is the hardest job ever.', 'Went on a stupid holiday', 'I cheat on my diet.', 'No luck calling while in the store.', \"I couldn't do anything over the weekend\", 'Got stuck in traffic and was late.', 'It rained.', 'I have a headache', 'I get taken advantage of.', 'I am having difficulties with Twitter']\n"
     ]
    },
    {
     "name": "stderr",
     "output_type": "stream",
     "text": [
      "100%|██████████| 39/39 [01:28<00:00,  2.28s/it]\n",
      "Processing:  97%|█████████▋| 152/156 [6:10:24<06:19, 94.83s/it]"
     ]
    },
    {
     "name": "stdout",
     "output_type": "stream",
     "text": [
      "/home/qiang/projects/Digital_mental_health/Dataset/Condidate_sentiment_dataset/1_event_filtered_all/output_chunk_148_event_filter.json\n",
      "['I graduated from high school.', \"I can't go see the movie today.\", 'Had difficulty eating right.', \"I don't feel well\", 'I experienced a lot of boredom and stress.', 'Got a bad haircut.', 'I killed my Furby', 'I let my slight aches be an excuse not to run.', 'Having nothing to look forward to.', 'I had Internet access restrictions at work.', 'We had to suffer through two old episodes tonight', 'Mr. Rat died suddenly.', 'I found GIMP to be confusing.', 'My fingers have painful pokey feelings.', \"Didn't finish anything.\", 'The first tweet for today failed.', 'My feet are killing me', 'Missed my husband.', \"I couldn't stand the heat and humidity.\", \"I didn't get it!\", 'My phone died on me.', 'I am stuck at work on a nice day.', 'Feeling very tired', 'The bird is back.', 'Leaving Ocean City', \"Twitter doesn't allow me to change my background image.\", \"Didn't want to go to work.\", 'The city smells like dead fish', 'Felt bored out of my mind', 'Did not get his 24 fix tonight', \"He wasn't there today.\", 'I had a bad animal rights presentation.', \"Willy has to get a CT scan because he can't walk properly.\", \"I'm getting hungry\", 'Deleted her number from my phone contacts', 'You made me sad.', \"It's my colleagues' last day at work.\", 'The lights killed the mood', \"My lip ring doesn't cooperate with me.\", 'Our neighbor uprooted the mushroom.', \"I missed my daughter's 1st birthday party.\", \"My keyboard's getting worse.\", 'I am lonely and broke.']\n"
     ]
    },
    {
     "name": "stderr",
     "output_type": "stream",
     "text": [
      "100%|██████████| 43/43 [01:45<00:00,  2.46s/it]\n",
      "Processing:  98%|█████████▊| 153/156 [6:12:10<04:54, 98.14s/it]"
     ]
    },
    {
     "name": "stdout",
     "output_type": "stream",
     "text": [
      "/home/qiang/projects/Digital_mental_health/Dataset/Condidate_sentiment_dataset/1_event_filtered_all/output_chunk_62_event_filter.json\n",
      "['Having to work on a computer while others are on vacation.', \"I'm not going to the Crafty Raft.\", 'Struggling with a modern assignment.', 'I felt left out', 'I got a bruise', \"Can't go paintballing tonight\", 'Having too much work with not enough time.', \"Depeche Mode concert was cancelled due to Dave Gahan's tumor.\", 'My camera was broken.', 'Feeling sick to my stomach today', 'My friend is going insane.', \"Cut my left index finger and it's still bleeding.\", 'My birthday weekend plans were ruined.', 'No one will accompany me to the vintage paper show.', \"It's freakingly cold.\", 'I did not receive my package in the mail.', 'Dealing with horrible mothers.', 'Lost a bet to Chris', 'Missed the forbidden fruit.', 'I got re-injured with a serious muscle issue in my back and a broken wrist.', \"Didn't get to see UP\", 'The store is having a closing down sale.', 'I forgot to take my hay fever medicine yesterday.', 'My SIM card is corrupted.', 'I got in a car crash.', 'Spilled a whole cup of hot chocolate on my MacBook keyboard.', \"I want an android but can't have one.\", 'I got lost.', 'Someone touched my mom.', 'My eyes have gotten bad.', 'My dad wants me to take him food at an early time.', 'I have to go to class on that day.', 'Feeling lame', 'Had to leave ridiculously early tomorrow.', 'Had a bad day with stupid writing.', 'I cannot sleep.', 'My TV is not working.', 'I was forced to delete emails or buy more storage space.', 'Cleaned four bathrooms this afternoon.']\n"
     ]
    },
    {
     "name": "stderr",
     "output_type": "stream",
     "text": [
      "100%|██████████| 39/39 [01:37<00:00,  2.50s/it]\n",
      "Processing:  99%|█████████▊| 154/156 [6:13:48<03:16, 98.01s/it]"
     ]
    },
    {
     "name": "stdout",
     "output_type": "stream",
     "text": [
      "/home/qiang/projects/Digital_mental_health/Dataset/Condidate_sentiment_dataset/1_event_filtered_all/output_chunk_34_event_filter.json\n",
      "[\"I'm going to be late for a job interview.\", 'I got stomach discomfort from coffee at work.', 'Someone wanted to spank me', 'No one liked my answers to life.', 'My phone is broken.', 'Sprained my ankle badly and tore some stuff.', 'I hate Photobucket!', 'This week has been too long', 'Lost money at work.', 'My brother woke me up.', 'I hate moving', 'I had a very bad dream.', 'Been sick all week', \"Did not get through to the final of Britain's Got Talent.\", 'I almost passed out on Twitter.', 'Woke up too early', 'Feeling lonely', 'Had trouble tying my shoe.', 'I miss Tweetdeck!', 'Crashing from my WI high school football team.', 'I got socked in the eye.', 'I feel ashamed of myself.', 'My parents watching terrible TV makes me sad.', 'Trapped in an unwanted location.', 'My friend never had time for me.', 'Having only 80 followers.', 'The dogs are going to die.', 'Feeling extremely ill', 'My respect for Travis Clark has gone down.', 'Twitter sucks', 'Held hostage at work by slow UPS delivery', 'Being accused of having an addiction.', 'I am too freaky for followers.', 'I have to wake up early.', 'I got flu', 'Having asthma.', 'Having problems with following and unfollowing people on social media.', 'Relationship failed to start', 'My car broke down.', 'Somebody hacked into my email.', 'I saw a sad scene in Terminator 2 where Arnie dies.']\n"
     ]
    },
    {
     "name": "stderr",
     "output_type": "stream",
     "text": [
      "100%|██████████| 41/41 [01:38<00:00,  2.39s/it]\n",
      "Processing:  99%|█████████▉| 155/156 [6:15:26<01:38, 98.05s/it]"
     ]
    },
    {
     "name": "stdout",
     "output_type": "stream",
     "text": [
      "/home/qiang/projects/Digital_mental_health/Dataset/Condidate_sentiment_dataset/1_event_filtered_all/output_chunk_8_event_filter.json\n",
      "['My room is too hot.', 'My arms hurt!', \"I'm so hungry!\", \"Can't find pink tank top!!!\", \"Being told I'm weird and need to lay off smoking.\", \"I thought I did a good job but wasn't recognized.\", 'I have to go back to school tomorrow.', \"My car won't start.\", 'Bushidokan class got canceled.', 'People are mean to me.', \"I'm not being paid.\", 'My legs are so sore and my feet hurt to walk.', 'No one wants to talk to me.', 'I felt irritated', 'I had to be up at 6 after going to bed at 4.', 'Lost at bowling', \"I'm lost without my Blackberry.\", \"I've got the flu\", 'I have an exam tomorrow', 'No one ever understands me.', 'I overslept', 'The Creative VADO`s are out of stock at Walmart.com.', \"I didn't feel well\", 'My work kicks in on Fridays', 'I burnt my hand on the cooker.', 'Feeling guilty', \"I can't take this.\", 'Bad weather', 'Not doing well', 'My best friend cries.', 'My father hurt a guinea pig.', 'Having to work a night shift.', \"Drove by Fisher's and felt sad\"]\n"
     ]
    },
    {
     "name": "stderr",
     "output_type": "stream",
     "text": [
      "100%|██████████| 33/33 [01:20<00:00,  2.44s/it]\n",
      "Processing: 100%|██████████| 156/156 [6:16:46<00:00, 144.92s/it]"
     ]
    },
    {
     "name": "stdout",
     "output_type": "stream",
     "text": [
      "处理完成。\n"
     ]
    },
    {
     "name": "stderr",
     "output_type": "stream",
     "text": [
      "\n"
     ]
    }
   ],
   "source": [
    "from langchain.llms import Ollama\n",
    "from guidance import models, gen\n",
    "import json\n",
    "import os\n",
    "import pandas as pd\n",
    "from tqdm import tqdm\n",
    "llm = Ollama(model=\"llama3:70b\")\n",
    "\n",
    "prompt_fewshot_GAS = '''\n",
    "                        Below I give the definitions of GAS. You must understand the definition firstly. \n",
    "                        Global attributional style:The explanation of individual indicates that the cause of the event affects the\n",
    "                        individual's whole life(global). It is useful to think of how a cause impacts the broad scope of an 'average'\n",
    "                        individual's life in terms of two major categories-achievement and affiliation. Achievement, for instance, would\n",
    "                        include occupational or academic success, accumulation of knowledge or skills, sense of individuality or\n",
    "                        independence, economic or social status. Affiliation includes intimate relationships, sense of belongingness, sex,\n",
    "                        play marital or family health.                  \n",
    "                        We refer to \"Global attributional style\" as GAS. \n",
    "                        Please refer to the example I gave:\n",
    "                        <example>\n",
    "                        Event: \"I failed my math test.\"\n",
    "                        GAS Post: \"I failed my math test, which means I'm probably going to be a failure in every aspect of my life.\"\n",
    "                        </example>\n",
    "                        <example>\n",
    "                        Event: \"My date didn't go well.\"\n",
    "                        GAS Post: \"My date didn't go well; I guess I'm just doomed to be alone and unsuccessful in everything I do.\"\n",
    "                        </example>\n",
    "                        After understanding this definition, I will now give you an Event. \n",
    "                        You need to generate corresponding GAS attribution social media post based on the Event. \n",
    "                        You should answer with a specific format. For example, you should output:\"Post:...\".\n",
    "                        '''\n",
    "\n",
    "def post_generation(input_filename, output_filename):\n",
    "    with open(input_filename, 'r') as file:\n",
    "        try:\n",
    "            data = json.load(file)\n",
    "            \n",
    "        except:\n",
    "            print(\"error\")\n",
    "        events = [o[\"Event\"] for o in data]\n",
    "        print(events)\n",
    "\n",
    "\n",
    "    data_list = []\n",
    "\n",
    "    for event in tqdm(events):\n",
    "        prompt = prompt_fewshot_GAS + event\n",
    "        res = llm.predict(prompt)\n",
    "        \n",
    "        result_str = res.split(\"Post:\", 1)[-1].strip()\n",
    "        data_res_dict = {\n",
    "            \"Event\": event,\n",
    "            \"Post\": result_str\n",
    "        }\n",
    "        data_list.append(data_res_dict)\n",
    "\n",
    "    with open(output_filename, 'w', encoding='utf-8') as json_file:\n",
    "        json.dump(data_list, json_file, indent=4)\n",
    "\n",
    "\n",
    "input_folder =f\"/home/qiang/projects/Digital_mental_health/Dataset/Candidate_dereddit_dataset/0_data\"\n",
    "output_folder = f\"/home/qiang/projects/Digital_mental_health/Dataset/Candidate_dereddit_dataset/1_GAS_SPAS/GAS_fewshot_llama3/\"\n",
    "\n",
    "# 确保输出文件夹存在\n",
    "os.makedirs(output_folder, exist_ok=True)\n",
    "\n",
    "for filename in tqdm(os.listdir(input_folder), desc=\"Processing\"):\n",
    "    \n",
    "    if filename.endswith(\".json\"):\n",
    "        input_filename = os.path.join(input_folder, filename)\n",
    "        print(input_filename)\n",
    "        output_filename = os.path.join(output_folder, os.path.basename(input_filename).split('.')[0]+'_GAS.json')\n",
    "        # 调用 post_generation 函数处理数据\n",
    "        post_generation(input_filename, output_filename)\n",
    "\n",
    "print(\"处理完成。\")"
   ]
  }
 ],
 "metadata": {
  "kernelspec": {
   "display_name": "base",
   "language": "python",
   "name": "python3"
  },
  "language_info": {
   "codemirror_mode": {
    "name": "ipython",
    "version": 3
   },
   "file_extension": ".py",
   "mimetype": "text/x-python",
   "name": "python",
   "nbconvert_exporter": "python",
   "pygments_lexer": "ipython3",
   "version": "3.11.5"
  }
 },
 "nbformat": 4,
 "nbformat_minor": 2
}
