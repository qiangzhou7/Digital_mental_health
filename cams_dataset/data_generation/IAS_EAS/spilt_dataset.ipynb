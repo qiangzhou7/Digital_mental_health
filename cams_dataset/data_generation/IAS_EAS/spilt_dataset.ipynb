{
 "cells": [
  {
   "cell_type": "markdown",
   "metadata": {},
   "source": [
    "### 将csv文件根据cause进行分割"
   ]
  },
  {
   "cell_type": "code",
   "execution_count": 3,
   "metadata": {},
   "outputs": [
    {
     "name": "stdout",
     "output_type": "stream",
     "text": [
      "Files have been saved successfully.\n"
     ]
    }
   ],
   "source": [
    "import pandas as pd\n",
    "from pathlib import Path\n",
    "\n",
    "file_path='./added_CAMS_data.csv'\n",
    "# Load the CSV file\n",
    "try:\n",
    "    df = pd.read_csv(file_path, encoding='utf-8')\n",
    "except UnicodeDecodeError:\n",
    "    try:\n",
    "        df = pd.read_csv(file_path, encoding='ISO-8859-1')  # 'latin1' is another common encoding\n",
    "    except UnicodeDecodeError:\n",
    "        df = pd.read_csv(file_path, encoding='cp1252')  # Another common encoding in Windows\n",
    "\n",
    "\n",
    "# Ensure the output directory exists\n",
    "output_dir = Path('./added_output/')\n",
    "output_dir.mkdir(parents=True, exist_ok=True)\n",
    "\n",
    "# Group the dataframe by the 'ANNOTATIONS' column\n",
    "grouped = df.groupby('cause')\n",
    "\n",
    "# Iterate over each group and save to a separate CSV file\n",
    "for name, group in grouped:\n",
    "    output_file_path = output_dir / f'{name}.csv'\n",
    "    group.to_csv(output_file_path, index=False)\n",
    "\n",
    "print(\"Files have been saved successfully.\")\n"
   ]
  },
  {
   "cell_type": "markdown",
   "metadata": {},
   "source": [
    "### 翻译csv文件并导出为中文csv文件"
   ]
  },
  {
   "cell_type": "code",
   "execution_count": 2,
   "metadata": {},
   "outputs": [
    {
     "name": "stdout",
     "output_type": "stream",
     "text": [
      "An error occurred during translation: 'Translator' object has no attribute 'raise_Exception'\n",
      "An error occurred during translation: 'Translator' object has no attribute 'raise_Exception'\n",
      "An error occurred during translation: 'Translator' object has no attribute 'raise_Exception'\n",
      "An error occurred during translation: 'Translator' object has no attribute 'raise_Exception'\n",
      "An error occurred during translation: 'Translator' object has no attribute 'raise_Exception'\n",
      "An error occurred during translation: 'Translator' object has no attribute 'raise_Exception'\n",
      "An error occurred during translation: 'Translator' object has no attribute 'raise_Exception'\n",
      "An error occurred during translation: 'Translator' object has no attribute 'raise_Exception'\n",
      "An error occurred during translation: 'Translator' object has no attribute 'raise_Exception'\n",
      "An error occurred during translation: 'Translator' object has no attribute 'raise_Exception'\n",
      "An error occurred during translation: 'Translator' object has no attribute 'raise_Exception'\n",
      "Translation completed and file saved.\n"
     ]
    }
   ],
   "source": [
    "import csv\n",
    "from googletrans import Translator\n",
    "import pandas as pd\n",
    "\n",
    "translator = Translator()\n",
    "\n",
    "def translate_to_chinese(text):\n",
    "    try:\n",
    "        # 尝试翻译文本\n",
    "        translation = translator.translate(text, dest=\"zh-cn\")\n",
    "        return translation.text\n",
    "    except Exception as e:\n",
    "        print(f\"An error occurred during translation: {e}\")\n",
    "        return text  # 如果翻译失败，返回原始文本\n",
    "\n",
    "\n",
    "# 读取CSV文件\n",
    "df = pd.read_csv('./added_output/0.csv')\n",
    "\n",
    "# 对第一列进行翻译\n",
    "df.iloc[:, 0] = df.iloc[:, 0].apply(translate_to_chinese)\n",
    "\n",
    "# 保存修改后的CSV文件\n",
    "df.to_csv('translated_output_file.csv', index=False)\n",
    "\n",
    "print(\"Translation completed and file saved.\")\n"
   ]
  },
  {
   "cell_type": "markdown",
   "metadata": {},
   "source": [
    "### 删选一些单词少的event\n"
   ]
  },
  {
   "cell_type": "code",
   "execution_count": 4,
   "metadata": {},
   "outputs": [
    {
     "name": "stdout",
     "output_type": "stream",
     "text": [
      "Before:50\n",
      "After:40\n",
      "已将过滤后的数据保存到 '0_test_event_filtered_data.json' 文件中。\n"
     ]
    }
   ],
   "source": [
    "from langchain.llms import Ollama\n",
    "from guidance import models, gen\n",
    "import json\n",
    "import os\n",
    "import pandas as pd\n",
    "from tqdm import tqdm\n",
    "\n",
    "\n",
    "input_filename='0_test_event.json'\n",
    "output_filename = \"0_test_event_filtered_data.json\"\n",
    "\n",
    "\n",
    "with open(input_filename, 'r') as file:\n",
    "        try:\n",
    "            data = json.load(file)\n",
    "        except:\n",
    "            print(\"error\")\n",
    "\n",
    "filtered_data_list = [element for element in data if len(element[\"Event\"].split()) >= 5]\n",
    "\n",
    "# 保存为新的 JSON 文件\n",
    "\n",
    "with open(output_filename, 'w', encoding='utf-8') as json_file:\n",
    "    json.dump(filtered_data_list, json_file, indent=4)\n",
    "\n",
    "print(f\"Before:{len(data)}\")\n",
    "print(f\"After:{len(filtered_data_list)}\")\n",
    "print(f\"已将过滤后的数据保存到 '{output_filename}' 文件中。\")"
   ]
  },
  {
   "cell_type": "code",
   "execution_count": 4,
   "metadata": {},
   "outputs": [
    {
     "name": "stdout",
     "output_type": "stream",
     "text": [
      "/home/qiang/projects/CAMS/CAMS/data/added_output/IAS_EAS_fewshot_70B/3_2_event_filtered_IAS_IAS2EAS.json\n",
      "/home/qiang/projects/CAMS/CAMS/data/added_output/IAS_EAS_fewshot_70B/5_2_event_filtered_IAS_IAS2EAS.json\n",
      "/home/qiang/projects/CAMS/CAMS/data/added_output/IAS_EAS_fewshot_70B/4_8_event_filtered_IAS_IAS2EAS.json\n",
      "/home/qiang/projects/CAMS/CAMS/data/added_output/IAS_EAS_fewshot_70B/5_0_event_filtered_IAS_IAS2EAS.json\n",
      "/home/qiang/projects/CAMS/CAMS/data/added_output/IAS_EAS_fewshot_70B/5_1_event_filtered_IAS_IAS2EAS.json\n",
      "/home/qiang/projects/CAMS/CAMS/data/added_output/IAS_EAS_fewshot_70B/3_7_event_filtered_IAS_IAS2EAS.json\n",
      "/home/qiang/projects/CAMS/CAMS/data/added_output/IAS_EAS_fewshot_70B/4_3_event_filtered_IAS_IAS2EAS.json\n",
      "/home/qiang/projects/CAMS/CAMS/data/added_output/IAS_EAS_fewshot_70B/4_2_event_filtered_IAS_IAS2EAS.json\n",
      "/home/qiang/projects/CAMS/CAMS/data/added_output/IAS_EAS_fewshot_70B/5_9_event_filtered_IAS_IAS2EAS.json\n",
      "/home/qiang/projects/CAMS/CAMS/data/added_output/IAS_EAS_fewshot_70B/0_5_event_filtered_IAS_IAS2EAS.json\n",
      "/home/qiang/projects/CAMS/CAMS/data/added_output/IAS_EAS_fewshot_70B/4_13_event_filtered_IAS_IAS2EAS.json\n",
      "/home/qiang/projects/CAMS/CAMS/data/added_output/IAS_EAS_fewshot_70B/0_2_event_filtered_IAS_IAS2EAS.json\n",
      "/home/qiang/projects/CAMS/CAMS/data/added_output/IAS_EAS_fewshot_70B/3_5_event_filtered_IAS_IAS2EAS.json\n",
      "/home/qiang/projects/CAMS/CAMS/data/added_output/IAS_EAS_fewshot_70B/5_12_event_filtered_IAS_IAS2EAS.json\n",
      "/home/qiang/projects/CAMS/CAMS/data/added_output/IAS_EAS_fewshot_70B/5_15_event_filtered_IAS_IAS2EAS.json\n",
      "/home/qiang/projects/CAMS/CAMS/data/added_output/IAS_EAS_fewshot_70B/2_0_event_filtered_IAS_IAS2EAS.json\n",
      "/home/qiang/projects/CAMS/CAMS/data/added_output/IAS_EAS_fewshot_70B/0_3_event_filtered_IAS_IAS2EAS.json\n",
      "/home/qiang/projects/CAMS/CAMS/data/added_output/IAS_EAS_fewshot_70B/5_16_event_filtered_IAS_IAS2EAS.json\n",
      "/home/qiang/projects/CAMS/CAMS/data/added_output/IAS_EAS_fewshot_70B/5_8_event_filtered_IAS_IAS2EAS.json\n",
      "/home/qiang/projects/CAMS/CAMS/data/added_output/IAS_EAS_fewshot_70B/3_4_event_filtered_IAS_IAS2EAS.json\n",
      "/home/qiang/projects/CAMS/CAMS/data/added_output/IAS_EAS_fewshot_70B/3_1_event_filtered_IAS_IAS2EAS.json\n",
      "/home/qiang/projects/CAMS/CAMS/data/added_output/IAS_EAS_fewshot_70B/5_14_event_filtered_IAS_IAS2EAS.json\n",
      "/home/qiang/projects/CAMS/CAMS/data/added_output/IAS_EAS_fewshot_70B/2_3_event_filtered_IAS_IAS2EAS.json\n",
      "/home/qiang/projects/CAMS/CAMS/data/added_output/IAS_EAS_fewshot_70B/4_10_event_filtered_IAS_IAS2EAS.json\n",
      "/home/qiang/projects/CAMS/CAMS/data/added_output/IAS_EAS_fewshot_70B/4_17_event_filtered_IAS_IAS2EAS.json\n",
      "/home/qiang/projects/CAMS/CAMS/data/added_output/IAS_EAS_fewshot_70B/2_4_event_filtered_IAS_IAS2EAS.json\n",
      "/home/qiang/projects/CAMS/CAMS/data/added_output/IAS_EAS_fewshot_70B/2_1_event_filtered_IAS_IAS2EAS.json\n",
      "/home/qiang/projects/CAMS/CAMS/data/added_output/IAS_EAS_fewshot_70B/5_11_event_filtered_IAS_IAS2EAS.json\n",
      "/home/qiang/projects/CAMS/CAMS/data/added_output/IAS_EAS_fewshot_70B/3_3_event_filtered_IAS_IAS2EAS.json\n",
      "/home/qiang/projects/CAMS/CAMS/data/added_output/IAS_EAS_fewshot_70B/1_0_event_filtered_IAS_IAS2EAS.json\n",
      "/home/qiang/projects/CAMS/CAMS/data/added_output/IAS_EAS_fewshot_70B/3_0_event_filtered_IAS_IAS2EAS.json\n",
      "/home/qiang/projects/CAMS/CAMS/data/added_output/IAS_EAS_fewshot_70B/5_10_event_filtered_IAS_IAS2EAS.json\n",
      "/home/qiang/projects/CAMS/CAMS/data/added_output/IAS_EAS_fewshot_70B/5_13_event_filtered_IAS_IAS2EAS.json\n",
      "/home/qiang/projects/CAMS/CAMS/data/added_output/IAS_EAS_fewshot_70B/4_0_event_filtered_IAS_IAS2EAS.json\n",
      "/home/qiang/projects/CAMS/CAMS/data/added_output/IAS_EAS_fewshot_70B/4_15_event_filtered_IAS_IAS2EAS.json\n",
      "/home/qiang/projects/CAMS/CAMS/data/added_output/IAS_EAS_fewshot_70B/3_8_event_filtered_IAS_IAS2EAS.json\n",
      "/home/qiang/projects/CAMS/CAMS/data/added_output/IAS_EAS_fewshot_70B/5_18_event_filtered_IAS_IAS2EAS.json\n",
      "/home/qiang/projects/CAMS/CAMS/data/added_output/IAS_EAS_fewshot_70B/0_1_event_filtered_IAS_IAS2EAS.json\n",
      "/home/qiang/projects/CAMS/CAMS/data/added_output/IAS_EAS_fewshot_70B/4_18_event_filtered_IAS_IAS2EAS.json\n",
      "/home/qiang/projects/CAMS/CAMS/data/added_output/IAS_EAS_fewshot_70B/2_5_event_filtered_IAS_IAS2EAS.json\n",
      "/home/qiang/projects/CAMS/CAMS/data/added_output/IAS_EAS_fewshot_70B/2_6_event_filtered_IAS_IAS2EAS.json\n",
      "/home/qiang/projects/CAMS/CAMS/data/added_output/IAS_EAS_fewshot_70B/1_1_event_filtered_IAS_IAS2EAS.json\n",
      "/home/qiang/projects/CAMS/CAMS/data/added_output/IAS_EAS_fewshot_70B/5_6_event_filtered_IAS_IAS2EAS.json\n",
      "/home/qiang/projects/CAMS/CAMS/data/added_output/IAS_EAS_fewshot_70B/2_7_event_filtered_IAS_IAS2EAS.json\n",
      "/home/qiang/projects/CAMS/CAMS/data/added_output/IAS_EAS_fewshot_70B/1_2_event_filtered_IAS_IAS2EAS.json\n",
      "/home/qiang/projects/CAMS/CAMS/data/added_output/IAS_EAS_fewshot_70B/3_6_event_filtered_IAS_IAS2EAS.json\n",
      "/home/qiang/projects/CAMS/CAMS/data/added_output/IAS_EAS_fewshot_70B/4_4_event_filtered_IAS_IAS2EAS.json\n",
      "/home/qiang/projects/CAMS/CAMS/data/added_output/IAS_EAS_fewshot_70B/0_0_event_filtered_IAS_IAS2EAS.json\n",
      "/home/qiang/projects/CAMS/CAMS/data/added_output/IAS_EAS_fewshot_70B/4_6_event_filtered_IAS_IAS2EAS.json\n",
      "/home/qiang/projects/CAMS/CAMS/data/added_output/IAS_EAS_fewshot_70B/5_19_event_filtered_IAS_IAS2EAS.json\n",
      "/home/qiang/projects/CAMS/CAMS/data/added_output/IAS_EAS_fewshot_70B/5_17_event_filtered_IAS_IAS2EAS.json\n",
      "/home/qiang/projects/CAMS/CAMS/data/added_output/IAS_EAS_fewshot_70B/4_14_event_filtered_IAS_IAS2EAS.json\n",
      "/home/qiang/projects/CAMS/CAMS/data/added_output/IAS_EAS_fewshot_70B/4_5_event_filtered_IAS_IAS2EAS.json\n",
      "/home/qiang/projects/CAMS/CAMS/data/added_output/IAS_EAS_fewshot_70B/2_2_event_filtered_IAS_IAS2EAS.json\n",
      "/home/qiang/projects/CAMS/CAMS/data/added_output/IAS_EAS_fewshot_70B/4_16_event_filtered_IAS_IAS2EAS.json\n",
      "/home/qiang/projects/CAMS/CAMS/data/added_output/IAS_EAS_fewshot_70B/4_9_event_filtered_IAS_IAS2EAS.json\n",
      "/home/qiang/projects/CAMS/CAMS/data/added_output/IAS_EAS_fewshot_70B/5_4_event_filtered_IAS_IAS2EAS.json\n",
      "/home/qiang/projects/CAMS/CAMS/data/added_output/IAS_EAS_fewshot_70B/4_1_event_filtered_IAS_IAS2EAS.json\n",
      "/home/qiang/projects/CAMS/CAMS/data/added_output/IAS_EAS_fewshot_70B/4_7_event_filtered_IAS_IAS2EAS.json\n",
      "/home/qiang/projects/CAMS/CAMS/data/added_output/IAS_EAS_fewshot_70B/5_5_event_filtered_IAS_IAS2EAS.json\n",
      "/home/qiang/projects/CAMS/CAMS/data/added_output/IAS_EAS_fewshot_70B/0_4_event_filtered_IAS_IAS2EAS.json\n",
      "/home/qiang/projects/CAMS/CAMS/data/added_output/IAS_EAS_fewshot_70B/4_19_event_filtered_IAS_IAS2EAS.json\n",
      "/home/qiang/projects/CAMS/CAMS/data/added_output/IAS_EAS_fewshot_70B/4_11_event_filtered_IAS_IAS2EAS.json\n",
      "/home/qiang/projects/CAMS/CAMS/data/added_output/IAS_EAS_fewshot_70B/5_7_event_filtered_IAS_IAS2EAS.json\n",
      "/home/qiang/projects/CAMS/CAMS/data/added_output/IAS_EAS_fewshot_70B/5_3_event_filtered_IAS_IAS2EAS.json\n",
      "/home/qiang/projects/CAMS/CAMS/data/added_output/IAS_EAS_fewshot_70B/4_12_event_filtered_IAS_IAS2EAS.json\n",
      "所有文件处理完毕。\n"
     ]
    }
   ],
   "source": [
    "import json\n",
    "import glob\n",
    "import os\n",
    "\n",
    "# 定义原始文件夹和目标文件夹\n",
    "source_folder = '/home/qiang/projects/CAMS/CAMS/data/added_output/IAS_EAS_fewshot_70B'\n",
    "target_folder = '/home/qiang/projects/CAMS/CAMS/data/added_output/IAS_EAS_fewshot_70B_modified'\n",
    "\n",
    "# 确保目标文件夹存在\n",
    "os.makedirs(target_folder, exist_ok=True)\n",
    "\n",
    "# 获取所有json文件的列表\n",
    "files = glob.glob(os.path.join(source_folder, '*.json'))\n",
    "\n",
    "# 初始化ID\n",
    "current_id = 1\n",
    "\n",
    "for file in files:\n",
    "    # 读取文件内容\n",
    "    with open(file, 'r', encoding='utf-8') as f:\n",
    "        data = json.load(f)\n",
    "    \n",
    "    # 为每个Post添加ID\n",
    "    for item in data:\n",
    "        item['ID'] = current_id\n",
    "        current_id += 1\n",
    "    \n",
    "    # 写回修改后的数据到新文件夹中\n",
    "    # 获取原始文件名\n",
    "    base_name = os.path.basename(file)\n",
    "    new_file_name = os.path.join(target_folder, f\"modified_{base_name}\")\n",
    "    with open(new_file_name, 'w', encoding='utf-8') as f:\n",
    "        json.dump(data, f, ensure_ascii=False, indent=4)\n",
    "    print(file)\n",
    "\n",
    "print(\"所有文件处理完毕。\")\n"
   ]
  }
 ],
 "metadata": {
  "kernelspec": {
   "display_name": "base",
   "language": "python",
   "name": "python3"
  },
  "language_info": {
   "codemirror_mode": {
    "name": "ipython",
    "version": 3
   },
   "file_extension": ".py",
   "mimetype": "text/x-python",
   "name": "python",
   "nbconvert_exporter": "python",
   "pygments_lexer": "ipython3",
   "version": "3.11.5"
  }
 },
 "nbformat": 4,
 "nbformat_minor": 2
}
