{
 "cells": [
  {
   "cell_type": "code",
   "execution_count": 1,
   "metadata": {},
   "outputs": [],
   "source": [
    "import json\n",
    "\n",
    "json_file=\"/home/qiang/projects/Digital_mental_health/Dataset/refined_dataset/100/ChatGPT_classification/IAS2EAS.json\"\n",
    "\n",
    "# Assume 'data.json' is your original file\n",
    "with open(json_file, 'r') as file:\n",
    "    data = json.load(file)\n",
    "\n",
    "# Create a new list to hold the transformed data\n",
    "new_data = []\n",
    "\n",
    "# Loop through the original data and reformat it\n",
    "for item in data:\n",
    "    new_data.append({\n",
    "        \"Post\": item[\"Post\"],\n",
    "        \"label\": \"IAS\"  # Assuming IAS represents the original post label\n",
    "    })\n",
    "    new_data.append({\n",
    "        \"Post\": item[\"Transferred_Post\"],\n",
    "        \"label\": \"EAS\"  # Assuming EAS represents the transferred post label\n",
    "    })\n",
    "\n",
    "# Write the new data to a file\n",
    "with open(json_file, 'w') as file:\n",
    "    json.dump(new_data, file, indent=2)"
   ]
  }
 ],
 "metadata": {
  "kernelspec": {
   "display_name": "base",
   "language": "python",
   "name": "python3"
  },
  "language_info": {
   "codemirror_mode": {
    "name": "ipython",
    "version": 3
   },
   "file_extension": ".py",
   "mimetype": "text/x-python",
   "name": "python",
   "nbconvert_exporter": "python",
   "pygments_lexer": "ipython3",
   "version": "3.11.5"
  }
 },
 "nbformat": 4,
 "nbformat_minor": 2
}
