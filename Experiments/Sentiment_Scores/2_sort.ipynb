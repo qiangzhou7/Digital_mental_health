{
 "cells": [
  {
   "cell_type": "code",
   "execution_count": 2,
   "metadata": {},
   "outputs": [
    {
     "name": "stdout",
     "output_type": "stream",
     "text": [
      "Sorted data saved to /home/qiang/projects/Digital_mental_health/Experiments/Sentiment_Scores/IAS2EAS_sentiment_sorted.json\n"
     ]
    }
   ],
   "source": [
    "import json\n",
    "\n",
    "# 读取原始的json文件\n",
    "input_file = \"/home/qiang/projects/Digital_mental_health/Experiments/Sentiment_Scores/SAS2UAS_sentiment.json\"\n",
    "with open(input_file, 'r') as f:\n",
    "    data = json.load(f)\n",
    "\n",
    "# 根据\"Transferred_Post_Negative\"的分数进行降序排序\n",
    "sorted_data = sorted(data, key=lambda x: x[\"Transferred_Post_Negative\"], reverse=True)\n",
    "\n",
    "# 保存排序后的数据到新的json文件中\n",
    "output_file = \"/home/qiang/projects/Digital_mental_health/Experiments/Sentiment_Scores/SAS2UAS_sentiment_sorted.json\"\n",
    "with open(output_file, 'w') as f:\n",
    "    json.dump(sorted_data, f, indent=4)\n",
    "\n",
    "print(\"Sorted data saved to\", output_file)\n"
   ]
  }
 ],
 "metadata": {
  "kernelspec": {
   "display_name": "base",
   "language": "python",
   "name": "python3"
  },
  "language_info": {
   "codemirror_mode": {
    "name": "ipython",
    "version": 3
   },
   "file_extension": ".py",
   "mimetype": "text/x-python",
   "name": "python",
   "nbconvert_exporter": "python",
   "pygments_lexer": "ipython3",
   "version": "3.11.5"
  }
 },
 "nbformat": 4,
 "nbformat_minor": 2
}
