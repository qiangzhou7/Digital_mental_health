{
 "cells": [
  {
   "cell_type": "markdown",
   "metadata": {},
   "source": [
    "## 提取content和post, 还有rating的结果"
   ]
  },
  {
   "cell_type": "code",
   "execution_count": 3,
   "metadata": {},
   "outputs": [],
   "source": [
    "import json\n",
    "\n",
    "def extract_content_and_transferred_post(input_file, output_file):\n",
    "    with open(input_file, 'r', encoding='utf-8') as f:\n",
    "        data = json.load(f)\n",
    "\n",
    "    extracted_data = []\n",
    "\n",
    "    for example in data['examples']:\n",
    "        transferred_post = example['content']\n",
    "        content= example['metadata']['Post']\n",
    "        r=[]\n",
    "        for result in example['classifications']:\n",
    "            r.append(result['classname'])\n",
    "         \n",
    "        extracted_data.append({'Post': content, 'Transferred_Post': transferred_post, 'result':r})\n",
    "\n",
    "    with open(output_file, 'w', encoding='utf-8') as f:\n",
    "        json.dump(extracted_data, f, ensure_ascii=False, indent=4)\n",
    "\n",
    "# 使用示例\n",
    "input_file = '/home/qiang/projects/Digital_mental_health/Experiments/Rating/0518/zhuoran_51_100_llama2_7b_0518_annotations.json'\n",
    "output_file = '/home/qiang/projects/Digital_mental_health/Experiments/Rating/0518/GAS2SPAS_51_100_LLAMA2_7B_0518.json'\n",
    "extract_content_and_transferred_post(input_file, output_file)\n"
   ]
  },
  {
   "cell_type": "markdown",
   "metadata": {},
   "source": [
    "## 统计rating结果"
   ]
  },
  {
   "cell_type": "code",
   "execution_count": 6,
   "metadata": {},
   "outputs": [
    {
     "name": "stdout",
     "output_type": "stream",
     "text": [
      "Event_1: 16\n",
      "Event_2: 34\n",
      "Solution_2: 29\n",
      "Solution_3: 21\n",
      "Transfer_1: 24\n",
      "Transfer_3: 26\n"
     ]
    }
   ],
   "source": [
    "import json\n",
    "\n",
    "def count_result_types(input_file):\n",
    "    with open(input_file, 'r') as f:\n",
    "        data = json.load(f)\n",
    "    \n",
    "    result_types = {}\n",
    "    for data_ in data:\n",
    "        for item in data_[\"result\"]:\n",
    "            result_types[item] = result_types.get(item, 0) + 1\n",
    "    \n",
    "    return result_types\n",
    "\n",
    "# 指定输入文件的路径\n",
    "input_file_path = '/home/qiang/projects/Digital_mental_health/Experiments/Rating/0518/GAS2SPAS_51_100_LLAMA2_7B_0518.json'\n",
    "\n",
    "# 调用函数，统计不同类型的数量\n",
    "result_counts = count_result_types(input_file_path)\n",
    "\n",
    "# 对结果进行排序\n",
    "sorted_result_counts = dict(sorted(result_counts.items()))\n",
    "\n",
    "# 输出结果\n",
    "for result_type, count in sorted_result_counts.items():\n",
    "    print(f\"{result_type}: {count}\")\n"
   ]
  },
  {
   "cell_type": "markdown",
   "metadata": {},
   "source": [
    "## Split"
   ]
  },
  {
   "cell_type": "code",
   "execution_count": 1,
   "metadata": {},
   "outputs": [],
   "source": [
    "import json\n",
    "\n",
    "def select_first_100_elements(input_file, output_file):\n",
    "    with open(input_file, 'r') as f:\n",
    "        data = json.load(f)\n",
    "    \n",
    "    selected_data = data[100:150]\n",
    "\n",
    "    with open(output_file, 'w') as f:\n",
    "        json.dump(selected_data, f)\n",
    "\n",
    "# 指定输入和输出文件的路径\n",
    "input_file_path = '/home/qiang/projects/Digital_mental_health/Dataset/Refined_dataset/BLEU/SAS2UAS/BLEU4_SAS2UAS_merge_llama3.json'\n",
    "output_file_path = '/home/qiang/projects/Digital_mental_health/Experiments/Rating/50_GAS2SPAS/GAS2SPAS_100_150.json'\n",
    "\n",
    "# 调用函数，选择前100个元素并保存为新的JSON文件\n",
    "select_first_100_elements(input_file_path, output_file_path)"
   ]
  }
 ],
 "metadata": {
  "kernelspec": {
   "display_name": "base",
   "language": "python",
   "name": "python3"
  },
  "language_info": {
   "codemirror_mode": {
    "name": "ipython",
    "version": 3
   },
   "file_extension": ".py",
   "mimetype": "text/x-python",
   "name": "python",
   "nbconvert_exporter": "python",
   "pygments_lexer": "ipython3",
   "version": "3.11.5"
  }
 },
 "nbformat": 4,
 "nbformat_minor": 2
}
