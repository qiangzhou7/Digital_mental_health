{
 "cells": [
  {
   "cell_type": "code",
   "execution_count": 1,
   "metadata": {},
   "outputs": [
    {
     "data": {
      "text/plain": [
       "BLEU = 48.53 82.4/50.0/45.5/37.5 (BP = 0.943 ratio = 0.944 hyp_len = 17 ref_len = 18)"
      ]
     },
     "execution_count": 1,
     "metadata": {},
     "output_type": "execute_result"
    }
   ],
   "source": [
    "from sacrebleu.metrics import BLEU, CHRF, TER\n",
    "\n",
    "refs = [ # First set of references\n",
    "          ['The dog bit the man.', 'It was not unexpected.', 'The man bit him first.'],\n",
    "          # Second set of references\n",
    "          ['The dog had bit the man.', 'No one was surprised.', 'The man had bitten the dog.'],\n",
    "]\n",
    "sys = ['The dog bit the man.', \"It wasn't surprising.\", 'The man had just bitten him.']\n",
    "       \n",
    "bleu = BLEU()\n",
    "\n",
    "bleu.corpus_score(sys, refs)\n",
    "# BLEU = 48.53 82.4/50.0/45.5/37.5 (BP = 0.943 ratio = 0.944 hyp_len = 17 ref_len = 18)\n",
    "\n",
    "# bleu.get_signature()\n",
    "# nrefs:2|case:mixed|eff:no|tok:13a|smooth:exp|version:2.0.0\n",
    "\n",
    "# chrf = CHRF()\n",
    "\n",
    "# chrf.corpus_score(sys, refs)\n",
    "# chrF2 = 59.73"
   ]
  },
  {
   "cell_type": "code",
   "execution_count": 1,
   "metadata": {},
   "outputs": [
    {
     "name": "stdout",
     "output_type": "stream",
     "text": [
      "/home/qiang/projects/Digital_mental_health/BLEU/random_from_cams/modified_0_2_event_filtered_IAS_IAS2EAS.json\n",
      "/home/qiang/projects/Digital_mental_health/BLEU/random_from_cams/2_0_4_event_filtered_SAS_SAS2UAS.json\n",
      "/home/qiang/projects/Digital_mental_health/BLEU/random_from_cams/3_0_2_event_filtered_GAS_GAS2SPAS.json\n",
      "所有文件处理完毕。\n"
     ]
    },
    {
     "name": "stderr",
     "output_type": "stream",
     "text": [
      "[nltk_data] Downloading package punkt to /home/qiang/nltk_data...\n",
      "[nltk_data]   Package punkt is already up-to-date!\n"
     ]
    }
   ],
   "source": [
    "import json\n",
    "import glob\n",
    "import os\n",
    "from sacrebleu.metrics import BLEU, CHRF, TER\n",
    "from nltk.tokenize import sent_tokenize\n",
    "import nltk\n",
    "nltk.download('punkt')\n",
    "# 定义原始文件夹和目标文件夹\n",
    "source_folder = '/home/qiang/projects/Digital_mental_health/BLEU/random_from_cams'\n",
    "target_folder = '/home/qiang/projects/Digital_mental_health/final_dataset/SAS2UAS'\n",
    "\n",
    "# 确保目标文件夹存在\n",
    "os.makedirs(target_folder, exist_ok=True)\n",
    "\n",
    "# 获取所有json文件的列表\n",
    "files = glob.glob(os.path.join(source_folder, '*.json'))\n",
    "\n",
    "# 初始化ID\n",
    "\n",
    "\n",
    "for file in files:\n",
    "    # 读取文件内容\n",
    "    with open(file, 'r', encoding='utf-8') as f:\n",
    "        json_data = json.load(f)\n",
    "        for item in json_data:\n",
    "            print(item['Post'])\n",
    "            print(item)\n",
    "            post_sentences = sent_tokenize(item[\"Post\"])\n",
    "            transfered_post_sentences=sent_tokenize(item[\"Transferred_Post\"])\n",
    "            bleu = BLEU()\n",
    "            item[\"BLEU\"]=str(bleu.corpus_score(transfered_post_sentences, post_sentences)).split(\"=\", 1)[1].strip()\n",
    "            \n",
    "    # # 写回修改后的数据到新文件夹中\n",
    "    # # 获取原始文件名\n",
    "    base_name = os.path.basename(file)\n",
    "    new_file_name = os.path.join(target_folder, f\"BLEU4_{base_name}\")\n",
    "    with open(new_file_name, 'w', encoding='utf-8') as f:\n",
    "        json.dump(json_data, f, ensure_ascii=False, indent=4)\n",
    "    print(file)\n",
    "\n",
    "print(\"所有文件处理完毕。\")"
   ]
  },
  {
   "cell_type": "code",
   "execution_count": 6,
   "metadata": {},
   "outputs": [],
   "source": [
    "import json\n",
    "import re\n",
    "\n",
    "input_json='/home/qiang/projects/Digital_mental_health/BLEU/random_from_cams/BLEU4_SAS2UAS.json'\n",
    "output_json='/home/qiang/projects/Digital_mental_health/BLEU/random_from_cams/Sorted_BLEU4_SAS2UAS.json'\n",
    "# 读取 JSON 文件\n",
    "with open(input_json, 'r', encoding='utf-8') as file:\n",
    "    data = json.load(file)\n",
    "\n",
    "# 提取并转换 BLEU 部分为数字\n",
    "for item in data:\n",
    "    bleu_match = re.search(r'(\\d+\\.\\d+)', item['BLEU'])\n",
    "    if bleu_match:\n",
    "        bleu_score = float(bleu_match.group(1))\n",
    "        item['BLEU_score'] = bleu_score\n",
    "    else:\n",
    "        item['BLEU_score'] = 0.0\n",
    "\n",
    "# 根据 BLEU 分数排序\n",
    "sorted_data = sorted(data, key=lambda x: x['BLEU_score'], reverse=True)\n",
    "\n",
    "# 保存排序后的数据\n",
    "with open(output_json, 'w', encoding='utf-8') as file:\n",
    "    json.dump(sorted_data, file, ensure_ascii=False, indent=4)\n"
   ]
  },
  {
   "cell_type": "code",
   "execution_count": 7,
   "metadata": {},
   "outputs": [
    {
     "data": {
      "image/png": "[encoded data removed]",
      "text/plain": [
       "<Figure size 640x480 with 1 Axes>"
      ]
     },
     "metadata": {},
     "output_type": "display_data"
    },
    {
     "name": "stdout",
     "output_type": "stream",
     "text": [
      "Average BLEU Score: 1.0080000000000002\n"
     ]
    }
   ],
   "source": [
    "import json\n",
    "import matplotlib.pyplot as plt\n",
    "\n",
    "def extract_bleu_scores(json_data):\n",
    "    bleu_scores = [item['BLEU_score'] for item in json_data]\n",
    "    return bleu_scores\n",
    "\n",
    "def plot_histogram(bleu_scores):\n",
    "    plt.hist(bleu_scores, bins=10, color='skyblue', edgecolor='black')\n",
    "    plt.xlabel('BLEU Score')\n",
    "    plt.ylabel('Frequency')\n",
    "    plt.title('Distribution of BLEU Scores (SAS2UAS)')\n",
    "    plt.grid(True)\n",
    "    plt.show()\n",
    "\n",
    "def calculate_average(bleu_scores):\n",
    "    return sum(bleu_scores) / len(bleu_scores)\n",
    "\n",
    "def main():\n",
    "    input_json=\"/home/qiang/projects/Digital_mental_health/BLEU/random_from_cams/Sorted_BLEU4_SAS2UAS.json\"\n",
    "    with open(input_json, 'r', encoding='utf-8') as file:\n",
    "        json_data = json.load(file)\n",
    "\n",
    "    bleu_scores = extract_bleu_scores(json_data)\n",
    "    plot_histogram(bleu_scores)\n",
    "\n",
    "    average_bleu_score = calculate_average(bleu_scores)\n",
    "    print(\"Average BLEU Score:\", average_bleu_score)\n",
    "\n",
    "if __name__ == '__main__':\n",
    "    main()"
   ]
  }
 ],
 "metadata": {
  "kernelspec": {
   "display_name": "base",
   "language": "python",
   "name": "python3"
  },
  "language_info": {
   "codemirror_mode": {
    "name": "ipython",
    "version": 3
   },
   "file_extension": ".py",
   "mimetype": "text/x-python",
   "name": "python",
   "nbconvert_exporter": "python",
   "pygments_lexer": "ipython3",
   "version": "3.11.5"
  }
 },
 "nbformat": 4,
 "nbformat_minor": 2
}
