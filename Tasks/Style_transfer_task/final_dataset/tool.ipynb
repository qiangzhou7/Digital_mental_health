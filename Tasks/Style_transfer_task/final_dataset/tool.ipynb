{
 "cells": [
  {
   "cell_type": "code",
   "execution_count": 3,
   "metadata": {},
   "outputs": [
    {
     "name": "stdout",
     "output_type": "stream",
     "text": [
      "Random elements saved to /home/qiang/projects/Digital_mental_health/Tasks/Style_transfer_task/final_dataset/SAS2UAS/20_SAS2UAS.json\n"
     ]
    }
   ],
   "source": [
    "import json\n",
    "import random\n",
    "\n",
    "def select_random_elements(json_file, num_elements):\n",
    "    # 读取 JSON 文件\n",
    "    with open(json_file, 'r', encoding='utf-8') as f:\n",
    "        data = json.load(f)\n",
    "\n",
    "    # 随机选择元素\n",
    "    random_elements = random.sample(data, min(num_elements, len(data)))\n",
    "\n",
    "    return random_elements\n",
    "\n",
    "def save_to_json(data, output_file):\n",
    "    # 将数据保存到 JSON 文件\n",
    "    with open(output_file, 'w', encoding='utf-8') as f:\n",
    "        json.dump(data, f, ensure_ascii=False, indent=4)\n",
    "\n",
    "if __name__ == \"__main__\":\n",
    "    input_json_file = \"/home/qiang/projects/Digital_mental_health/Tasks/Style_transfer_task/final_dataset/SAS2UAS/SAS2UAS.json\"  # 输入的 JSON 文件名\n",
    "    output_json_file = \"/home/qiang/projects/Digital_mental_health/Tasks/Style_transfer_task/final_dataset/SAS2UAS/20_SAS2UAS.json\"  # 输出的 JSON 文件名\n",
    "    num_elements_to_select = 20  # 要选择的元素数量\n",
    "\n",
    "    # 从 JSON 文件中随机选择元素\n",
    "    random_elements = select_random_elements(input_json_file, num_elements_to_select)\n",
    "\n",
    "    # 将随机选择的元素保存到新文件中\n",
    "    save_to_json(random_elements, output_json_file)\n",
    "\n",
    "    print(\"Random elements saved to\", output_json_file)\n"
   ]
  }
 ],
 "metadata": {
  "kernelspec": {
   "display_name": "base",
   "language": "python",
   "name": "python3"
  },
  "language_info": {
   "codemirror_mode": {
    "name": "ipython",
    "version": 3
   },
   "file_extension": ".py",
   "mimetype": "text/x-python",
   "name": "python",
   "nbconvert_exporter": "python",
   "pygments_lexer": "ipython3",
   "version": "3.11.5"
  }
 },
 "nbformat": 4,
 "nbformat_minor": 2
}
