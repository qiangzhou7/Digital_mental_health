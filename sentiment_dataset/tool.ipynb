{
 "cells": [
  {
   "cell_type": "code",
   "execution_count": 4,
   "metadata": {},
   "outputs": [
    {
     "name": "stdout",
     "output_type": "stream",
     "text": [
      "Negative sentiment rows have been saved to 'negative_sentiments_test.csv'.\n"
     ]
    }
   ],
   "source": [
    "import csv\n",
    "\n",
    "# 输入和输出文件的名称\n",
    "input_filename = '/Users/qiangzhou/Library/CloudStorage/OneDrive-UniversityofPittsburgh/projects/Digital_mental_health/sentiment_dataset/tweet-sentiment-extraction/test.csv'\n",
    "output_filename = 'negative_sentiments_test.csv'\n",
    "\n",
    "# 打开输入文件并读取内容\n",
    "with open(input_filename, mode='r', encoding='utf-8') as infile:\n",
    "    reader = csv.reader(infile)\n",
    "    # 获取列名\n",
    "    headers = next(reader)\n",
    "    \n",
    "    # 打开输出文件准备写入\n",
    "    with open(output_filename, mode='w', encoding='utf-8', newline='') as outfile:\n",
    "        writer = csv.writer(outfile)\n",
    "        # 写入列名\n",
    "        writer.writerow(headers)\n",
    "        \n",
    "        # 遍历输入文件中的每一行\n",
    "        for row in reader:\n",
    "            # 检查第四列（假设列索引从0开始）的值是否为'negative'\n",
    "            if row[2] == 'negative':\n",
    "                # 如果是，写入到输出文件中\n",
    "                writer.writerow(row)\n",
    "\n",
    "print(f\"Negative sentiment rows have been saved to '{output_filename}'.\")"
   ]
  },
  {
   "cell_type": "code",
   "execution_count": 8,
   "metadata": {},
   "outputs": [
    {
     "name": "stdout",
     "output_type": "stream",
     "text": [
      "Data has been successfully saved to 'negative_event_train.json'.\n"
     ]
    }
   ],
   "source": [
    "import csv\n",
    "import json\n",
    "\n",
    "# 输入CSV文件和输出JSON文件的名称\n",
    "input_csv_filename = '/Users/qiangzhou/Library/CloudStorage/OneDrive-UniversityofPittsburgh/projects/Digital_mental_health/sentiment_dataset/negative_sentiments_train.csv'\n",
    "output_json_filename = 'negative_event_train.json'\n",
    "\n",
    "# 初始化一个空列表来存储转换后的数据\n",
    "data = []\n",
    "\n",
    "# 打开并读取CSV文件\n",
    "with open(input_csv_filename, mode='r', encoding='utf-8') as csv_file:\n",
    "    reader = csv.reader(csv_file)\n",
    "    next(reader)  # 跳过列名行（如果CSV文件包含列名行）\n",
    "    \n",
    "    # 遍历CSV文件中的每一行\n",
    "    for row in reader:\n",
    "        # 提取第四列的内容（假设列索引从0开始），并创建一个字典\n",
    "        entry = {\n",
    "            \"Origin_reddit\": row[1],  # 假设第四列就是我们想要的内容\n",
    "            \"Event\": row[1]  # 因示例中没有具体说明Event列的内容，这里使用静态字符串\"content\"\n",
    "        }\n",
    "        # 将字典添加到数据列表中\n",
    "        data.append(entry)\n",
    "\n",
    "# 将数据列表保存为JSON格式的文件\n",
    "with open(output_json_filename, mode='w', encoding='utf-8') as json_file:\n",
    "    json.dump(data, json_file, indent=4)\n",
    "\n",
    "print(f\"Data has been successfully saved to '{output_json_filename}'.\")\n"
   ]
  }
 ],
 "metadata": {
  "kernelspec": {
   "display_name": "base",
   "language": "python",
   "name": "python3"
  },
  "language_info": {
   "codemirror_mode": {
    "name": "ipython",
    "version": 3
   },
   "file_extension": ".py",
   "mimetype": "text/x-python",
   "name": "python",
   "nbconvert_exporter": "python",
   "pygments_lexer": "ipython3",
   "version": "3.11.5"
  }
 },
 "nbformat": 4,
 "nbformat_minor": 2
}
